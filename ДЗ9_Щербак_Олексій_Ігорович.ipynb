{
  "nbformat": 4,
  "nbformat_minor": 0,
  "metadata": {
    "colab": {
      "provenance": [],
      "authorship_tag": "ABX9TyN8RNwfTXAwaCHGP5ucGwHl",
      "include_colab_link": true
    },
    "kernelspec": {
      "name": "python3",
      "display_name": "Python 3"
    },
    "language_info": {
      "name": "python"
    }
  },
  "cells": [
    {
      "cell_type": "markdown",
      "metadata": {
        "id": "view-in-github",
        "colab_type": "text"
      },
      "source": [
        "<a href=\"https://colab.research.google.com/github/oleksii-shcherbak/GoIt-Math/blob/main/%D0%94%D0%979_%D0%A9%D0%B5%D1%80%D0%B1%D0%B0%D0%BA_%D0%9E%D0%BB%D0%B5%D0%BA%D1%81%D1%96%D0%B9_%D0%86%D0%B3%D0%BE%D1%80%D0%BE%D0%B2%D0%B8%D1%87.ipynb\" target=\"_parent\"><img src=\"https://colab.research.google.com/assets/colab-badge.svg\" alt=\"Open In Colab\"/></a>"
      ]
    },
    {
      "cell_type": "markdown",
      "source": [
        "**Linear Programming Problem Formulation:**\n",
        "\n",
        "Objective Function (Maximize Profit):\n",
        "$$ Z = 2x_1 + 9x_2 + 6x_3 $$\n",
        "where:\n",
        "$x_1$ - number of websites\n",
        "$x_2$ - number of online stores\n",
        "$x_3$ - number of ERP integrations\n",
        "\n",
        "Constraints:\n",
        "$$ 12x_1 + 6x_2 + 2x_3 \\leq 192 \\quad \\text{(designer hours)} $$\n",
        "$$ 12x_1 + 24x_2 + 18x_3 \\leq 320 \\quad \\text{(developer hours)} $$\n",
        "$$ 12x_1 + 18x_2 + 12x_3 \\leq 180 \\quad \\text{(tester hours)} $$\n",
        "$$ x_1 \\geq 0, x_2 \\geq 0, x_3 \\geq 0 $$"
      ],
      "metadata": {
        "id": "zPh7Wlzlo4VS"
      }
    },
    {
      "cell_type": "code",
      "source": [
        "from scipy.optimize import linprog\n",
        "import numpy as np\n",
        "\n",
        "# Coefficients of the objective function (maximize, so use negative)\n",
        "c = [-2, -9, -6]\n",
        "\n",
        "# Coefficients of the inequality constraints (A_ub * x <= b_ub)\n",
        "A_ub = [\n",
        "    [12, 6, 2],   # Designer hours\n",
        "    [12, 24, 18],  # Developer hours\n",
        "    [12, 18, 12]   # Tester hours\n",
        "]\n",
        "\n",
        "# Upper bounds for the inequality constraints\n",
        "b_ub = [192, 320, 180]\n",
        "\n",
        "# Bounds for the decision variables (non-negative)\n",
        "bounds = [(0, None), (0, None), (0, None)]\n",
        "\n",
        "# Solve the linear programming problem using the 'highs' method\n",
        "result = linprog(c, A_ub=A_ub, b_ub=b_ub, bounds=bounds, method='highs')\n",
        "\n",
        "# Print the results\n",
        "print(\"Optimal solution:\")\n",
        "print(f\"Number of Websites (x1): {result.x[0]:.2f}\")\n",
        "print(f\"Number of Online Stores (x2): {result.x[1]:.2f}\")\n",
        "print(f\"Number of ERP Integrations (x3): {result.x[2]:.2f}\")\n",
        "print(f\"Maximum Profit: {-result.fun:.2f} thousand $\")\n",
        "\n",
        "# Calculate the total monthly profit\n",
        "optimal_profit = -result.fun\n",
        "\n",
        "# Draw conclusions\n",
        "print(\"\\nConclusions:\")\n",
        "print(f\"To maximize the monthly profit, the company should focus on providing:\")\n",
        "print(f\"- Approximately {result.x[0]:.2f} websites\")\n",
        "print(f\"- Approximately {result.x[1]:.2f} online stores\")\n",
        "print(f\"- Approximately {result.x[2]:.2f} ERP integrations\")\n",
        "print(f\"This optimal distribution of services is estimated to yield a maximum monthly profit of approximately ${optimal_profit:.2f} thousand.\")"
      ],
      "metadata": {
        "colab": {
          "base_uri": "https://localhost:8080/"
        },
        "id": "Lj9lEWWhn_51",
        "outputId": "bdd87d21-7e7e-4cd1-f07e-cc1083709158"
      },
      "execution_count": 4,
      "outputs": [
        {
          "output_type": "stream",
          "name": "stdout",
          "text": [
            "Optimal solution:\n",
            "Number of Websites (x1): 0.00\n",
            "Number of Online Stores (x2): 0.00\n",
            "Number of ERP Integrations (x3): 15.00\n",
            "Maximum Profit: 90.00 thousand $\n",
            "\n",
            "Conclusions:\n",
            "To maximize the monthly profit, the company should focus on providing:\n",
            "- Approximately 0.00 websites\n",
            "- Approximately 0.00 online stores\n",
            "- Approximately 15.00 ERP integrations\n",
            "This optimal distribution of services is estimated to yield a maximum monthly profit of approximately $90.00 thousand.\n"
          ]
        }
      ]
    },
    {
      "cell_type": "markdown",
      "source": [
        "## Conclusion:\n",
        "\n",
        "To maximize the monthly profit, the company should focus solely on providing **15 units of ERP integration services**. Under the optimal resource allocation, the production of websites and online stores is not recommended. The estimated maximum monthly profit with this strategy is $90,000.\n"
      ],
      "metadata": {
        "id": "EfERVf41pg8x"
      }
    }
  ]
}