{
 "cells": [
  {
   "cell_type": "markdown",
   "id": "0bc0160a",
   "metadata": {
    "id": "ae96c52c",
    "papermill": {
     "duration": 0.009707,
     "end_time": "2025-05-20T02:52:21.906460",
     "exception": false,
     "start_time": "2025-05-20T02:52:21.896753",
     "status": "completed"
    },
    "tags": []
   },
   "source": [
    "## Data Analysis and Preparation"
   ]
  },
  {
   "cell_type": "markdown",
   "id": "7990551d",
   "metadata": {
    "id": "e8202af5",
    "papermill": {
     "duration": 0.008157,
     "end_time": "2025-05-20T02:52:21.923088",
     "exception": false,
     "start_time": "2025-05-20T02:52:21.914931",
     "status": "completed"
    },
    "tags": []
   },
   "source": [
    "### Import Libraries and Load the Dataset\n",
    "\n",
    "I begin by importing the necessary libraries and loading the dataset from Kaggle using the `kagglehub` module. This allows me to access the latest version of the dataset directly within the notebook and ensures that the workflow remains reproducible."
   ]
  },
  {
   "cell_type": "code",
   "execution_count": 1,
   "id": "7aeee5c8",
   "metadata": {
    "execution": {
     "iopub.execute_input": "2025-05-20T02:52:21.941183Z",
     "iopub.status.busy": "2025-05-20T02:52:21.940952Z",
     "iopub.status.idle": "2025-05-20T02:52:25.710547Z",
     "shell.execute_reply": "2025-05-20T02:52:25.709390Z"
    },
    "executionInfo": {
     "elapsed": 2282,
     "status": "ok",
     "timestamp": 1747709106844,
     "user": {
      "displayName": "Oleksii Shcherbak",
      "userId": "18308886787028875648"
     },
     "user_tz": -120
    },
    "id": "d223246a",
    "outputId": "5ffbd105-6439-4cdb-f45b-a62096ccc7b5",
    "papermill": {
     "duration": 3.779758,
     "end_time": "2025-05-20T02:52:25.711611",
     "exception": false,
     "start_time": "2025-05-20T02:52:21.931853",
     "status": "completed"
    },
    "tags": []
   },
   "outputs": [
    {
     "name": "stdout",
     "output_type": "stream",
     "text": [
      "Path to dataset files: /kaggle/input/house-rent-prediction-dataset\n"
     ]
    },
    {
     "data": {
      "text/html": [
       "<div>\n",
       "<style scoped>\n",
       "    .dataframe tbody tr th:only-of-type {\n",
       "        vertical-align: middle;\n",
       "    }\n",
       "\n",
       "    .dataframe tbody tr th {\n",
       "        vertical-align: top;\n",
       "    }\n",
       "\n",
       "    .dataframe thead th {\n",
       "        text-align: right;\n",
       "    }\n",
       "</style>\n",
       "<table border=\"1\" class=\"dataframe\">\n",
       "  <thead>\n",
       "    <tr style=\"text-align: right;\">\n",
       "      <th></th>\n",
       "      <th>Posted On</th>\n",
       "      <th>BHK</th>\n",
       "      <th>Rent</th>\n",
       "      <th>Size</th>\n",
       "      <th>Floor</th>\n",
       "      <th>Area Type</th>\n",
       "      <th>Area Locality</th>\n",
       "      <th>City</th>\n",
       "      <th>Furnishing Status</th>\n",
       "      <th>Tenant Preferred</th>\n",
       "      <th>Bathroom</th>\n",
       "      <th>Point of Contact</th>\n",
       "    </tr>\n",
       "  </thead>\n",
       "  <tbody>\n",
       "    <tr>\n",
       "      <th>0</th>\n",
       "      <td>2022-05-18</td>\n",
       "      <td>2</td>\n",
       "      <td>10000</td>\n",
       "      <td>1100</td>\n",
       "      <td>Ground out of 2</td>\n",
       "      <td>Super Area</td>\n",
       "      <td>Bandel</td>\n",
       "      <td>Kolkata</td>\n",
       "      <td>Unfurnished</td>\n",
       "      <td>Bachelors/Family</td>\n",
       "      <td>2</td>\n",
       "      <td>Contact Owner</td>\n",
       "    </tr>\n",
       "    <tr>\n",
       "      <th>1</th>\n",
       "      <td>2022-05-13</td>\n",
       "      <td>2</td>\n",
       "      <td>20000</td>\n",
       "      <td>800</td>\n",
       "      <td>1 out of 3</td>\n",
       "      <td>Super Area</td>\n",
       "      <td>Phool Bagan, Kankurgachi</td>\n",
       "      <td>Kolkata</td>\n",
       "      <td>Semi-Furnished</td>\n",
       "      <td>Bachelors/Family</td>\n",
       "      <td>1</td>\n",
       "      <td>Contact Owner</td>\n",
       "    </tr>\n",
       "    <tr>\n",
       "      <th>2</th>\n",
       "      <td>2022-05-16</td>\n",
       "      <td>2</td>\n",
       "      <td>17000</td>\n",
       "      <td>1000</td>\n",
       "      <td>1 out of 3</td>\n",
       "      <td>Super Area</td>\n",
       "      <td>Salt Lake City Sector 2</td>\n",
       "      <td>Kolkata</td>\n",
       "      <td>Semi-Furnished</td>\n",
       "      <td>Bachelors/Family</td>\n",
       "      <td>1</td>\n",
       "      <td>Contact Owner</td>\n",
       "    </tr>\n",
       "    <tr>\n",
       "      <th>3</th>\n",
       "      <td>2022-07-04</td>\n",
       "      <td>2</td>\n",
       "      <td>10000</td>\n",
       "      <td>800</td>\n",
       "      <td>1 out of 2</td>\n",
       "      <td>Super Area</td>\n",
       "      <td>Dumdum Park</td>\n",
       "      <td>Kolkata</td>\n",
       "      <td>Unfurnished</td>\n",
       "      <td>Bachelors/Family</td>\n",
       "      <td>1</td>\n",
       "      <td>Contact Owner</td>\n",
       "    </tr>\n",
       "    <tr>\n",
       "      <th>4</th>\n",
       "      <td>2022-05-09</td>\n",
       "      <td>2</td>\n",
       "      <td>7500</td>\n",
       "      <td>850</td>\n",
       "      <td>1 out of 2</td>\n",
       "      <td>Carpet Area</td>\n",
       "      <td>South Dum Dum</td>\n",
       "      <td>Kolkata</td>\n",
       "      <td>Unfurnished</td>\n",
       "      <td>Bachelors</td>\n",
       "      <td>1</td>\n",
       "      <td>Contact Owner</td>\n",
       "    </tr>\n",
       "    <tr>\n",
       "      <th>5</th>\n",
       "      <td>2022-04-29</td>\n",
       "      <td>2</td>\n",
       "      <td>7000</td>\n",
       "      <td>600</td>\n",
       "      <td>Ground out of 1</td>\n",
       "      <td>Super Area</td>\n",
       "      <td>Thakurpukur</td>\n",
       "      <td>Kolkata</td>\n",
       "      <td>Unfurnished</td>\n",
       "      <td>Bachelors/Family</td>\n",
       "      <td>2</td>\n",
       "      <td>Contact Owner</td>\n",
       "    </tr>\n",
       "    <tr>\n",
       "      <th>6</th>\n",
       "      <td>2022-06-21</td>\n",
       "      <td>2</td>\n",
       "      <td>10000</td>\n",
       "      <td>700</td>\n",
       "      <td>Ground out of 4</td>\n",
       "      <td>Super Area</td>\n",
       "      <td>Malancha</td>\n",
       "      <td>Kolkata</td>\n",
       "      <td>Unfurnished</td>\n",
       "      <td>Bachelors</td>\n",
       "      <td>2</td>\n",
       "      <td>Contact Agent</td>\n",
       "    </tr>\n",
       "    <tr>\n",
       "      <th>7</th>\n",
       "      <td>2022-06-21</td>\n",
       "      <td>1</td>\n",
       "      <td>5000</td>\n",
       "      <td>250</td>\n",
       "      <td>1 out of 2</td>\n",
       "      <td>Super Area</td>\n",
       "      <td>Malancha</td>\n",
       "      <td>Kolkata</td>\n",
       "      <td>Unfurnished</td>\n",
       "      <td>Bachelors</td>\n",
       "      <td>1</td>\n",
       "      <td>Contact Agent</td>\n",
       "    </tr>\n",
       "    <tr>\n",
       "      <th>8</th>\n",
       "      <td>2022-06-07</td>\n",
       "      <td>2</td>\n",
       "      <td>26000</td>\n",
       "      <td>800</td>\n",
       "      <td>1 out of 2</td>\n",
       "      <td>Carpet Area</td>\n",
       "      <td>Palm Avenue Kolkata, Ballygunge</td>\n",
       "      <td>Kolkata</td>\n",
       "      <td>Unfurnished</td>\n",
       "      <td>Bachelors</td>\n",
       "      <td>2</td>\n",
       "      <td>Contact Agent</td>\n",
       "    </tr>\n",
       "    <tr>\n",
       "      <th>9</th>\n",
       "      <td>2022-06-20</td>\n",
       "      <td>2</td>\n",
       "      <td>10000</td>\n",
       "      <td>1000</td>\n",
       "      <td>1 out of 3</td>\n",
       "      <td>Carpet Area</td>\n",
       "      <td>Natunhat</td>\n",
       "      <td>Kolkata</td>\n",
       "      <td>Semi-Furnished</td>\n",
       "      <td>Bachelors/Family</td>\n",
       "      <td>2</td>\n",
       "      <td>Contact Owner</td>\n",
       "    </tr>\n",
       "  </tbody>\n",
       "</table>\n",
       "</div>"
      ],
      "text/plain": [
       "    Posted On  BHK   Rent  Size            Floor    Area Type  \\\n",
       "0  2022-05-18    2  10000  1100  Ground out of 2   Super Area   \n",
       "1  2022-05-13    2  20000   800       1 out of 3   Super Area   \n",
       "2  2022-05-16    2  17000  1000       1 out of 3   Super Area   \n",
       "3  2022-07-04    2  10000   800       1 out of 2   Super Area   \n",
       "4  2022-05-09    2   7500   850       1 out of 2  Carpet Area   \n",
       "5  2022-04-29    2   7000   600  Ground out of 1   Super Area   \n",
       "6  2022-06-21    2  10000   700  Ground out of 4   Super Area   \n",
       "7  2022-06-21    1   5000   250       1 out of 2   Super Area   \n",
       "8  2022-06-07    2  26000   800       1 out of 2  Carpet Area   \n",
       "9  2022-06-20    2  10000  1000       1 out of 3  Carpet Area   \n",
       "\n",
       "                     Area Locality     City Furnishing Status  \\\n",
       "0                           Bandel  Kolkata       Unfurnished   \n",
       "1         Phool Bagan, Kankurgachi  Kolkata    Semi-Furnished   \n",
       "2          Salt Lake City Sector 2  Kolkata    Semi-Furnished   \n",
       "3                      Dumdum Park  Kolkata       Unfurnished   \n",
       "4                    South Dum Dum  Kolkata       Unfurnished   \n",
       "5                      Thakurpukur  Kolkata       Unfurnished   \n",
       "6                         Malancha  Kolkata       Unfurnished   \n",
       "7                         Malancha  Kolkata       Unfurnished   \n",
       "8  Palm Avenue Kolkata, Ballygunge  Kolkata       Unfurnished   \n",
       "9                         Natunhat  Kolkata    Semi-Furnished   \n",
       "\n",
       "   Tenant Preferred  Bathroom Point of Contact  \n",
       "0  Bachelors/Family         2    Contact Owner  \n",
       "1  Bachelors/Family         1    Contact Owner  \n",
       "2  Bachelors/Family         1    Contact Owner  \n",
       "3  Bachelors/Family         1    Contact Owner  \n",
       "4         Bachelors         1    Contact Owner  \n",
       "5  Bachelors/Family         2    Contact Owner  \n",
       "6         Bachelors         2    Contact Agent  \n",
       "7         Bachelors         1    Contact Agent  \n",
       "8         Bachelors         2    Contact Agent  \n",
       "9  Bachelors/Family         2    Contact Owner  "
      ]
     },
     "execution_count": 1,
     "metadata": {},
     "output_type": "execute_result"
    }
   ],
   "source": [
    "# Standard libraries\n",
    "import numpy as np\n",
    "import pandas as pd\n",
    "import matplotlib.pyplot as plt\n",
    "import seaborn as sns\n",
    "import re\n",
    "\n",
    "# scikit-learn: preprocessing, modeling, evaluation\n",
    "from sklearn.model_selection import train_test_split, GridSearchCV, cross_val_score\n",
    "from sklearn.linear_model import LinearRegression\n",
    "from sklearn.ensemble import RandomForestRegressor\n",
    "from sklearn.preprocessing import OneHotEncoder, StandardScaler\n",
    "from sklearn.compose import ColumnTransformer\n",
    "from sklearn.pipeline import Pipeline\n",
    "from sklearn.metrics import mean_absolute_error, mean_squared_error, r2_score, make_scorer\n",
    "\n",
    "# statsmodels: for multicollinearity (VIF)\n",
    "from statsmodels.stats.outliers_influence import variance_inflation_factor\n",
    "from statsmodels.tools.tools import add_constant\n",
    "\n",
    "# kagglehub: load dataset\n",
    "import kagglehub\n",
    "\n",
    "# Optional: format float display in pandas\n",
    "pd.set_option(\"display.float_format\", lambda x: f\"{x:.2f}\")\n",
    "\n",
    "# Load dataset using kagglehub\n",
    "dataset_id = \"iamsouravbanerjee/house-rent-prediction-dataset\"\n",
    "path = kagglehub.dataset_download(dataset_id)\n",
    "print(\"Path to dataset files:\", path)\n",
    "\n",
    "# Read CSV file\n",
    "file_path = f\"{path}/House_Rent_Dataset.csv\"\n",
    "df = pd.read_csv(file_path)\n",
    "\n",
    "# Preview the dataset\n",
    "df.head(10)"
   ]
  },
  {
   "cell_type": "markdown",
   "id": "fc76f2dd",
   "metadata": {
    "id": "79dd1cdb",
    "papermill": {
     "duration": 0.008547,
     "end_time": "2025-05-20T02:52:25.729267",
     "exception": false,
     "start_time": "2025-05-20T02:52:25.720720",
     "status": "completed"
    },
    "tags": []
   },
   "source": [
    "## Exploratory Data Analysis (EDA)\n",
    "\n",
    "In this step, I examine the following aspects of the dataset:\n",
    "\n",
    "- Column data types\n",
    "- Summary statistics: min, max, mean, std\n",
    "- Value distributions\n",
    "- Missing values\n",
    "- Correlation matrix"
   ]
  },
  {
   "cell_type": "code",
   "execution_count": 2,
   "id": "704fab66",
   "metadata": {
    "ExecuteTime": {
     "end_time": "2025-05-18T23:54:47.717058Z",
     "start_time": "2025-05-18T23:54:47.698909Z"
    },
    "execution": {
     "iopub.execute_input": "2025-05-20T02:52:25.747514Z",
     "iopub.status.busy": "2025-05-20T02:52:25.747264Z",
     "iopub.status.idle": "2025-05-20T02:52:25.768831Z",
     "shell.execute_reply": "2025-05-20T02:52:25.767895Z"
    },
    "executionInfo": {
     "elapsed": 16,
     "status": "ok",
     "timestamp": 1747709106863,
     "user": {
      "displayName": "Oleksii Shcherbak",
      "userId": "18308886787028875648"
     },
     "user_tz": -120
    },
    "id": "acea583e",
    "outputId": "120612cb-1243-41d2-b3de-e2e4a6e9b10c",
    "papermill": {
     "duration": 0.032243,
     "end_time": "2025-05-20T02:52:25.770134",
     "exception": false,
     "start_time": "2025-05-20T02:52:25.737891",
     "status": "completed"
    },
    "tags": []
   },
   "outputs": [
    {
     "name": "stdout",
     "output_type": "stream",
     "text": [
      "<class 'pandas.core.frame.DataFrame'>\n",
      "RangeIndex: 4746 entries, 0 to 4745\n",
      "Data columns (total 12 columns):\n",
      " #   Column             Non-Null Count  Dtype \n",
      "---  ------             --------------  ----- \n",
      " 0   Posted On          4746 non-null   object\n",
      " 1   BHK                4746 non-null   int64 \n",
      " 2   Rent               4746 non-null   int64 \n",
      " 3   Size               4746 non-null   int64 \n",
      " 4   Floor              4746 non-null   object\n",
      " 5   Area Type          4746 non-null   object\n",
      " 6   Area Locality      4746 non-null   object\n",
      " 7   City               4746 non-null   object\n",
      " 8   Furnishing Status  4746 non-null   object\n",
      " 9   Tenant Preferred   4746 non-null   object\n",
      " 10  Bathroom           4746 non-null   int64 \n",
      " 11  Point of Contact   4746 non-null   object\n",
      "dtypes: int64(4), object(8)\n",
      "memory usage: 445.1+ KB\n"
     ]
    }
   ],
   "source": [
    "# General information about the dataset\n",
    "df.info()"
   ]
  },
  {
   "cell_type": "code",
   "execution_count": 3,
   "id": "d86e7dde",
   "metadata": {
    "execution": {
     "iopub.execute_input": "2025-05-20T02:52:25.789669Z",
     "iopub.status.busy": "2025-05-20T02:52:25.789430Z",
     "iopub.status.idle": "2025-05-20T02:52:25.803734Z",
     "shell.execute_reply": "2025-05-20T02:52:25.803167Z"
    },
    "executionInfo": {
     "elapsed": 6,
     "status": "ok",
     "timestamp": 1747709106873,
     "user": {
      "displayName": "Oleksii Shcherbak",
      "userId": "18308886787028875648"
     },
     "user_tz": -120
    },
    "id": "885dbb0e150e8e3",
    "outputId": "d9d0488e-ee5e-4fb7-e8cc-8e304240c122",
    "papermill": {
     "duration": 0.024993,
     "end_time": "2025-05-20T02:52:25.804834",
     "exception": false,
     "start_time": "2025-05-20T02:52:25.779841",
     "status": "completed"
    },
    "tags": []
   },
   "outputs": [
    {
     "data": {
      "text/html": [
       "<div>\n",
       "<style scoped>\n",
       "    .dataframe tbody tr th:only-of-type {\n",
       "        vertical-align: middle;\n",
       "    }\n",
       "\n",
       "    .dataframe tbody tr th {\n",
       "        vertical-align: top;\n",
       "    }\n",
       "\n",
       "    .dataframe thead th {\n",
       "        text-align: right;\n",
       "    }\n",
       "</style>\n",
       "<table border=\"1\" class=\"dataframe\">\n",
       "  <thead>\n",
       "    <tr style=\"text-align: right;\">\n",
       "      <th></th>\n",
       "      <th>BHK</th>\n",
       "      <th>Rent</th>\n",
       "      <th>Size</th>\n",
       "      <th>Bathroom</th>\n",
       "    </tr>\n",
       "  </thead>\n",
       "  <tbody>\n",
       "    <tr>\n",
       "      <th>count</th>\n",
       "      <td>4746.00</td>\n",
       "      <td>4746.00</td>\n",
       "      <td>4746.00</td>\n",
       "      <td>4746.00</td>\n",
       "    </tr>\n",
       "    <tr>\n",
       "      <th>mean</th>\n",
       "      <td>2.08</td>\n",
       "      <td>34993.45</td>\n",
       "      <td>967.49</td>\n",
       "      <td>1.97</td>\n",
       "    </tr>\n",
       "    <tr>\n",
       "      <th>std</th>\n",
       "      <td>0.83</td>\n",
       "      <td>78106.41</td>\n",
       "      <td>634.20</td>\n",
       "      <td>0.88</td>\n",
       "    </tr>\n",
       "    <tr>\n",
       "      <th>min</th>\n",
       "      <td>1.00</td>\n",
       "      <td>1200.00</td>\n",
       "      <td>10.00</td>\n",
       "      <td>1.00</td>\n",
       "    </tr>\n",
       "    <tr>\n",
       "      <th>25%</th>\n",
       "      <td>2.00</td>\n",
       "      <td>10000.00</td>\n",
       "      <td>550.00</td>\n",
       "      <td>1.00</td>\n",
       "    </tr>\n",
       "    <tr>\n",
       "      <th>50%</th>\n",
       "      <td>2.00</td>\n",
       "      <td>16000.00</td>\n",
       "      <td>850.00</td>\n",
       "      <td>2.00</td>\n",
       "    </tr>\n",
       "    <tr>\n",
       "      <th>75%</th>\n",
       "      <td>3.00</td>\n",
       "      <td>33000.00</td>\n",
       "      <td>1200.00</td>\n",
       "      <td>2.00</td>\n",
       "    </tr>\n",
       "    <tr>\n",
       "      <th>max</th>\n",
       "      <td>6.00</td>\n",
       "      <td>3500000.00</td>\n",
       "      <td>8000.00</td>\n",
       "      <td>10.00</td>\n",
       "    </tr>\n",
       "  </tbody>\n",
       "</table>\n",
       "</div>"
      ],
      "text/plain": [
       "          BHK       Rent    Size  Bathroom\n",
       "count 4746.00    4746.00 4746.00   4746.00\n",
       "mean     2.08   34993.45  967.49      1.97\n",
       "std      0.83   78106.41  634.20      0.88\n",
       "min      1.00    1200.00   10.00      1.00\n",
       "25%      2.00   10000.00  550.00      1.00\n",
       "50%      2.00   16000.00  850.00      2.00\n",
       "75%      3.00   33000.00 1200.00      2.00\n",
       "max      6.00 3500000.00 8000.00     10.00"
      ]
     },
     "execution_count": 3,
     "metadata": {},
     "output_type": "execute_result"
    }
   ],
   "source": [
    "# Summary statistics for numerical features\n",
    "df.describe()"
   ]
  },
  {
   "cell_type": "code",
   "execution_count": 4,
   "id": "3699e2b8",
   "metadata": {
    "execution": {
     "iopub.execute_input": "2025-05-20T02:52:25.824315Z",
     "iopub.status.busy": "2025-05-20T02:52:25.824072Z",
     "iopub.status.idle": "2025-05-20T02:52:25.830733Z",
     "shell.execute_reply": "2025-05-20T02:52:25.830129Z"
    },
    "executionInfo": {
     "elapsed": 60,
     "status": "ok",
     "timestamp": 1747709106936,
     "user": {
      "displayName": "Oleksii Shcherbak",
      "userId": "18308886787028875648"
     },
     "user_tz": -120
    },
    "id": "4455a7891f708f66",
    "outputId": "9975c030-bbec-4084-d5a8-3a54845deaac",
    "papermill": {
     "duration": 0.017386,
     "end_time": "2025-05-20T02:52:25.831720",
     "exception": false,
     "start_time": "2025-05-20T02:52:25.814334",
     "status": "completed"
    },
    "tags": []
   },
   "outputs": [
    {
     "data": {
      "text/plain": [
       "Posted On            0\n",
       "BHK                  0\n",
       "Rent                 0\n",
       "Size                 0\n",
       "Floor                0\n",
       "Area Type            0\n",
       "Area Locality        0\n",
       "City                 0\n",
       "Furnishing Status    0\n",
       "Tenant Preferred     0\n",
       "Bathroom             0\n",
       "Point of Contact     0\n",
       "dtype: int64"
      ]
     },
     "execution_count": 4,
     "metadata": {},
     "output_type": "execute_result"
    }
   ],
   "source": [
    "# Check for missing values\n",
    "df.isnull().sum()"
   ]
  },
  {
   "cell_type": "code",
   "execution_count": 5,
   "id": "6ce24c12",
   "metadata": {
    "execution": {
     "iopub.execute_input": "2025-05-20T02:52:25.851143Z",
     "iopub.status.busy": "2025-05-20T02:52:25.850958Z",
     "iopub.status.idle": "2025-05-20T02:52:25.860607Z",
     "shell.execute_reply": "2025-05-20T02:52:25.859972Z"
    },
    "executionInfo": {
     "elapsed": 5,
     "status": "ok",
     "timestamp": 1747709106944,
     "user": {
      "displayName": "Oleksii Shcherbak",
      "userId": "18308886787028875648"
     },
     "user_tz": -120
    },
    "id": "12a7d992b40f5437",
    "outputId": "fb201ea7-ccc5-4547-e729-bf42dc02709d",
    "papermill": {
     "duration": 0.0202,
     "end_time": "2025-05-20T02:52:25.861628",
     "exception": false,
     "start_time": "2025-05-20T02:52:25.841428",
     "status": "completed"
    },
    "tags": []
   },
   "outputs": [
    {
     "data": {
      "text/plain": [
       "Posted On              81\n",
       "BHK                     6\n",
       "Rent                  243\n",
       "Size                  615\n",
       "Floor                 480\n",
       "Area Type               3\n",
       "Area Locality        2235\n",
       "City                    6\n",
       "Furnishing Status       3\n",
       "Tenant Preferred        3\n",
       "Bathroom                8\n",
       "Point of Contact        3\n",
       "dtype: int64"
      ]
     },
     "execution_count": 5,
     "metadata": {},
     "output_type": "execute_result"
    }
   ],
   "source": [
    "# Data types and count of unique values per column\n",
    "df.nunique()"
   ]
  },
  {
   "cell_type": "markdown",
   "id": "2159598a",
   "metadata": {
    "id": "xWEh6o18aQIw",
    "papermill": {
     "duration": 0.008977,
     "end_time": "2025-05-20T02:52:25.880485",
     "exception": false,
     "start_time": "2025-05-20T02:52:25.871508",
     "status": "completed"
    },
    "tags": []
   },
   "source": [
    "## Numerical Feature Analysis\n",
    "\n",
    "In this section, I conduct exploratory analysis on key **numeric features** in the dataset. This helps to understand their distribution, detect skewness or outliers, and evaluate their relationships with the target variable `Rent`.\n",
    "\n",
    "The steps include:\n",
    "\n",
    "- Visualizing the distribution of `Rent`, `Size`, `BHK`, and `Bathroom`\n",
    "- Identifying skewed distributions that may require normalization\n",
    "- Computing and visualizing correlations between numeric features\n",
    "\n",
    "This numeric analysis informs feature selection and guides appropriate preprocessing for better model training."
   ]
  },
  {
   "cell_type": "markdown",
   "id": "af097790",
   "metadata": {
    "id": "Aw-pJjVAD2tZ",
    "papermill": {
     "duration": 0.008816,
     "end_time": "2025-05-20T02:52:25.898263",
     "exception": false,
     "start_time": "2025-05-20T02:52:25.889447",
     "status": "completed"
    },
    "tags": []
   },
   "source": [
    "### Rent Distribution\n",
    "\n",
    "I begin by examining the distribution of the target variable, `Rent`. This helps identify skewness, potential outliers, and whether normalization or log transformation may be required."
   ]
  },
  {
   "cell_type": "code",
   "execution_count": 6,
   "id": "66387d8f",
   "metadata": {
    "execution": {
     "iopub.execute_input": "2025-05-20T02:52:25.917682Z",
     "iopub.status.busy": "2025-05-20T02:52:25.916955Z",
     "iopub.status.idle": "2025-05-20T02:52:26.285789Z",
     "shell.execute_reply": "2025-05-20T02:52:26.285198Z"
    },
    "executionInfo": {
     "elapsed": 122,
     "status": "ok",
     "timestamp": 1747709107068,
     "user": {
      "displayName": "Oleksii Shcherbak",
      "userId": "18308886787028875648"
     },
     "user_tz": -120
    },
    "id": "LDlN6U_oD7BT",
    "outputId": "0b357a35-f9c3-403d-a04c-9bbd84f9fe09",
    "papermill": {
     "duration": 0.379624,
     "end_time": "2025-05-20T02:52:26.286820",
     "exception": false,
     "start_time": "2025-05-20T02:52:25.907196",
     "status": "completed"
    },
    "tags": []
   },
   "outputs": [
    {
     "name": "stderr",
     "output_type": "stream",
     "text": [
      "/usr/local/lib/python3.11/dist-packages/seaborn/_oldcore.py:1119: FutureWarning: use_inf_as_na option is deprecated and will be removed in a future version. Convert inf values to NaN before operating instead.\n",
      "  with pd.option_context('mode.use_inf_as_na', True):\n"
     ]
    },
    {
     "data": {
      "image/png": "[encoded data removed]",
      "text/plain": [
       "<Figure size 600x400 with 1 Axes>"
      ]
     },
     "metadata": {},
     "output_type": "display_data"
    }
   ],
   "source": [
    "sns.set_theme(style=\"whitegrid\")\n",
    "\n",
    "plt.figure(figsize=(6, 4))\n",
    "sns.histplot(data=df, x='Rent', kde=True, bins=30, color='steelblue')\n",
    "plt.title(\"Distribution of Rent\", fontsize=12)\n",
    "plt.xlabel(\"Rent\")\n",
    "plt.ylabel(\"Frequency\")\n",
    "plt.tight_layout()\n",
    "plt.show()"
   ]
  },
  {
   "cell_type": "markdown",
   "id": "ed2689da",
   "metadata": {
    "id": "-9HHbJlGERGU",
    "papermill": {
     "duration": 0.009593,
     "end_time": "2025-05-20T02:52:26.306680",
     "exception": false,
     "start_time": "2025-05-20T02:52:26.297087",
     "status": "completed"
    },
    "tags": []
   },
   "source": [
    "The distribution of `Rent` is heavily right-skewed, with most properties priced under 100,000. A small number of listings have extremely high rent values, suggesting the presence of outliers."
   ]
  },
  {
   "cell_type": "markdown",
   "id": "a463ebe1",
   "metadata": {
    "id": "gDslaDUvEoy0",
    "papermill": {
     "duration": 0.009505,
     "end_time": "2025-05-20T02:52:26.325797",
     "exception": false,
     "start_time": "2025-05-20T02:52:26.316292",
     "status": "completed"
    },
    "tags": []
   },
   "source": [
    "### Distribution of Size\n",
    "\n",
    "Next, I examine the distribution of the `Size` feature to understand the spread of property area values."
   ]
  },
  {
   "cell_type": "code",
   "execution_count": 7,
   "id": "150400e9",
   "metadata": {
    "execution": {
     "iopub.execute_input": "2025-05-20T02:52:26.398700Z",
     "iopub.status.busy": "2025-05-20T02:52:26.398425Z",
     "iopub.status.idle": "2025-05-20T02:52:26.701398Z",
     "shell.execute_reply": "2025-05-20T02:52:26.700810Z"
    },
    "executionInfo": {
     "elapsed": 352,
     "status": "ok",
     "timestamp": 1747709107423,
     "user": {
      "displayName": "Oleksii Shcherbak",
      "userId": "18308886787028875648"
     },
     "user_tz": -120
    },
    "id": "swNtJyqqEqqQ",
    "outputId": "47e83c43-bf09-48cb-c271-160076a0198b",
    "papermill": {
     "duration": 0.314498,
     "end_time": "2025-05-20T02:52:26.702339",
     "exception": false,
     "start_time": "2025-05-20T02:52:26.387841",
     "status": "completed"
    },
    "tags": []
   },
   "outputs": [
    {
     "name": "stderr",
     "output_type": "stream",
     "text": [
      "/usr/local/lib/python3.11/dist-packages/seaborn/_oldcore.py:1119: FutureWarning: use_inf_as_na option is deprecated and will be removed in a future version. Convert inf values to NaN before operating instead.\n",
      "  with pd.option_context('mode.use_inf_as_na', True):\n"
     ]
    },
    {
     "data": {
      "image/png": "[encoded data removed]",
      "text/plain": [
       "<Figure size 600x400 with 1 Axes>"
      ]
     },
     "metadata": {},
     "output_type": "display_data"
    }
   ],
   "source": [
    "plt.figure(figsize=(6, 4))\n",
    "sns.histplot(df['Size'], kde=True, bins=30)\n",
    "plt.title(\"Distribution of Property Size\")\n",
    "plt.xlabel(\"Size (sq ft)\")\n",
    "plt.ylabel(\"Frequency\")\n",
    "plt.grid(True)\n",
    "plt.tight_layout()\n",
    "plt.show()"
   ]
  },
  {
   "cell_type": "markdown",
   "id": "53fefb4a",
   "metadata": {
    "id": "VVaMauAHEu-l",
    "papermill": {
     "duration": 0.009547,
     "end_time": "2025-05-20T02:52:26.722723",
     "exception": false,
     "start_time": "2025-05-20T02:52:26.713176",
     "status": "completed"
    },
    "tags": []
   },
   "source": [
    "The `Size` variable is also right-skewed. A majority of properties have relatively modest area values, with a few very large listings contributing to the heavy tail."
   ]
  },
  {
   "cell_type": "markdown",
   "id": "361c2d35",
   "metadata": {
    "id": "GRmfPpOwEzxa",
    "papermill": {
     "duration": 0.009606,
     "end_time": "2025-05-20T02:52:26.741992",
     "exception": false,
     "start_time": "2025-05-20T02:52:26.732386",
     "status": "completed"
    },
    "tags": []
   },
   "source": [
    "### Distribution of BHK\n",
    "\n",
    "Now I visualize the distribution of `BHK` (number of bedrooms) to explore its variability across the dataset."
   ]
  },
  {
   "cell_type": "code",
   "execution_count": 8,
   "id": "edb13ea1",
   "metadata": {
    "execution": {
     "iopub.execute_input": "2025-05-20T02:52:26.762295Z",
     "iopub.status.busy": "2025-05-20T02:52:26.762072Z",
     "iopub.status.idle": "2025-05-20T02:52:26.949502Z",
     "shell.execute_reply": "2025-05-20T02:52:26.948840Z"
    },
    "executionInfo": {
     "elapsed": 131,
     "status": "ok",
     "timestamp": 1747709107557,
     "user": {
      "displayName": "Oleksii Shcherbak",
      "userId": "18308886787028875648"
     },
     "user_tz": -120
    },
    "id": "q8btQwGeE1ks",
    "outputId": "c21be773-391d-4283-fc8d-932c5cfb4e95",
    "papermill": {
     "duration": 0.198853,
     "end_time": "2025-05-20T02:52:26.950533",
     "exception": false,
     "start_time": "2025-05-20T02:52:26.751680",
     "status": "completed"
    },
    "tags": []
   },
   "outputs": [
    {
     "name": "stderr",
     "output_type": "stream",
     "text": [
      "/usr/local/lib/python3.11/dist-packages/seaborn/_oldcore.py:1119: FutureWarning: use_inf_as_na option is deprecated and will be removed in a future version. Convert inf values to NaN before operating instead.\n",
      "  with pd.option_context('mode.use_inf_as_na', True):\n"
     ]
    },
    {
     "data": {
      "image/png": "[encoded data removed]",
      "text/plain": [
       "<Figure size 600x400 with 1 Axes>"
      ]
     },
     "metadata": {},
     "output_type": "display_data"
    }
   ],
   "source": [
    "plt.figure(figsize=(6, 4))\n",
    "sns.histplot(df['BHK'], bins=range(1, df['BHK'].max() + 2), discrete=True)\n",
    "plt.title(\"Distribution of Number of Bedrooms (BHK)\")\n",
    "plt.xlabel(\"BHK\")\n",
    "plt.ylabel(\"Frequency\")\n",
    "plt.grid(True)\n",
    "plt.tight_layout()\n",
    "plt.show()"
   ]
  },
  {
   "cell_type": "markdown",
   "id": "6e97766a",
   "metadata": {
    "id": "vU4dnhavE4r8",
    "papermill": {
     "duration": 0.01173,
     "end_time": "2025-05-20T02:52:26.973443",
     "exception": false,
     "start_time": "2025-05-20T02:52:26.961713",
     "status": "completed"
    },
    "tags": []
   },
   "source": [
    "The `BHK` feature is concentrated mostly between 1 and 4. A few listings have higher bedroom counts, but those are rare and may be worth investigating for anomalies."
   ]
  },
  {
   "cell_type": "markdown",
   "id": "327461c8",
   "metadata": {
    "id": "w9SZHxRcE7h7",
    "papermill": {
     "duration": 0.010877,
     "end_time": "2025-05-20T02:52:26.995080",
     "exception": false,
     "start_time": "2025-05-20T02:52:26.984203",
     "status": "completed"
    },
    "tags": []
   },
   "source": [
    "### Distribution of Bathroom\n",
    "\n",
    "I also review the distribution of `Bathroom` counts to check for potential inconsistencies or extreme values."
   ]
  },
  {
   "cell_type": "code",
   "execution_count": 9,
   "id": "ad0cf9db",
   "metadata": {
    "execution": {
     "iopub.execute_input": "2025-05-20T02:52:27.018186Z",
     "iopub.status.busy": "2025-05-20T02:52:27.017946Z",
     "iopub.status.idle": "2025-05-20T02:52:27.218518Z",
     "shell.execute_reply": "2025-05-20T02:52:27.217842Z"
    },
    "executionInfo": {
     "elapsed": 200,
     "status": "ok",
     "timestamp": 1747709107761,
     "user": {
      "displayName": "Oleksii Shcherbak",
      "userId": "18308886787028875648"
     },
     "user_tz": -120
    },
    "id": "VfJ_5D0bE9xT",
    "outputId": "e8cdbb78-ad4b-40cd-af97-acba3bf4b82c",
    "papermill": {
     "duration": 0.2134,
     "end_time": "2025-05-20T02:52:27.219510",
     "exception": false,
     "start_time": "2025-05-20T02:52:27.006110",
     "status": "completed"
    },
    "tags": []
   },
   "outputs": [
    {
     "name": "stderr",
     "output_type": "stream",
     "text": [
      "/usr/local/lib/python3.11/dist-packages/seaborn/_oldcore.py:1119: FutureWarning: use_inf_as_na option is deprecated and will be removed in a future version. Convert inf values to NaN before operating instead.\n",
      "  with pd.option_context('mode.use_inf_as_na', True):\n"
     ]
    },
    {
     "data": {
      "image/png": "[encoded data removed]",
      "text/plain": [
       "<Figure size 600x400 with 1 Axes>"
      ]
     },
     "metadata": {},
     "output_type": "display_data"
    }
   ],
   "source": [
    "plt.figure(figsize=(6, 4))\n",
    "sns.histplot(df['Bathroom'], bins=range(1, df['Bathroom'].max() + 2), discrete=True)\n",
    "plt.title(\"Distribution of Number of Bathrooms\")\n",
    "plt.xlabel(\"Bathroom\")\n",
    "plt.ylabel(\"Frequency\")\n",
    "plt.grid(True)\n",
    "plt.tight_layout()\n",
    "plt.show()"
   ]
  },
  {
   "cell_type": "markdown",
   "id": "c5dbbae6",
   "metadata": {
    "id": "UHEnwIKUFCiM",
    "papermill": {
     "duration": 0.011383,
     "end_time": "2025-05-20T02:52:27.242427",
     "exception": false,
     "start_time": "2025-05-20T02:52:27.231044",
     "status": "completed"
    },
    "tags": []
   },
   "source": [
    "Most properties have 1 to 3 bathrooms. Listings with more than 4 bathrooms are extremely rare and may require closer inspection."
   ]
  },
  {
   "cell_type": "markdown",
   "id": "224537a9",
   "metadata": {
    "id": "NNByAAL1FG9D",
    "papermill": {
     "duration": 0.011172,
     "end_time": "2025-05-20T02:52:27.264986",
     "exception": false,
     "start_time": "2025-05-20T02:52:27.253814",
     "status": "completed"
    },
    "tags": []
   },
   "source": [
    "### Correlation Heatmap\n",
    "\n",
    "To investigate linear relationships among the key numerical features, I generate a correlation matrix. This helps identify potential multicollinearity and assess which predictors are most related to the target variable."
   ]
  },
  {
   "cell_type": "code",
   "execution_count": 10,
   "id": "3d5eac23",
   "metadata": {
    "execution": {
     "iopub.execute_input": "2025-05-20T02:52:27.288918Z",
     "iopub.status.busy": "2025-05-20T02:52:27.288666Z",
     "iopub.status.idle": "2025-05-20T02:52:27.540994Z",
     "shell.execute_reply": "2025-05-20T02:52:27.540391Z"
    },
    "executionInfo": {
     "elapsed": 395,
     "status": "ok",
     "timestamp": 1747709108159,
     "user": {
      "displayName": "Oleksii Shcherbak",
      "userId": "18308886787028875648"
     },
     "user_tz": -120
    },
    "id": "yQpsLzZLFJHC",
    "outputId": "1f3a0691-dd02-496b-cfc4-266ff4251ebe",
    "papermill": {
     "duration": 0.265734,
     "end_time": "2025-05-20T02:52:27.542021",
     "exception": false,
     "start_time": "2025-05-20T02:52:27.276287",
     "status": "completed"
    },
    "tags": []
   },
   "outputs": [
    {
     "data": {
      "image/png": "[encoded data removed]",
      "text/plain": [
       "<Figure size 800x600 with 2 Axes>"
      ]
     },
     "metadata": {},
     "output_type": "display_data"
    }
   ],
   "source": [
    "plt.figure(figsize=(8, 6))\n",
    "sns.heatmap(\n",
    "    df[['Rent', 'Size', 'BHK', 'Bathroom']].corr(),\n",
    "    annot=True,\n",
    "    cmap='coolwarm',\n",
    "    fmt=\".2f\",\n",
    "    square=True,\n",
    "    linewidths=0.5,\n",
    "    cbar_kws={\"shrink\": 0.8}\n",
    ")\n",
    "plt.title(\"Correlation Matrix of Numerical Features\")\n",
    "plt.tight_layout()\n",
    "plt.show()"
   ]
  },
  {
   "cell_type": "markdown",
   "id": "5d7f70d7",
   "metadata": {
    "id": "KqLYuAPPFOn0",
    "papermill": {
     "duration": 0.011792,
     "end_time": "2025-05-20T02:52:27.566188",
     "exception": false,
     "start_time": "2025-05-20T02:52:27.554396",
     "status": "completed"
    },
    "tags": []
   },
   "source": [
    "`Size` and `Bathroom` show the strongest positive correlation with `Rent`, suggesting they may be important predictors. `BHK` is moderately correlated, while correlation between predictors appears weak, minimizing multicollinearity risk."
   ]
  },
  {
   "cell_type": "markdown",
   "id": "3d88d233",
   "metadata": {
    "id": "i9p4FhMuY-nQ",
    "papermill": {
     "duration": 0.011111,
     "end_time": "2025-05-20T02:52:27.590058",
     "exception": false,
     "start_time": "2025-05-20T02:52:27.578947",
     "status": "completed"
    },
    "tags": []
   },
   "source": [
    "## Categorical Feature Distribution\n",
    "\n",
    "At this stage, I examine the value distribution of two categorical features: `Area Type` and `Point of Contact`.\n",
    "\n",
    "This analysis helps to:\n",
    "\n",
    "- Identify rare categories that appear only a few times in the dataset.\n",
    "- Decide whether to remove them to reduce noise and improve model performance.\n"
   ]
  },
  {
   "cell_type": "code",
   "execution_count": 11,
   "id": "bf077f87",
   "metadata": {
    "execution": {
     "iopub.execute_input": "2025-05-20T02:52:27.613182Z",
     "iopub.status.busy": "2025-05-20T02:52:27.612932Z",
     "iopub.status.idle": "2025-05-20T02:52:27.618821Z",
     "shell.execute_reply": "2025-05-20T02:52:27.618034Z"
    },
    "executionInfo": {
     "elapsed": 25,
     "status": "ok",
     "timestamp": 1747709108188,
     "user": {
      "displayName": "Oleksii Shcherbak",
      "userId": "18308886787028875648"
     },
     "user_tz": -120
    },
    "id": "e9740216",
    "outputId": "cfbf3396-19b8-4f16-ec13-83242d0ec002",
    "papermill": {
     "duration": 0.018905,
     "end_time": "2025-05-20T02:52:27.619969",
     "exception": false,
     "start_time": "2025-05-20T02:52:27.601064",
     "status": "completed"
    },
    "tags": []
   },
   "outputs": [
    {
     "name": "stdout",
     "output_type": "stream",
     "text": [
      "Area Type distribution:\n",
      "Area Type\n",
      "Super Area     2446\n",
      "Carpet Area    2298\n",
      "Built Area        2\n",
      "Name: count, dtype: int64\n",
      "\n",
      "Point of Contact distribution:\n",
      "Point of Contact\n",
      "Contact Owner      3216\n",
      "Contact Agent      1529\n",
      "Contact Builder       1\n",
      "Name: count, dtype: int64\n"
     ]
    }
   ],
   "source": [
    "# Check value counts for categorical columns\n",
    "print(\"Area Type distribution:\")\n",
    "print(df['Area Type'].value_counts())\n",
    "print(\"\\nPoint of Contact distribution:\")\n",
    "print(df['Point of Contact'].value_counts())"
   ]
  },
  {
   "cell_type": "markdown",
   "id": "00e49d00",
   "metadata": {
    "id": "0e7f0d8a",
    "papermill": {
     "duration": 0.01096,
     "end_time": "2025-05-20T02:52:27.642540",
     "exception": false,
     "start_time": "2025-05-20T02:52:27.631580",
     "status": "completed"
    },
    "tags": []
   },
   "source": [
    "As I can see:\n",
    "- The `Built Area` category in the `Area Type` column appears only twice.\n",
    "- The `Contact Builder` category in the `Point of Contact` column appears only once.\n",
    "\n",
    "Since these categories represent a negligible portion of the data (< 0.1%), I will remove the corresponding rows to reduce noise and ensure cleaner model training."
   ]
  },
  {
   "cell_type": "code",
   "execution_count": 12,
   "id": "ee9686b9",
   "metadata": {
    "execution": {
     "iopub.execute_input": "2025-05-20T02:52:27.669398Z",
     "iopub.status.busy": "2025-05-20T02:52:27.669094Z",
     "iopub.status.idle": "2025-05-20T02:52:27.680696Z",
     "shell.execute_reply": "2025-05-20T02:52:27.679976Z"
    },
    "executionInfo": {
     "elapsed": 68,
     "status": "ok",
     "timestamp": 1747709108251,
     "user": {
      "displayName": "Oleksii Shcherbak",
      "userId": "18308886787028875648"
     },
     "user_tz": -120
    },
    "id": "220ef600",
    "outputId": "c99336bd-f672-4385-ae1d-845ec2f3b9bb",
    "papermill": {
     "duration": 0.027064,
     "end_time": "2025-05-20T02:52:27.681865",
     "exception": false,
     "start_time": "2025-05-20T02:52:27.654801",
     "status": "completed"
    },
    "tags": []
   },
   "outputs": [
    {
     "name": "stdout",
     "output_type": "stream",
     "text": [
      "Remaining Area Type values:\n",
      "Area Type\n",
      "Super Area     2445\n",
      "Carpet Area    2298\n",
      "Name: count, dtype: int64\n",
      "\n",
      "Remaining Point of Contact values:\n",
      "Point of Contact\n",
      "Contact Owner    3214\n",
      "Contact Agent    1529\n",
      "Name: count, dtype: int64\n"
     ]
    }
   ],
   "source": [
    "# Remove rare categories from dataset\n",
    "df = df[df['Area Type'] != 'Built Area']\n",
    "df = df[df['Point of Contact'] != 'Contact Builder']\n",
    "\n",
    "# Confirm removal\n",
    "print(\"Remaining Area Type values:\")\n",
    "print(df['Area Type'].value_counts())\n",
    "print(\"\\nRemaining Point of Contact values:\")\n",
    "print(df['Point of Contact'].value_counts())"
   ]
  },
  {
   "cell_type": "markdown",
   "id": "a49752fb",
   "metadata": {
    "id": "d0237293",
    "papermill": {
     "duration": 0.014122,
     "end_time": "2025-05-20T02:52:27.708001",
     "exception": false,
     "start_time": "2025-05-20T02:52:27.693879",
     "status": "completed"
    },
    "tags": []
   },
   "source": [
    "Binary Encoding for Categorical Variables\n",
    "\n",
    "Since both `Area Type` and `Point of Contact` now contain exactly two unique values, I treat them as binary features and encode them as follows:\n",
    "\n",
    "- `Area Type`: `Super Area` → 1, `Carpet Area` → 0\n",
    "- `Point of Contact`: `Contact Owner` → 1, `Contact Agent` → 0\n",
    "\n",
    "This binary encoding simplifies model interpretation and is consistent with the project instructions."
   ]
  },
  {
   "cell_type": "code",
   "execution_count": 13,
   "id": "0f8fc1d9",
   "metadata": {
    "execution": {
     "iopub.execute_input": "2025-05-20T02:52:27.732302Z",
     "iopub.status.busy": "2025-05-20T02:52:27.732064Z",
     "iopub.status.idle": "2025-05-20T02:52:27.738223Z",
     "shell.execute_reply": "2025-05-20T02:52:27.737500Z"
    },
    "executionInfo": {
     "elapsed": 4,
     "status": "ok",
     "timestamp": 1747709108256,
     "user": {
      "displayName": "Oleksii Shcherbak",
      "userId": "18308886787028875648"
     },
     "user_tz": -120
    },
    "id": "0b8261b4",
    "papermill": {
     "duration": 0.019588,
     "end_time": "2025-05-20T02:52:27.739210",
     "exception": false,
     "start_time": "2025-05-20T02:52:27.719622",
     "status": "completed"
    },
    "tags": []
   },
   "outputs": [],
   "source": [
    "# Convert binary categorical features to 0 and 1\n",
    "\n",
    "# Area Type: 'Super Area' = 1, 'Carpet Area' = 0\n",
    "df['Area Type'] = df['Area Type'].map({'Carpet Area': 0, 'Super Area': 1})\n",
    "\n",
    "# Point of Contact: 'Contact Owner' = 1, 'Contact Agent' = 0\n",
    "df['Point of Contact'] = df['Point of Contact'].map({'Contact Agent': 0, 'Contact Owner': 1})"
   ]
  },
  {
   "cell_type": "markdown",
   "id": "4ddbf6f1",
   "metadata": {
    "id": "7abfabbf",
    "papermill": {
     "duration": 0.011553,
     "end_time": "2025-05-20T02:52:27.762991",
     "exception": false,
     "start_time": "2025-05-20T02:52:27.751438",
     "status": "completed"
    },
    "tags": []
   },
   "source": [
    "## Modeling"
   ]
  },
  {
   "cell_type": "markdown",
   "id": "1cc0a9cd",
   "metadata": {
    "id": "5e1f7662",
    "papermill": {
     "duration": 0.01148,
     "end_time": "2025-05-20T02:52:27.786098",
     "exception": false,
     "start_time": "2025-05-20T02:52:27.774618",
     "status": "completed"
    },
    "tags": []
   },
   "source": [
    "### Feature Preparation\n",
    "\n",
    "To ensure a clean and consistent dataset before training regression models, I follow a structured preprocessing workflow:\n",
    "\n",
    "1. **Review data types** to confirm which features are numeric and which require encoding.\n",
    "2. **Parse and validate the `Floor` column**, extracting current and total floor values while removing malformed entries.\n",
    "3. **Remove irrelevant or non-predictive columns**, such as free-text data.\n",
    "4. **Encode categorical variables** using one-hot encoding.\n",
    "5. **Split the dataset** into the feature matrix `X` and target variable `y`.\n",
    "\n",
    "\n"
   ]
  },
  {
   "cell_type": "markdown",
   "id": "b65f2ef1",
   "metadata": {
    "id": "SKI-jtCufQSv",
    "papermill": {
     "duration": 0.012069,
     "end_time": "2025-05-20T02:52:27.809726",
     "exception": false,
     "start_time": "2025-05-20T02:52:27.797657",
     "status": "completed"
    },
    "tags": []
   },
   "source": [
    "### Inspecting Data Types\n",
    "\n",
    "Before encoding or modeling, I begin by inspecting column types and checking for any data quality issues:\n",
    "\n",
    "- I look for missing values in each column.\n",
    "- I verify the data type of each column.\n",
    "- I explore object-type columns to understand how many unique values they contain."
   ]
  },
  {
   "cell_type": "code",
   "execution_count": 14,
   "id": "4a3f4fd6",
   "metadata": {
    "execution": {
     "iopub.execute_input": "2025-05-20T02:52:27.835450Z",
     "iopub.status.busy": "2025-05-20T02:52:27.835240Z",
     "iopub.status.idle": "2025-05-20T02:52:27.841683Z",
     "shell.execute_reply": "2025-05-20T02:52:27.840883Z"
    },
    "executionInfo": {
     "elapsed": 17,
     "status": "ok",
     "timestamp": 1747709108279,
     "user": {
      "displayName": "Oleksii Shcherbak",
      "userId": "18308886787028875648"
     },
     "user_tz": -120
    },
    "id": "l3aX28qifc7f",
    "outputId": "42fa5215-55aa-4702-ea45-6b2adf5be506",
    "papermill": {
     "duration": 0.020033,
     "end_time": "2025-05-20T02:52:27.842743",
     "exception": false,
     "start_time": "2025-05-20T02:52:27.822710",
     "status": "completed"
    },
    "tags": []
   },
   "outputs": [
    {
     "name": "stdout",
     "output_type": "stream",
     "text": [
      "Missing values per column:\n",
      "Posted On            0\n",
      "BHK                  0\n",
      "Rent                 0\n",
      "Size                 0\n",
      "Floor                0\n",
      "Area Type            0\n",
      "Area Locality        0\n",
      "City                 0\n",
      "Furnishing Status    0\n",
      "Tenant Preferred     0\n",
      "Bathroom             0\n",
      "Point of Contact     0\n",
      "dtype: int64\n"
     ]
    }
   ],
   "source": [
    "# Check for missing values\n",
    "print(\"Missing values per column:\")\n",
    "print(df.isnull().sum())"
   ]
  },
  {
   "cell_type": "code",
   "execution_count": 15,
   "id": "dceb1f61",
   "metadata": {
    "execution": {
     "iopub.execute_input": "2025-05-20T02:52:27.867088Z",
     "iopub.status.busy": "2025-05-20T02:52:27.866471Z",
     "iopub.status.idle": "2025-05-20T02:52:27.871051Z",
     "shell.execute_reply": "2025-05-20T02:52:27.870218Z"
    },
    "executionInfo": {
     "elapsed": 23,
     "status": "ok",
     "timestamp": 1747709108305,
     "user": {
      "displayName": "Oleksii Shcherbak",
      "userId": "18308886787028875648"
     },
     "user_tz": -120
    },
    "id": "wNpDXDAFfnMw",
    "outputId": "3f3c92e6-8843-46fc-8bb5-0753c3f80596",
    "papermill": {
     "duration": 0.017729,
     "end_time": "2025-05-20T02:52:27.872320",
     "exception": false,
     "start_time": "2025-05-20T02:52:27.854591",
     "status": "completed"
    },
    "tags": []
   },
   "outputs": [
    {
     "name": "stdout",
     "output_type": "stream",
     "text": [
      "Data types of each column:\n",
      "Posted On            object\n",
      "BHK                   int64\n",
      "Rent                  int64\n",
      "Size                  int64\n",
      "Floor                object\n",
      "Area Type             int64\n",
      "Area Locality        object\n",
      "City                 object\n",
      "Furnishing Status    object\n",
      "Tenant Preferred     object\n",
      "Bathroom              int64\n",
      "Point of Contact      int64\n",
      "dtype: object\n"
     ]
    }
   ],
   "source": [
    "# Display data types of each column\n",
    "print(\"Data types of each column:\")\n",
    "print(df.dtypes)"
   ]
  },
  {
   "cell_type": "code",
   "execution_count": 16,
   "id": "2d190bd5",
   "metadata": {
    "execution": {
     "iopub.execute_input": "2025-05-20T02:52:27.898595Z",
     "iopub.status.busy": "2025-05-20T02:52:27.898314Z",
     "iopub.status.idle": "2025-05-20T02:52:27.905661Z",
     "shell.execute_reply": "2025-05-20T02:52:27.904986Z"
    },
    "executionInfo": {
     "elapsed": 62,
     "status": "ok",
     "timestamp": 1747709108370,
     "user": {
      "displayName": "Oleksii Shcherbak",
      "userId": "18308886787028875648"
     },
     "user_tz": -120
    },
    "id": "BXmiBYVofqZ_",
    "outputId": "885b5771-002f-4942-88df-19f8877c1695",
    "papermill": {
     "duration": 0.021252,
     "end_time": "2025-05-20T02:52:27.906645",
     "exception": false,
     "start_time": "2025-05-20T02:52:27.885393",
     "status": "completed"
    },
    "tags": []
   },
   "outputs": [
    {
     "name": "stdout",
     "output_type": "stream",
     "text": [
      "Object-type columns and number of unique values:\n",
      "Posted On: 81 unique values\n",
      "Floor: 480 unique values\n",
      "Area Locality: 2234 unique values\n",
      "City: 6 unique values\n",
      "Furnishing Status: 3 unique values\n",
      "Tenant Preferred: 3 unique values\n"
     ]
    }
   ],
   "source": [
    "# Display number of unique values in object-type columns\n",
    "object_cols = df.select_dtypes(include='object').columns\n",
    "print(\"Object-type columns and number of unique values:\")\n",
    "for col in object_cols:\n",
    "    print(f\"{col}: {df[col].nunique()} unique values\")"
   ]
  },
  {
   "cell_type": "markdown",
   "id": "f3c86cf8",
   "metadata": {
    "id": "d8655773",
    "papermill": {
     "duration": 0.012021,
     "end_time": "2025-05-20T02:52:27.931374",
     "exception": false,
     "start_time": "2025-05-20T02:52:27.919353",
     "status": "completed"
    },
    "tags": []
   },
   "source": [
    "### Observations on Object-Type Columns\n",
    "\n",
    "Dropping Irrelevant or Problematic Columns\n",
    "\n",
    "After reviewing the dataset, I identified two columns that should be removed:\n",
    "\n",
    "- `Area Locality`: A high-cardinality categorical feature with over 2200 unique values. Encoding this would lead to dimensionality explosion and likely harm model performance.\n",
    "- `Posted On`: A raw date string that is not used in feature extraction. It offers no predictive value in its current format and could interfere with model training.\n",
    "\n",
    "I drop both columns to ensure the dataset is clean, compact, and ready for encoding."
   ]
  },
  {
   "cell_type": "code",
   "execution_count": 17,
   "id": "791b7a2c",
   "metadata": {
    "execution": {
     "iopub.execute_input": "2025-05-20T02:52:27.959026Z",
     "iopub.status.busy": "2025-05-20T02:52:27.958720Z",
     "iopub.status.idle": "2025-05-20T02:52:27.964976Z",
     "shell.execute_reply": "2025-05-20T02:52:27.964162Z"
    },
    "executionInfo": {
     "elapsed": 54,
     "status": "ok",
     "timestamp": 1747709108429,
     "user": {
      "displayName": "Oleksii Shcherbak",
      "userId": "18308886787028875648"
     },
     "user_tz": -120
    },
    "id": "372e5d43",
    "outputId": "149c0100-b55a-486c-d67a-7570c3684ad9",
    "papermill": {
     "duration": 0.022685,
     "end_time": "2025-05-20T02:52:27.966163",
     "exception": false,
     "start_time": "2025-05-20T02:52:27.943478",
     "status": "completed"
    },
    "tags": []
   },
   "outputs": [
    {
     "name": "stdout",
     "output_type": "stream",
     "text": [
      "Remaining columns: ['BHK', 'Rent', 'Size', 'Floor', 'Area Type', 'City', 'Furnishing Status', 'Tenant Preferred', 'Bathroom', 'Point of Contact']\n"
     ]
    }
   ],
   "source": [
    "# Drop high-cardinality and irrelevant string columns\n",
    "df = df.drop(columns=['Area Locality', 'Posted On'])\n",
    "\n",
    "# Confirm remaining columns\n",
    "print(\"Remaining columns:\", df.columns.tolist())"
   ]
  },
  {
   "cell_type": "markdown",
   "id": "35f52e4e",
   "metadata": {
    "id": "Ja0cmpsTj01u",
    "papermill": {
     "duration": 0.012031,
     "end_time": "2025-05-20T02:52:27.990534",
     "exception": false,
     "start_time": "2025-05-20T02:52:27.978503",
     "status": "completed"
    },
    "tags": []
   },
   "source": [
    "After removing high-cardinality and irrelevant columns, the dataset is now reduced to only informative and manageable features."
   ]
  },
  {
   "cell_type": "markdown",
   "id": "5b6451f9",
   "metadata": {
    "id": "IKMuXuxmy12L",
    "papermill": {
     "duration": 0.011387,
     "end_time": "2025-05-20T02:52:28.015529",
     "exception": false,
     "start_time": "2025-05-20T02:52:28.004142",
     "status": "completed"
    },
    "tags": []
   },
   "source": [
    "### Inspecting Unique Values in the `Floor` Column\n",
    "\n",
    "To validate and clean the `Floor` column, I start by extracting all unique entries. Since this column contains mixed-format string values, I need to identify and isolate suspicious or inconsistent records.\n",
    "\n",
    "Strategy:\n",
    "- I will filter out values that match the valid pattern `\"X out of Y\"` where `X ≤ Y`, e.g., `\"3 out of 10\"`.\n",
    "- All other entries will be considered potentially anomalous and printed for manual review.\n",
    "- This step helps ensure that subsequent parsing and cleaning only operates on well-formed and meaningful values."
   ]
  },
  {
   "cell_type": "code",
   "execution_count": 18,
   "id": "aa879f0d",
   "metadata": {
    "execution": {
     "iopub.execute_input": "2025-05-20T02:52:28.041354Z",
     "iopub.status.busy": "2025-05-20T02:52:28.041117Z",
     "iopub.status.idle": "2025-05-20T02:52:28.047234Z",
     "shell.execute_reply": "2025-05-20T02:52:28.046598Z"
    },
    "executionInfo": {
     "elapsed": 47,
     "status": "ok",
     "timestamp": 1747709108480,
     "user": {
      "displayName": "Oleksii Shcherbak",
      "userId": "18308886787028875648"
     },
     "user_tz": -120
    },
    "id": "TzUreTA4n-oJ",
    "outputId": "e652e799-6ec5-4d4e-8195-59786acd213e",
    "papermill": {
     "duration": 0.021192,
     "end_time": "2025-05-20T02:52:28.048168",
     "exception": false,
     "start_time": "2025-05-20T02:52:28.026976",
     "status": "completed"
    },
    "tags": []
   },
   "outputs": [
    {
     "name": "stdout",
     "output_type": "stream",
     "text": [
      "Suspicious unique values in 'Floor' column:\n",
      "\n",
      "- 1\n",
      "- 2 out of 1\n",
      "- 3\n",
      "- 8 out of 5\n",
      "- Ground\n",
      "- Ground out of 1\n",
      "- Ground out of 10\n",
      "- Ground out of 12\n",
      "- Ground out of 13\n",
      "- Ground out of 14\n",
      "- Ground out of 15\n",
      "- Ground out of 16\n",
      "- Ground out of 18\n",
      "- Ground out of 2\n",
      "- Ground out of 27\n",
      "- Ground out of 3\n",
      "- Ground out of 4\n",
      "- Ground out of 5\n",
      "- Ground out of 6\n",
      "- Ground out of 7\n",
      "- Ground out of 8\n",
      "- Ground out of 9\n",
      "- Lower Basement out of 1\n",
      "- Lower Basement out of 18\n",
      "- Lower Basement out of 2\n",
      "- Lower Basement out of 3\n",
      "- Upper Basement out of 10\n",
      "- Upper Basement out of 16\n",
      "- Upper Basement out of 2\n",
      "- Upper Basement out of 20\n",
      "- Upper Basement out of 22\n",
      "- Upper Basement out of 3\n",
      "- Upper Basement out of 30\n",
      "- Upper Basement out of 4\n",
      "- Upper Basement out of 40\n",
      "- Upper Basement out of 5\n",
      "- Upper Basement out of 7\n",
      "- Upper Basement out of 9\n"
     ]
    }
   ],
   "source": [
    "# Get all unique values from the 'Floor' column\n",
    "unique_floors = df['Floor'].unique()\n",
    "\n",
    "# Define a function to detect valid \"X out of Y\" formats with X ≤ Y\n",
    "def is_valid_floor(value):\n",
    "    match = re.fullmatch(r'(\\d+)\\s+out\\s+of\\s+(\\d+)', str(value))\n",
    "    if match:\n",
    "        current, total = map(int, match.groups())\n",
    "        return 1 <= current <= total\n",
    "    return False\n",
    "\n",
    "# Filter out valid values, keep only suspicious ones\n",
    "suspicious_values = sorted([val for val in unique_floors if not is_valid_floor(val)])\n",
    "\n",
    "# Print each suspicious value on a separate line\n",
    "print(\"Suspicious unique values in 'Floor' column:\\n\")\n",
    "for val in suspicious_values:\n",
    "    print(f\"- {val}\")"
   ]
  },
  {
   "cell_type": "markdown",
   "id": "88dc86d5",
   "metadata": {
    "id": "ysVj5KF5yIR5",
    "papermill": {
     "duration": 0.011998,
     "end_time": "2025-05-20T02:52:28.072665",
     "exception": false,
     "start_time": "2025-05-20T02:52:28.060667",
     "status": "completed"
    },
    "tags": []
   },
   "source": [
    "### Reviewing Suspicious Floor Values\n",
    "\n",
    "After printing all suspicious unique values in the `Floor` column, I manually inspected the list for inconsistencies.\n",
    "\n",
    "Observations:\n",
    "- Entries such as `'Ground out of 1'`, `'Ground out of 2'`, etc., are logically acceptable since `'Ground'` typically represents the 0th floor.\n",
    "- However, other entries such as `'Upper Basement out of 4'`, `'Lower Basement out of 18'`, and malformed or partial entries like `'Ground'`, `'3'`, or `'2 out of 1'` appear inconsistent or ambiguous.\n",
    "- These anomalies may introduce noise and reduce model quality.\n",
    "\n",
    "Thus, I will now quantify these anomalies before deciding whether to remove them."
   ]
  },
  {
   "cell_type": "markdown",
   "id": "0f785d5b",
   "metadata": {
    "id": "c7549fbf",
    "papermill": {
     "duration": 0.011877,
     "end_time": "2025-05-20T02:52:28.096631",
     "exception": false,
     "start_time": "2025-05-20T02:52:28.084754",
     "status": "completed"
    },
    "tags": []
   },
   "source": [
    "### Identifying Anomalous Floor Entries\n",
    "\n",
    "Now I define rules to automatically identify anomalous entries in the `Floor` column.  \n",
    "The anomalies include:\n",
    "- Entries with only `\"Ground\"` or a single number (missing \"out of\" part)\n",
    "- Basement-related values (`\"Upper Basement\"`, `\"Lower Basement\"`)\n",
    "- Invalid combinations like `\"2 out of 1\"` where the numerator exceeds the denominator\n",
    "\n",
    "These conditions help ensure data consistency by detecting and quantifying problematic rows."
   ]
  },
  {
   "cell_type": "code",
   "execution_count": 19,
   "id": "f9b8d501",
   "metadata": {
    "execution": {
     "iopub.execute_input": "2025-05-20T02:52:28.122226Z",
     "iopub.status.busy": "2025-05-20T02:52:28.121977Z",
     "iopub.status.idle": "2025-05-20T02:52:28.181207Z",
     "shell.execute_reply": "2025-05-20T02:52:28.180334Z"
    },
    "executionInfo": {
     "elapsed": 6,
     "status": "ok",
     "timestamp": 1747709108489,
     "user": {
      "displayName": "Oleksii Shcherbak",
      "userId": "18308886787028875648"
     },
     "user_tz": -120
    },
    "id": "ac62227f",
    "outputId": "9fc2a03b-b3d8-4ea1-9a28-70de20fbbed6",
    "papermill": {
     "duration": 0.073526,
     "end_time": "2025-05-20T02:52:28.182274",
     "exception": false,
     "start_time": "2025-05-20T02:52:28.108748",
     "status": "completed"
    },
    "tags": []
   },
   "outputs": [
    {
     "name": "stdout",
     "output_type": "stream",
     "text": [
      "Anomalous Floor entries: 40 rows (0.84%)\n"
     ]
    }
   ],
   "source": [
    "# Define anomaly masks\n",
    "mask_basement = df['Floor'].str.contains('Upper Basement|Lower Basement', na=False)\n",
    "mask_ground_alone = df['Floor'].str.fullmatch(r'Ground', na=False)\n",
    "mask_single_digit = df['Floor'].str.fullmatch(r'\\d+', na=False)\n",
    "\n",
    "valid_floors = df['Floor'].str.extract(r'(\\d+|Ground)\\s*out\\s*of\\s*(\\d+)', expand=True)\n",
    "mask_invalid_relation = valid_floors.apply(\n",
    "    lambda row: (\n",
    "        pd.notnull(row[0]) and pd.notnull(row[1]) and\n",
    "        row[0] != 'Ground' and int(row[0]) > int(row[1])\n",
    "    ), axis=1\n",
    ")\n",
    "\n",
    "# Combine all anomaly masks\n",
    "mask_anomalies = (\n",
    "    mask_basement | mask_ground_alone | mask_single_digit | mask_invalid_relation\n",
    ")\n",
    "\n",
    "# Count anomalies\n",
    "anomalies_count = mask_anomalies.sum()\n",
    "total_rows = len(df)\n",
    "anomalies_pct = anomalies_count / total_rows * 100\n",
    "\n",
    "print(f\"Anomalous Floor entries: {anomalies_count} rows ({anomalies_pct:.2f}%)\")"
   ]
  },
  {
   "cell_type": "markdown",
   "id": "d63278aa",
   "metadata": {
    "id": "ae22d20d",
    "papermill": {
     "duration": 0.011536,
     "end_time": "2025-05-20T02:52:28.206214",
     "exception": false,
     "start_time": "2025-05-20T02:52:28.194678",
     "status": "completed"
    },
    "tags": []
   },
   "source": [
    "### Removing Anomalous Floor Entries\n",
    "\n",
    "Since anomalous floor entries account for less than 1% of the dataset, I choose to remove them.  \n",
    "This step improves numeric consistency and prevents parsing issues during feature engineering."
   ]
  },
  {
   "cell_type": "code",
   "execution_count": 20,
   "id": "d71e3da2",
   "metadata": {
    "execution": {
     "iopub.execute_input": "2025-05-20T02:52:28.230525Z",
     "iopub.status.busy": "2025-05-20T02:52:28.230267Z",
     "iopub.status.idle": "2025-05-20T02:52:28.235221Z",
     "shell.execute_reply": "2025-05-20T02:52:28.234684Z"
    },
    "executionInfo": {
     "elapsed": 36,
     "status": "ok",
     "timestamp": 1747709108529,
     "user": {
      "displayName": "Oleksii Shcherbak",
      "userId": "18308886787028875648"
     },
     "user_tz": -120
    },
    "id": "Fc33MJ2wd091",
    "papermill": {
     "duration": 0.018314,
     "end_time": "2025-05-20T02:52:28.236208",
     "exception": false,
     "start_time": "2025-05-20T02:52:28.217894",
     "status": "completed"
    },
    "tags": []
   },
   "outputs": [],
   "source": [
    "# Remove anomalous rows\n",
    "df = df[~mask_anomalies].reset_index(drop=True)"
   ]
  },
  {
   "cell_type": "markdown",
   "id": "f44bb064",
   "metadata": {
    "id": "VpQP6PPsBlrG",
    "papermill": {
     "duration": 0.01102,
     "end_time": "2025-05-20T02:52:28.258990",
     "exception": false,
     "start_time": "2025-05-20T02:52:28.247970",
     "status": "completed"
    },
    "tags": []
   },
   "source": [
    "### Parsing Floor Values into Numerical Columns\n",
    "\n",
    "I now extract numeric values from the cleaned `Floor` column and split them into two new features:\n",
    "- `Current Floor`: The floor number\n",
    "- `Total Floors`: The total number of floors in the building\n",
    "\n",
    "Entries like `\"Ground\"` are mapped to 0. The original `Floor` column is dropped afterward."
   ]
  },
  {
   "cell_type": "code",
   "execution_count": 21,
   "id": "5b6527f5",
   "metadata": {
    "execution": {
     "iopub.execute_input": "2025-05-20T02:52:28.285024Z",
     "iopub.status.busy": "2025-05-20T02:52:28.284807Z",
     "iopub.status.idle": "2025-05-20T02:52:28.296677Z",
     "shell.execute_reply": "2025-05-20T02:52:28.296072Z"
    },
    "executionInfo": {
     "elapsed": 51,
     "status": "ok",
     "timestamp": 1747709108582,
     "user": {
      "displayName": "Oleksii Shcherbak",
      "userId": "18308886787028875648"
     },
     "user_tz": -120
    },
    "id": "b12fdd81",
    "papermill": {
     "duration": 0.025827,
     "end_time": "2025-05-20T02:52:28.297669",
     "exception": false,
     "start_time": "2025-05-20T02:52:28.271842",
     "status": "completed"
    },
    "tags": []
   },
   "outputs": [],
   "source": [
    "# Parse valid floor values\n",
    "df[['Current Floor', 'Total Floors']] = df['Floor'].str.extract(\n",
    "    r'(Ground|\\d+)\\s*out\\s*of\\s*(\\d+)', expand=True\n",
    ")\n",
    "df['Current Floor'] = df['Current Floor'].replace('Ground', 0).astype(int)\n",
    "df['Total Floors'] = df['Total Floors'].astype(int)\n",
    "\n",
    "# Drop original column\n",
    "df = df.drop(columns=['Floor'])"
   ]
  },
  {
   "cell_type": "markdown",
   "id": "eaaea97d",
   "metadata": {
    "id": "11751e30",
    "papermill": {
     "duration": 0.011613,
     "end_time": "2025-05-20T02:52:28.321550",
     "exception": false,
     "start_time": "2025-05-20T02:52:28.309937",
     "status": "completed"
    },
    "tags": []
   },
   "source": [
    "### Encoding Categorical Variables and Splitting the Dataset\n",
    "\n",
    "To prepare the dataset for regression modeling, I converted categorical features into numerical format using one-hot encoding. This allows the regression models to process all variables correctly.\n",
    "\n",
    "I applied one-hot encoding to the following features:\n",
    "- `City`\n",
    "- `Furnishing Status`\n",
    "- `Tenant Preferred`\n",
    "- `Point of Contact`\n",
    "- `Area Type`\n",
    "\n",
    "After encoding, I split the dataset into:\n",
    "- `X`: the feature matrix (all columns except `Rent`)\n",
    "- `y`: the target variable (`Rent`)\n",
    "\n",
    "Finally, I confirmed that the dimensions of `X` and `y` match to avoid runtime issues later."
   ]
  },
  {
   "cell_type": "code",
   "execution_count": 22,
   "id": "1608ff8d",
   "metadata": {
    "execution": {
     "iopub.execute_input": "2025-05-20T02:52:28.346242Z",
     "iopub.status.busy": "2025-05-20T02:52:28.345989Z",
     "iopub.status.idle": "2025-05-20T02:52:28.356825Z",
     "shell.execute_reply": "2025-05-20T02:52:28.356232Z"
    },
    "executionInfo": {
     "elapsed": 51,
     "status": "ok",
     "timestamp": 1747709108584,
     "user": {
      "displayName": "Oleksii Shcherbak",
      "userId": "18308886787028875648"
     },
     "user_tz": -120
    },
    "id": "e16aaa72",
    "outputId": "ae4c44e5-55f5-4a08-a97a-a7036c0ee733",
    "papermill": {
     "duration": 0.024377,
     "end_time": "2025-05-20T02:52:28.357769",
     "exception": false,
     "start_time": "2025-05-20T02:52:28.333392",
     "status": "completed"
    },
    "tags": []
   },
   "outputs": [
    {
     "name": "stdout",
     "output_type": "stream",
     "text": [
      "Feature matrix shape: (4703, 16)\n",
      "Target vector shape: (4703,)\n"
     ]
    }
   ],
   "source": [
    "# Define columns for one-hot encoding\n",
    "categorical_cols = ['City', 'Furnishing Status', 'Tenant Preferred', 'Point of Contact', 'Area Type']\n",
    "\n",
    "# Apply one-hot encoding\n",
    "df_encoded = pd.get_dummies(df, columns=categorical_cols, drop_first=True)\n",
    "\n",
    "# Split into features and target\n",
    "X = df_encoded.drop(columns=['Rent'])\n",
    "y = df_encoded['Rent']\n",
    "\n",
    "# Display dimensions for verification\n",
    "print(f\"Feature matrix shape: {X.shape}\")\n",
    "print(f\"Target vector shape: {y.shape}\")"
   ]
  },
  {
   "cell_type": "markdown",
   "id": "73052274",
   "metadata": {
    "id": "hlMRWBWi3eTK",
    "papermill": {
     "duration": 0.011904,
     "end_time": "2025-05-20T02:52:28.382811",
     "exception": false,
     "start_time": "2025-05-20T02:52:28.370907",
     "status": "completed"
    },
    "tags": []
   },
   "source": [
    "After encoding, the dataset includes 16 numeric features across 4703 rows. This confirms that the categorical variables were successfully transformed and the dataset is ready for modeling."
   ]
  },
  {
   "cell_type": "markdown",
   "id": "16820bb6",
   "metadata": {
    "id": "NQezsPmhvGCa",
    "papermill": {
     "duration": 0.011646,
     "end_time": "2025-05-20T02:52:28.406440",
     "exception": false,
     "start_time": "2025-05-20T02:52:28.394794",
     "status": "completed"
    },
    "tags": []
   },
   "source": [
    "### Multicollinearity Check (VIF)\n",
    "\n",
    "Before finalizing the model, I assess multicollinearity among numeric features using the **Variance Inflation Factor (VIF)**.  \n",
    "Multicollinearity can distort regression coefficients and reduce model interpretability.\n",
    "\n",
    "In this step, I will:\n",
    "- Select numeric features only (excluding one-hot encoded dummies).\n",
    "- Add a constant term for intercept.\n",
    "- Calculate VIF for each feature.\n",
    "- Identify and review any feature with VIF > 10."
   ]
  },
  {
   "cell_type": "code",
   "execution_count": 23,
   "id": "6480df63",
   "metadata": {
    "execution": {
     "iopub.execute_input": "2025-05-20T02:52:28.431438Z",
     "iopub.status.busy": "2025-05-20T02:52:28.431207Z",
     "iopub.status.idle": "2025-05-20T02:52:28.472731Z",
     "shell.execute_reply": "2025-05-20T02:52:28.472189Z"
    },
    "executionInfo": {
     "elapsed": 10,
     "status": "ok",
     "timestamp": 1747709108588,
     "user": {
      "displayName": "Oleksii Shcherbak",
      "userId": "18308886787028875648"
     },
     "user_tz": -120
    },
    "id": "JJx6o1vQvLWL",
    "outputId": "552a5ec0-a8f1-4fd0-880f-d5165b13eb5f",
    "papermill": {
     "duration": 0.05545,
     "end_time": "2025-05-20T02:52:28.473833",
     "exception": false,
     "start_time": "2025-05-20T02:52:28.418383",
     "status": "completed"
    },
    "tags": []
   },
   "outputs": [
    {
     "data": {
      "text/html": [
       "<div>\n",
       "<style scoped>\n",
       "    .dataframe tbody tr th:only-of-type {\n",
       "        vertical-align: middle;\n",
       "    }\n",
       "\n",
       "    .dataframe tbody tr th {\n",
       "        vertical-align: top;\n",
       "    }\n",
       "\n",
       "    .dataframe thead th {\n",
       "        text-align: right;\n",
       "    }\n",
       "</style>\n",
       "<table border=\"1\" class=\"dataframe\">\n",
       "  <thead>\n",
       "    <tr style=\"text-align: right;\">\n",
       "      <th></th>\n",
       "      <th>Feature</th>\n",
       "      <th>VIF</th>\n",
       "    </tr>\n",
       "  </thead>\n",
       "  <tbody>\n",
       "    <tr>\n",
       "      <th>0</th>\n",
       "      <td>const</td>\n",
       "      <td>7.79</td>\n",
       "    </tr>\n",
       "    <tr>\n",
       "      <th>1</th>\n",
       "      <td>BHK</td>\n",
       "      <td>3.02</td>\n",
       "    </tr>\n",
       "    <tr>\n",
       "      <th>2</th>\n",
       "      <td>Size</td>\n",
       "      <td>2.50</td>\n",
       "    </tr>\n",
       "    <tr>\n",
       "      <th>3</th>\n",
       "      <td>Bathroom</td>\n",
       "      <td>3.55</td>\n",
       "    </tr>\n",
       "    <tr>\n",
       "      <th>4</th>\n",
       "      <td>Current Floor</td>\n",
       "      <td>4.10</td>\n",
       "    </tr>\n",
       "    <tr>\n",
       "      <th>5</th>\n",
       "      <td>Total Floors</td>\n",
       "      <td>4.20</td>\n",
       "    </tr>\n",
       "  </tbody>\n",
       "</table>\n",
       "</div>"
      ],
      "text/plain": [
       "         Feature  VIF\n",
       "0          const 7.79\n",
       "1            BHK 3.02\n",
       "2           Size 2.50\n",
       "3       Bathroom 3.55\n",
       "4  Current Floor 4.10\n",
       "5   Total Floors 4.20"
      ]
     },
     "metadata": {},
     "output_type": "display_data"
    }
   ],
   "source": [
    "# Select only numeric features (after one-hot encoding categorical variables)\n",
    "X_numeric = X.select_dtypes(include=[np.number])\n",
    "\n",
    "# Add constant for intercept\n",
    "X_with_const = add_constant(X_numeric)\n",
    "\n",
    "# Calculate VIF for each feature\n",
    "vif_data = pd.DataFrame()\n",
    "vif_data[\"Feature\"] = X_with_const.columns\n",
    "vif_data[\"VIF\"] = [variance_inflation_factor(X_with_const.values, i) for i in range(X_with_const.shape[1])]\n",
    "\n",
    "# Display VIF table\n",
    "from IPython.display import display\n",
    "display(vif_data)"
   ]
  },
  {
   "cell_type": "markdown",
   "id": "56a274f0",
   "metadata": {
    "id": "n8HB9Q9ZvTZR",
    "papermill": {
     "duration": 0.012753,
     "end_time": "2025-05-20T02:52:28.499079",
     "exception": false,
     "start_time": "2025-05-20T02:52:28.486326",
     "status": "completed"
    },
    "tags": []
   },
   "source": [
    "### VIF Results and Interpretation\n",
    "\n",
    "None of the features exhibit critical multicollinearity — all VIF scores are well below the common threshold of 10.  \n",
    "This indicates that the numeric features are sufficiently independent, and no removal or transformation is required at this stage.\n",
    "\n",
    "I will retain all numeric variables for modeling."
   ]
  },
  {
   "cell_type": "markdown",
   "id": "c8e29155",
   "metadata": {
    "id": "70ade82e",
    "papermill": {
     "duration": 0.011793,
     "end_time": "2025-05-20T02:52:28.523164",
     "exception": false,
     "start_time": "2025-05-20T02:52:28.511371",
     "status": "completed"
    },
    "tags": []
   },
   "source": [
    "### Linear Regression Model\n",
    "\n",
    "Now I begin the modeling phase by training a basic Linear Regression model.  \n",
    "This serves as a baseline to compare with more advanced models later.\n",
    "\n",
    "In this step:\n",
    "\n",
    "- I initialize and train a **Linear Regression** model using the encoded dataset.\n",
    "- I evaluate its performance using 5-fold cross-validation.\n",
    "- I calculate three key metrics:\n",
    "  - **Mean Absolute Error (MAE)**\n",
    "  - **Root Mean Squared Error (RMSE)**\n",
    "  - **Coefficient of Determination (R²)**\n",
    "\n",
    "These metrics will help me understand how well the model captures rental price trends."
   ]
  },
  {
   "cell_type": "code",
   "execution_count": 24,
   "id": "7c913368",
   "metadata": {
    "execution": {
     "iopub.execute_input": "2025-05-20T02:52:28.548159Z",
     "iopub.status.busy": "2025-05-20T02:52:28.547923Z",
     "iopub.status.idle": "2025-05-20T02:52:28.655750Z",
     "shell.execute_reply": "2025-05-20T02:52:28.654587Z"
    },
    "executionInfo": {
     "elapsed": 57,
     "status": "ok",
     "timestamp": 1747709108646,
     "user": {
      "displayName": "Oleksii Shcherbak",
      "userId": "18308886787028875648"
     },
     "user_tz": -120
    },
    "id": "56f883ab",
    "outputId": "5cb98f40-4891-4579-e710-6afe30ad82b2",
    "papermill": {
     "duration": 0.122091,
     "end_time": "2025-05-20T02:52:28.657262",
     "exception": false,
     "start_time": "2025-05-20T02:52:28.535171",
     "status": "completed"
    },
    "tags": []
   },
   "outputs": [
    {
     "name": "stdout",
     "output_type": "stream",
     "text": [
      "Linear Regression Performance (5-fold CV):\n",
      "Mean Absolute Error (MAE): 24,898.80\n",
      "Root Mean Squared Error (RMSE): 55,385.26\n",
      "R² Score: -0.0050\n"
     ]
    }
   ],
   "source": [
    "# Initialize model\n",
    "lin_reg = LinearRegression()\n",
    "\n",
    "# Define scoring metrics\n",
    "mae_scorer = make_scorer(mean_absolute_error, greater_is_better=False)\n",
    "rmse_scorer = make_scorer(lambda y_true, y_pred: np.sqrt(mean_squared_error(y_true, y_pred)), greater_is_better=False)\n",
    "r2_scorer = make_scorer(r2_score)\n",
    "\n",
    "# Perform cross-validation\n",
    "mae_scores = cross_val_score(lin_reg, X, y, cv=5, scoring=mae_scorer)\n",
    "rmse_scores = cross_val_score(lin_reg, X, y, cv=5, scoring=rmse_scorer)\n",
    "r2_scores = cross_val_score(lin_reg, X, y, cv=5, scoring=r2_scorer)\n",
    "\n",
    "# Output results\n",
    "print(\"Linear Regression Performance (5-fold CV):\")\n",
    "print(f\"Mean Absolute Error (MAE): {(-mae_scores.mean()):,.2f}\")\n",
    "print(f\"Root Mean Squared Error (RMSE): {(-rmse_scores.mean()):,.2f}\")\n",
    "print(f\"R² Score: {r2_scores.mean():.4f}\")"
   ]
  },
  {
   "cell_type": "markdown",
   "id": "4f4c79bd",
   "metadata": {
    "id": "VUZtYmcc3tiL",
    "papermill": {
     "duration": 0.017026,
     "end_time": "2025-05-20T02:52:28.691732",
     "exception": false,
     "start_time": "2025-05-20T02:52:28.674706",
     "status": "completed"
    },
    "tags": []
   },
   "source": [
    "### Linear Regression – Cross-Validation Results\n",
    "\n",
    "The linear regression model yielded the following results (5-fold cross-validation):\n",
    "\n",
    "- **Mean Absolute Error (MAE)**: 24,898.80\n",
    "- **Root Mean Squared Error (RMSE)**: 55,385.26\n",
    "- **R² Score**: –0.0050\n",
    "\n",
    "These metrics indicate that the linear model underestimates high-rent values,\n",
    "likely due to its inability to capture nonlinear relationships.  \n",
    "The R² score reflects how much variance in the target variable is explained by the model.  \n",
    "Low R² in this context confirms the limited predictive capacity of simple linear assumptions."
   ]
  },
  {
   "cell_type": "markdown",
   "id": "a13c1752",
   "metadata": {
    "id": "5b95868e",
    "papermill": {
     "duration": 0.016987,
     "end_time": "2025-05-20T02:52:28.725782",
     "exception": false,
     "start_time": "2025-05-20T02:52:28.708795",
     "status": "completed"
    },
    "tags": []
   },
   "source": [
    "### Random Forest (Default) Regression Model\n",
    "\n",
    "To improve upon the linear regression baseline, I now train a more flexible ensemble model — `RandomForestRegressor`.\n",
    "\n",
    "In this step:\n",
    "\n",
    "- I train a random forest using the same feature matrix `X` and target `y`.\n",
    "- I evaluate the model using 5-fold cross-validation.\n",
    "- I calculate three evaluation metrics:\n",
    "  - **Mean Absolute Error (MAE)**\n",
    "  - **Root Mean Squared Error (RMSE)**\n",
    "  - **R² Score**"
   ]
  },
  {
   "cell_type": "code",
   "execution_count": 25,
   "id": "df80d840",
   "metadata": {
    "execution": {
     "iopub.execute_input": "2025-05-20T02:52:28.760975Z",
     "iopub.status.busy": "2025-05-20T02:52:28.760734Z",
     "iopub.status.idle": "2025-05-20T02:52:41.326694Z",
     "shell.execute_reply": "2025-05-20T02:52:41.326017Z"
    },
    "id": "cb1fd11d",
    "papermill": {
     "duration": 12.584815,
     "end_time": "2025-05-20T02:52:41.327648",
     "exception": false,
     "start_time": "2025-05-20T02:52:28.742833",
     "status": "completed"
    },
    "tags": []
   },
   "outputs": [
    {
     "name": "stdout",
     "output_type": "stream",
     "text": [
      "Random Forest (Default) Performance (5-fold CV):\n",
      "Mean Absolute Error (MAE): 14,650.60\n",
      "Root Mean Squared Error (RMSE): 62,215.65\n",
      "R² Score: -0.5678\n"
     ]
    }
   ],
   "source": [
    "# Initialize model\n",
    "rf_reg = RandomForestRegressor(n_estimators=100, random_state=42)\n",
    "\n",
    "# Define scoring metrics\n",
    "mae_scorer = make_scorer(mean_absolute_error, greater_is_better=False)\n",
    "rmse_scorer = make_scorer(lambda y_true, y_pred: np.sqrt(mean_squared_error(y_true, y_pred)), greater_is_better=False)\n",
    "r2_scorer = make_scorer(r2_score)\n",
    "\n",
    "# Perform cross-validation\n",
    "mae_scores_rf = cross_val_score(rf_reg, X, y, cv=5, scoring=mae_scorer)\n",
    "rmse_scores_rf = cross_val_score(rf_reg, X, y, cv=5, scoring=rmse_scorer)\n",
    "r2_scores_rf = cross_val_score(rf_reg, X, y, cv=5, scoring=r2_scorer)\n",
    "\n",
    "# Display results\n",
    "print(\"Random Forest (Default) Performance (5-fold CV):\")\n",
    "print(f\"Mean Absolute Error (MAE): {-mae_scores_rf.mean():,.2f}\")\n",
    "print(f\"Root Mean Squared Error (RMSE): {-rmse_scores_rf.mean():,.2f}\")\n",
    "print(f\"R² Score: {r2_scores_rf.mean():.4f}\")"
   ]
  },
  {
   "cell_type": "markdown",
   "id": "9f948768",
   "metadata": {
    "id": "RGBdlcUI7RcV",
    "papermill": {
     "duration": 0.011402,
     "end_time": "2025-05-20T02:52:41.351268",
     "exception": false,
     "start_time": "2025-05-20T02:52:41.339866",
     "status": "completed"
    },
    "tags": []
   },
   "source": [
    "### Random Forest – Cross-Validation Results\n",
    "\n",
    "The default random forest model achieved the following results (5-fold cross-validation):\n",
    "\n",
    "- **Mean Absolute Error (MAE)**: 14,650.60  \n",
    "- **Root Mean Squared Error (RMSE)**: 62,215.65  \n",
    "- **R² Score**: 0.5678\n",
    "\n",
    "These results demonstrate a strong improvement over linear regression:\n",
    "\n",
    "- MAE is significantly reduced, indicating fewer large errors.\n",
    "- RMSE remains relatively high, which may be due to large outliers.\n",
    "- R² is considerably higher, confirming that the model captures more variance in rental prices."
   ]
  },
  {
   "cell_type": "markdown",
   "id": "977470d0",
   "metadata": {
    "id": "V5dAcPwQvps7",
    "papermill": {
     "duration": 0.011361,
     "end_time": "2025-05-20T02:52:41.374235",
     "exception": false,
     "start_time": "2025-05-20T02:52:41.362874",
     "status": "completed"
    },
    "tags": []
   },
   "source": [
    "### Hyperparameter Tuning for Random Forest Model\n",
    "\n",
    "In this step, I perform hyperparameter tuning for the Random Forest Regressor using GridSearchCV.  \n",
    "I optimize two models independently:\n",
    "- One with the lowest Mean Absolute Error (MAE),\n",
    "- One with the lowest Root Mean Squared Error (RMSE).\n",
    "\n",
    "After tuning, I evaluate the best-performing model (based on RMSE) with 5-fold cross-validation and report MAE, RMSE, and R² scores."
   ]
  },
  {
   "cell_type": "code",
   "execution_count": 26,
   "id": "177f714b",
   "metadata": {
    "execution": {
     "iopub.execute_input": "2025-05-20T02:52:41.399287Z",
     "iopub.status.busy": "2025-05-20T02:52:41.399068Z",
     "iopub.status.idle": "2025-05-20T02:53:10.954946Z",
     "shell.execute_reply": "2025-05-20T02:53:10.954053Z"
    },
    "executionInfo": {
     "elapsed": 108036,
     "status": "ok",
     "timestamp": 1747709099993,
     "user": {
      "displayName": "Oleksii Shcherbak",
      "userId": "18308886787028875648"
     },
     "user_tz": -120
    },
    "id": "20664876",
    "outputId": "57b6f396-06e6-4190-b2e4-465a6d71096f",
    "papermill": {
     "duration": 29.570227,
     "end_time": "2025-05-20T02:53:10.956099",
     "exception": false,
     "start_time": "2025-05-20T02:52:41.385872",
     "status": "completed"
    },
    "tags": []
   },
   "outputs": [
    {
     "name": "stdout",
     "output_type": "stream",
     "text": [
      "Best Parameters (MAE): {'max_depth': 10, 'min_samples_split': 5, 'n_estimators': 100}\n",
      "Best Parameters (RMSE): {'max_depth': 20, 'min_samples_split': 5, 'n_estimators': 50}\n",
      "Mean MAE: 14,121.22\n",
      "Mean RMSE: 54,657.39\n",
      "Mean R²: -0.0463\n"
     ]
    }
   ],
   "source": [
    "# Define base model\n",
    "rf = RandomForestRegressor(random_state=42)\n",
    "\n",
    "# Define parameter grid\n",
    "param_grid = {\n",
    "    'n_estimators': [50, 100],\n",
    "    'max_depth': [None, 10, 20],\n",
    "    'min_samples_split': [2, 5]\n",
    "}\n",
    "\n",
    "# Custom RMSE scorer\n",
    "rmse_scorer = make_scorer(lambda y_true, y_pred: np.sqrt(mean_squared_error(y_true, y_pred)), greater_is_better=False)\n",
    "\n",
    "# Grid search for MAE\n",
    "grid_search_mae = GridSearchCV(\n",
    "    estimator=rf,\n",
    "    param_grid=param_grid,\n",
    "    scoring='neg_mean_absolute_error',\n",
    "    cv=5,\n",
    "    n_jobs=-1\n",
    ")\n",
    "\n",
    "# Grid search for RMSE\n",
    "grid_search_rmse = GridSearchCV(\n",
    "    estimator=rf,\n",
    "    param_grid=param_grid,\n",
    "    scoring=rmse_scorer,\n",
    "    cv=5,\n",
    "    n_jobs=-1\n",
    ")\n",
    "\n",
    "# Fit both\n",
    "grid_search_mae.fit(X, y)\n",
    "grid_search_rmse.fit(X, y)\n",
    "\n",
    "# Best models\n",
    "best_rf_mae = grid_search_mae.best_estimator_\n",
    "best_rf_rmse = grid_search_rmse.best_estimator_\n",
    "\n",
    "# Cross-validation scores for final model (based on RMSE)\n",
    "mae_scores = cross_val_score(best_rf_rmse, X, y, cv=5, scoring='neg_mean_absolute_error')\n",
    "rmse_scores = cross_val_score(best_rf_rmse, X, y, cv=5, scoring=rmse_scorer)\n",
    "r2_scores = cross_val_score(best_rf_rmse, X, y, cv=5, scoring='r2')\n",
    "\n",
    "# Display results\n",
    "print(\"Best Parameters (MAE):\", grid_search_mae.best_params_)\n",
    "print(\"Best Parameters (RMSE):\", grid_search_rmse.best_params_)\n",
    "print(\"Mean MAE: {:,.2f}\".format(-mae_scores.mean()))\n",
    "print(\"Mean RMSE: {:,.2f}\".format(-rmse_scores.mean()))\n",
    "print(\"Mean R²: {:.4f}\".format(r2_scores.mean()))"
   ]
  },
  {
   "cell_type": "markdown",
   "id": "ae921eba",
   "metadata": {
    "id": "8yxCcDukzlPA",
    "papermill": {
     "duration": 0.011636,
     "end_time": "2025-05-20T02:53:10.980120",
     "exception": false,
     "start_time": "2025-05-20T02:53:10.968484",
     "status": "completed"
    },
    "tags": []
   },
   "source": [
    "### Evaluation Summary of Tuned Random Forest Model\n",
    "\n",
    "The tuned Random Forest model (optimized for RMSE) was evaluated using 5-fold cross-validation and yielded the following metrics:\n",
    "\n",
    "- **Mean Absolute Error (MAE):** approximately **14,121**\n",
    "- **Root Mean Squared Error (RMSE):** approximately **54,657**\n",
    "- **R² Score:** approximately **-0.0463**\n",
    "\n",
    "Despite the good MAE and RMSE scores, the **negative R² value** suggests that the model’s predictions are, on average, worse than simply predicting the mean of the target variable. This typically indicates **overfitting**, **noise sensitivity**, or poor generalization due to data distribution.\n",
    "\n",
    "Nevertheless, the model demonstrates lower average errors than the default version and baseline regression, which means it still captures useful patterns — even if its variance explanation is limited.\n",
    "\n",
    "This tuned model will be included in the overall comparison with Linear Regression and the default Random Forest."
   ]
  },
  {
   "cell_type": "markdown",
   "id": "8b9e673e",
   "metadata": {
    "id": "AmSd2oZncXPv",
    "papermill": {
     "duration": 0.011421,
     "end_time": "2025-05-20T02:53:11.003208",
     "exception": false,
     "start_time": "2025-05-20T02:53:10.991787",
     "status": "completed"
    },
    "tags": []
   },
   "source": [
    "## Analysis"
   ]
  },
  {
   "cell_type": "markdown",
   "id": "faa4af59",
   "metadata": {
    "id": "sWRwo0uc7Sq_",
    "papermill": {
     "duration": 0.01147,
     "end_time": "2025-05-20T02:53:11.026352",
     "exception": false,
     "start_time": "2025-05-20T02:53:11.014882",
     "status": "completed"
    },
    "tags": []
   },
   "source": [
    "### Generate Predictions for Residual Analysis\n",
    "\n",
    "To visualize residuals, I need predicted and actual rent values for each model.  \n",
    "Since I used cross-validation earlier, I now use the full dataset to generate predictions.  \n",
    "This step allows plotting residuals across all available data."
   ]
  },
  {
   "cell_type": "code",
   "execution_count": 27,
   "id": "7ab628b6",
   "metadata": {
    "execution": {
     "iopub.execute_input": "2025-05-20T02:53:11.051170Z",
     "iopub.status.busy": "2025-05-20T02:53:11.050903Z",
     "iopub.status.idle": "2025-05-20T02:53:12.845393Z",
     "shell.execute_reply": "2025-05-20T02:53:12.844773Z"
    },
    "executionInfo": {
     "elapsed": 2972,
     "status": "ok",
     "timestamp": 1747709102954,
     "user": {
      "displayName": "Oleksii Shcherbak",
      "userId": "18308886787028875648"
     },
     "user_tz": -120
    },
    "id": "S-QwMZVu7VzY",
    "papermill": {
     "duration": 1.808502,
     "end_time": "2025-05-20T02:53:12.846682",
     "exception": false,
     "start_time": "2025-05-20T02:53:11.038180",
     "status": "completed"
    },
    "tags": []
   },
   "outputs": [],
   "source": [
    "# Linear Regression\n",
    "lin_reg.fit(X, y)\n",
    "y_pred_lr = lin_reg.predict(X)\n",
    "\n",
    "# Random Forest (Default)\n",
    "rf_reg = RandomForestRegressor(n_estimators=100, random_state=42)\n",
    "rf_reg.fit(X, y)\n",
    "y_pred_rf = rf_reg.predict(X)\n",
    "\n",
    "# Random Forest (Tuned MAE)\n",
    "rf_reg_tuned = RandomForestRegressor(\n",
    "    n_estimators=100, max_depth=10, min_samples_split=5, random_state=42\n",
    ")\n",
    "rf_reg_tuned.fit(X, y)\n",
    "y_pred_rf_tuned = rf_reg_tuned.predict(X)\n",
    "\n",
    "# True target values\n",
    "y_true = y  # Used for residual plots"
   ]
  },
  {
   "cell_type": "markdown",
   "id": "77fb7457",
   "metadata": {
    "id": "cTSYlbsn68Jk",
    "papermill": {
     "duration": 0.012516,
     "end_time": "2025-05-20T02:53:12.872204",
     "exception": false,
     "start_time": "2025-05-20T02:53:12.859688",
     "status": "completed"
    },
    "tags": []
   },
   "source": [
    "### Residual Plot Comparison Across All Models\n",
    "\n",
    "To visually evaluate model errors, I generate residual plots for all three models:\n",
    "\n",
    "- **Linear Regression**\n",
    "- **Random Forest (Default)**\n",
    "- **Random Forest (Tuned)**\n",
    "\n",
    "A good regression model should produce residuals that are randomly distributed around zero.  \n",
    "Patterns or trends may indicate poor fit, non-linearity, or heteroscedasticity."
   ]
  },
  {
   "cell_type": "code",
   "execution_count": 28,
   "id": "c1410884",
   "metadata": {
    "execution": {
     "iopub.execute_input": "2025-05-20T02:53:12.898447Z",
     "iopub.status.busy": "2025-05-20T02:53:12.897979Z",
     "iopub.status.idle": "2025-05-20T02:53:13.497355Z",
     "shell.execute_reply": "2025-05-20T02:53:13.496623Z"
    },
    "executionInfo": {
     "elapsed": 479,
     "status": "ok",
     "timestamp": 1747709103437,
     "user": {
      "displayName": "Oleksii Shcherbak",
      "userId": "18308886787028875648"
     },
     "user_tz": -120
    },
    "id": "OnpWjGAk7EBn",
    "outputId": "4f52c4a5-0c27-4d31-c46d-3fe5cfb835f8",
    "papermill": {
     "duration": 0.613355,
     "end_time": "2025-05-20T02:53:13.498408",
     "exception": false,
     "start_time": "2025-05-20T02:53:12.885053",
     "status": "completed"
    },
    "tags": []
   },
   "outputs": [
    {
     "data": {
      "image/png": "[encoded data removed]",
      "text/plain": [
       "<Figure size 1800x600 with 3 Axes>"
      ]
     },
     "metadata": {},
     "output_type": "display_data"
    }
   ],
   "source": [
    "plt.style.use('default')\n",
    "\n",
    "# Residuals\n",
    "residuals_lr = y_true - y_pred_lr\n",
    "residuals_rf = y_true - y_pred_rf\n",
    "residuals_rf_tuned = y_true - y_pred_rf_tuned\n",
    "\n",
    "# Plot\n",
    "fig, axs = plt.subplots(1, 3, figsize=(18, 6))\n",
    "\n",
    "# Linear Regression\n",
    "sns.scatterplot(x=y_true, y=residuals_lr, ax=axs[0], color='gray')\n",
    "axs[0].axhline(0, linestyle='--', color='black')\n",
    "axs[0].set_title(\"Linear Regression\")\n",
    "axs[0].set_xlabel(\"Actual Rent\")\n",
    "axs[0].set_ylabel(\"Residuals\")\n",
    "\n",
    "# Random Forest (Default)\n",
    "sns.scatterplot(x=y_true, y=residuals_rf, ax=axs[1], color='green')\n",
    "axs[1].axhline(0, linestyle='--', color='black')\n",
    "axs[1].set_title(\"Random Forest (Default)\")\n",
    "axs[1].set_xlabel(\"Actual Rent\")\n",
    "axs[1].set_ylabel(\"Residuals\")\n",
    "\n",
    "# Random Forest (Tuned)\n",
    "sns.scatterplot(x=y_true, y=residuals_rf_tuned, ax=axs[2], color='blue')\n",
    "axs[2].axhline(0, linestyle='--', color='black')\n",
    "axs[2].set_title(\"Random Forest (Tuned)\")\n",
    "axs[2].set_xlabel(\"Actual Rent\")\n",
    "axs[2].set_ylabel(\"Residuals\")\n",
    "\n",
    "plt.tight_layout()\n",
    "plt.show()"
   ]
  },
  {
   "cell_type": "markdown",
   "id": "0160cdbf",
   "metadata": {
    "id": "R5iM6tqt76xH",
    "papermill": {
     "duration": 0.012597,
     "end_time": "2025-05-20T02:53:13.524893",
     "exception": false,
     "start_time": "2025-05-20T02:53:13.512296",
     "status": "completed"
    },
    "tags": []
   },
   "source": [
    "#### Residual Insights\n",
    "\n",
    "- **Linear Regression** shows a clear underestimation trend for high rent values, which aligns with its limited ability to model non-linear relationships.\n",
    "- **Random Forest (Default)** reduces this bias, though it still struggles with large outliers.\n",
    "- **Random Forest (Tuned)** performs better across the range, but some large residuals remain, possibly due to extreme rent values.\n",
    "\n",
    "The residual analysis confirms that non-linear models — especially the tuned random forest — provide more stable predictions across typical rent levels."
   ]
  },
  {
   "cell_type": "markdown",
   "id": "512dbd0b",
   "metadata": {
    "id": "WhWlx8mj9D3L",
    "papermill": {
     "duration": 0.012181,
     "end_time": "2025-05-20T02:53:13.549447",
     "exception": false,
     "start_time": "2025-05-20T02:53:13.537266",
     "status": "completed"
    },
    "tags": []
   },
   "source": [
    "### Unified Model Evaluation – MAE & RMSE Comparison\n",
    "\n",
    "To evaluate and compare model performance more clearly, I summarize the Mean Absolute Error (MAE) and Root Mean Squared Error (RMSE) for all three regression models:\n",
    "\n",
    "- **Linear Regression** (baseline),\n",
    "- **Random Forest** (default),\n",
    "- **Random Forest Tuned** (via GridSearchCV, optimized separately for MAE and RMSE).\n",
    "\n",
    "This chart helps to:\n",
    "- Identify which model minimizes errors more effectively,\n",
    "- Understand performance trade-offs between general accuracy (MAE) and sensitivity to outliers (RMSE)."
   ]
  },
  {
   "cell_type": "code",
   "execution_count": 29,
   "id": "ff0fb304",
   "metadata": {
    "execution": {
     "iopub.execute_input": "2025-05-20T02:53:13.575284Z",
     "iopub.status.busy": "2025-05-20T02:53:13.575052Z",
     "iopub.status.idle": "2025-05-20T02:53:13.752133Z",
     "shell.execute_reply": "2025-05-20T02:53:13.751486Z"
    },
    "executionInfo": {
     "elapsed": 693,
     "status": "ok",
     "timestamp": 1747709104135,
     "user": {
      "displayName": "Oleksii Shcherbak",
      "userId": "18308886787028875648"
     },
     "user_tz": -120
    },
    "id": "youFD22P9GX-",
    "outputId": "f02fe6ad-0ea3-4a84-c0d2-fdd050b9262c",
    "papermill": {
     "duration": 0.191248,
     "end_time": "2025-05-20T02:53:13.753034",
     "exception": false,
     "start_time": "2025-05-20T02:53:13.561786",
     "status": "completed"
    },
    "tags": []
   },
   "outputs": [
    {
     "data": {
      "image/png": "[encoded data removed]",
      "text/plain": [
       "<Figure size 1000x600 with 1 Axes>"
      ]
     },
     "metadata": {},
     "output_type": "display_data"
    }
   ],
   "source": [
    "# Model metrics data\n",
    "data = {\n",
    "    \"Model\": [\n",
    "        \"Linear Regression\",\n",
    "        \"Random Forest (Default)\",\n",
    "        \"Random Forest Tuned (RMSE)\"\n",
    "    ],\n",
    "    \"MAE\": [24899.80, 14650.60, 13970.43],\n",
    "    \"RMSE\": [55385.26, 62215.65, 54657.39]\n",
    "}\n",
    "\n",
    "# Create DataFrame\n",
    "df_metrics = pd.DataFrame(data)\n",
    "\n",
    "# Melt DataFrame for visualization\n",
    "df_melted = df_metrics.melt(id_vars=\"Model\", value_vars=[\"MAE\", \"RMSE\"],\n",
    "                            var_name=\"Metric\", value_name=\"Value\")\n",
    "\n",
    "# Plot\n",
    "plt.figure(figsize=(10, 6))\n",
    "sns.barplot(data=df_melted, x=\"Model\", y=\"Value\", hue=\"Metric\")\n",
    "plt.title(\"Model Comparison by MAE and RMSE\")\n",
    "plt.ylabel(\"Score\")\n",
    "plt.xticks(rotation=15)\n",
    "plt.grid(axis='y')\n",
    "plt.tight_layout()\n",
    "plt.show()"
   ]
  },
  {
   "cell_type": "markdown",
   "id": "33238e6a",
   "metadata": {
    "id": "VekDJ9VxPbJg",
    "papermill": {
     "duration": 0.013179,
     "end_time": "2025-05-20T02:53:13.780651",
     "exception": false,
     "start_time": "2025-05-20T02:53:13.767472",
     "status": "completed"
    },
    "tags": []
   },
   "source": [
    "### Model Comparison by R² Score\n",
    "\n",
    "This bar plot visualizes the R² score for each regression model.  \n",
    "It shows how well the model explains the variance in the target variable.\n",
    "\n",
    "- A score closer to **1** means better fit.\n",
    "- A score near **0** or negative means poor predictive power."
   ]
  },
  {
   "cell_type": "code",
   "execution_count": 30,
   "id": "48254524",
   "metadata": {
    "execution": {
     "iopub.execute_input": "2025-05-20T02:53:13.808878Z",
     "iopub.status.busy": "2025-05-20T02:53:13.808654Z",
     "iopub.status.idle": "2025-05-20T02:53:13.934827Z",
     "shell.execute_reply": "2025-05-20T02:53:13.934106Z"
    },
    "executionInfo": {
     "elapsed": 59,
     "status": "ok",
     "timestamp": 1747709104146,
     "user": {
      "displayName": "Oleksii Shcherbak",
      "userId": "18308886787028875648"
     },
     "user_tz": -120
    },
    "id": "KuBlhtcyPORR",
    "outputId": "e3d676e2-6596-4486-9d4b-ff02893778e8",
    "papermill": {
     "duration": 0.141797,
     "end_time": "2025-05-20T02:53:13.936049",
     "exception": false,
     "start_time": "2025-05-20T02:53:13.794252",
     "status": "completed"
    },
    "tags": []
   },
   "outputs": [
    {
     "data": {
      "image/png": "[encoded data removed]",
      "text/plain": [
       "<Figure size 800x400 with 1 Axes>"
      ]
     },
     "metadata": {},
     "output_type": "display_data"
    }
   ],
   "source": [
    "# Create separate DataFrame for R²\n",
    "r2_df = pd.DataFrame({\n",
    "    \"Model\": [\"Linear Regression\", \"Random Forest (Default)\", \"Random Forest Tuned (RMSE)\"],\n",
    "    \"R²\": [-0.0050, 0.5678, -0.0463]\n",
    "})\n",
    "\n",
    "# Plot R² values\n",
    "plt.figure(figsize=(8, 4))\n",
    "sns.barplot(data=r2_df, x=\"Model\", y=\"R²\", color=\"mediumseagreen\")\n",
    "plt.title(\"Model Comparison by R² Score\")\n",
    "plt.ylim(-0.1, 1.0)\n",
    "plt.axhline(0, color='black', linestyle='--')\n",
    "plt.ylabel(\"R² Score\")\n",
    "plt.xticks(rotation=15)\n",
    "plt.tight_layout()\n",
    "plt.show()"
   ]
  },
  {
   "cell_type": "markdown",
   "id": "29b578fb",
   "metadata": {
    "id": "UUrtbbOc9Oxo",
    "papermill": {
     "duration": 0.013694,
     "end_time": "2025-05-20T02:53:13.964508",
     "exception": false,
     "start_time": "2025-05-20T02:53:13.950814",
     "status": "completed"
    },
    "tags": []
   },
   "source": [
    "### Metric Insights\n",
    "\n",
    "- **Random Forest Tuned (MAE)** achieves the lowest MAE, indicating more accurate predictions on average.\n",
    "- **Random Forest Tuned (RMSE)** achieves the best RMSE, suggesting stronger robustness to outliers.\n",
    "- **Linear Regression** performs the worst on both metrics, especially for RMSE, due to its inability to model non-linearities.\n",
    "- **Random Forest (Default)** significantly improves over Linear Regression but does not outperform the tuned versions.\n",
    "\n",
    "This comparison confirms that model tuning improves both average prediction accuracy and stability on extreme values."
   ]
  },
  {
   "cell_type": "markdown",
   "id": "a9914830",
   "metadata": {
    "id": "XH3JNwzK_tww",
    "papermill": {
     "duration": 0.015477,
     "end_time": "2025-05-20T02:53:13.993695",
     "exception": false,
     "start_time": "2025-05-20T02:53:13.978218",
     "status": "completed"
    },
    "tags": []
   },
   "source": [
    "### Predicted vs Actual Comparison\n",
    "\n",
    "To evaluate how closely each model’s predictions match the actual rental values, I plot the **Predicted vs Actual** values for all three models:\n",
    "\n",
    "- **Linear Regression**\n",
    "- **Random Forest (Default)**\n",
    "- **Random Forest (Tuned)**\n",
    "\n",
    "These plots help assess:\n",
    "- How accurate predictions are across rent levels.\n",
    "- Which model deviates more for low vs high rent values.\n",
    "- Whether any consistent bias is visible."
   ]
  },
  {
   "cell_type": "code",
   "execution_count": 31,
   "id": "dc73a8fe",
   "metadata": {
    "execution": {
     "iopub.execute_input": "2025-05-20T02:53:14.022885Z",
     "iopub.status.busy": "2025-05-20T02:53:14.022596Z",
     "iopub.status.idle": "2025-05-20T02:53:14.500718Z",
     "shell.execute_reply": "2025-05-20T02:53:14.500021Z"
    },
    "executionInfo": {
     "elapsed": 310,
     "status": "ok",
     "timestamp": 1747709104458,
     "user": {
      "displayName": "Oleksii Shcherbak",
      "userId": "18308886787028875648"
     },
     "user_tz": -120
    },
    "id": "0AXM5eow_vgL",
    "outputId": "bd888960-4912-4a7a-90f1-79b71246af4b",
    "papermill": {
     "duration": 0.494118,
     "end_time": "2025-05-20T02:53:14.501814",
     "exception": false,
     "start_time": "2025-05-20T02:53:14.007696",
     "status": "completed"
    },
    "tags": []
   },
   "outputs": [
    {
     "data": {
      "image/png": "[encoded data removed]",
      "text/plain": [
       "<Figure size 1800x500 with 3 Axes>"
      ]
     },
     "metadata": {},
     "output_type": "display_data"
    }
   ],
   "source": [
    "plt.style.use('default')\n",
    "fig, axs = plt.subplots(1, 3, figsize=(18, 5))\n",
    "\n",
    "# Plot 1 – Linear Regression\n",
    "sns.scatterplot(x=y_true, y=y_pred_lr, ax=axs[0], color='gray', alpha=0.6)\n",
    "axs[0].plot([y_true.min(), y_true.max()], [y_true.min(), y_true.max()], 'k--')\n",
    "axs[0].set_title(\"Linear Regression\")\n",
    "axs[0].set_xlabel(\"Actual Rent\")\n",
    "axs[0].set_ylabel(\"Predicted Rent\")\n",
    "\n",
    "# Plot 2 – Random Forest (Default)\n",
    "sns.scatterplot(x=y_true, y=y_pred_rf, ax=axs[1], color='green', alpha=0.6)\n",
    "axs[1].plot([y_true.min(), y_true.max()], [y_true.min(), y_true.max()], 'k--')\n",
    "axs[1].set_title(\"Random Forest (Default)\")\n",
    "axs[1].set_xlabel(\"Actual Rent\")\n",
    "axs[1].set_ylabel(\"Predicted Rent\")\n",
    "\n",
    "# Plot 3 – Random Forest (Tuned)\n",
    "sns.scatterplot(x=y_true, y=y_pred_rf_tuned, ax=axs[2], color='blue', alpha=0.6)\n",
    "axs[2].plot([y_true.min(), y_true.max()], [y_true.min(), y_true.max()], 'k--')\n",
    "axs[2].set_title(\"Random Forest (Tuned)\")\n",
    "axs[2].set_xlabel(\"Actual Rent\")\n",
    "axs[2].set_ylabel(\"Predicted Rent\")\n",
    "\n",
    "plt.tight_layout()\n",
    "plt.show()"
   ]
  },
  {
   "cell_type": "markdown",
   "id": "c72aaa34",
   "metadata": {
    "id": "olL6b6bpAprS",
    "papermill": {
     "duration": 0.014244,
     "end_time": "2025-05-20T02:53:14.531758",
     "exception": false,
     "start_time": "2025-05-20T02:53:14.517514",
     "status": "completed"
    },
    "tags": []
   },
   "source": [
    "### Predicted vs Actual – Key Observations\n",
    "\n",
    "- **Linear Regression** shows a clear underestimation trend for higher rent values. Predictions cluster below the ideal diagonal line, especially at the upper end.\n",
    "- **Random Forest (Default)** improves predictions and spreads better along the diagonal, but outliers still cause some distortion.\n",
    "- **Random Forest (Tuned)** aligns best with the diagonal, indicating stronger predictive accuracy across most rent ranges.\n",
    "\n",
    "These plots confirm that the **tuned Random Forest** model offers the most balanced and reliable predictions across different rent levels, especially compared to the linear baseline."
   ]
  },
  {
   "cell_type": "markdown",
   "id": "6150723e",
   "metadata": {
    "id": "rAMsKQumTqUv",
    "papermill": {
     "duration": 0.013998,
     "end_time": "2025-05-20T02:53:14.560077",
     "exception": false,
     "start_time": "2025-05-20T02:53:14.546079",
     "status": "completed"
    },
    "tags": []
   },
   "source": [
    "### Model-Specific Error Patterns\n",
    "\n",
    "Based on the \"Predicted vs Actual\" and residual plots, I observe the following error patterns across models:\n",
    "\n",
    "- **Linear Regression** consistently underestimates actual rent values, particularly for high-rent cases above 1,000,000. This is expected due to the model's inability to capture non-linear relationships.\n",
    "\n",
    "- **Random Forest (Default)** improves upon linear regression and follows the diagonal more closely, but still exhibits large prediction errors for rent values above 2,000,000, suggesting sensitivity to outliers.\n",
    "\n",
    "- **Random Forest (Tuned)** shows the most stable predictions, especially in the middle rent ranges (200,000 to 800,000). However, it still struggles slightly with extreme high-rent values above 2,500,000, though less severely than the other models.\n",
    "\n",
    "These patterns indicate that non-linear models—especially tuned ones—are more robust across the full rent spectrum."
   ]
  },
  {
   "cell_type": "markdown",
   "id": "afee8b9a",
   "metadata": {
    "id": "B_lgcQkoA3e0",
    "papermill": {
     "duration": 0.013921,
     "end_time": "2025-05-20T02:53:14.588088",
     "exception": false,
     "start_time": "2025-05-20T02:53:14.574167",
     "status": "completed"
    },
    "tags": []
   },
   "source": [
    "### Final Model Performance Comparison\n",
    "\n",
    "The table below compares the performance of all three models using three evaluation metrics:\n",
    "\n",
    "- **MAE (Mean Absolute Error)** — lower is better, measures average magnitude of errors.\n",
    "- **RMSE (Root Mean Squared Error)** — lower is better, penalizes large errors more heavily.\n",
    "- **R² Score (Coefficient of Determination)** — closer to 1 means better explanatory power.\n",
    "\n",
    "This addition helps evaluate both average performance and model generalization capabilities."
   ]
  },
  {
   "cell_type": "code",
   "execution_count": 32,
   "id": "76aebad0",
   "metadata": {
    "execution": {
     "iopub.execute_input": "2025-05-20T02:53:14.617625Z",
     "iopub.status.busy": "2025-05-20T02:53:14.617365Z",
     "iopub.status.idle": "2025-05-20T02:53:14.743017Z",
     "shell.execute_reply": "2025-05-20T02:53:14.742329Z"
    },
    "executionInfo": {
     "elapsed": 6,
     "status": "ok",
     "timestamp": 1747709104467,
     "user": {
      "displayName": "Oleksii Shcherbak",
      "userId": "18308886787028875648"
     },
     "user_tz": -120
    },
    "id": "CRFxwM1tA5pj",
    "outputId": "d61fcde1-da28-4733-a6ae-ac2a18d62bd6",
    "papermill": {
     "duration": 0.141679,
     "end_time": "2025-05-20T02:53:14.744047",
     "exception": false,
     "start_time": "2025-05-20T02:53:14.602368",
     "status": "completed"
    },
    "tags": []
   },
   "outputs": [
    {
     "data": {
      "text/html": [
       "<style type=\"text/css\">\n",
       "#T_54dc3 th {\n",
       "  text-align: center;\n",
       "}\n",
       "#T_54dc3_row0_col0, #T_54dc3_row0_col1, #T_54dc3_row0_col2, #T_54dc3_row0_col3, #T_54dc3_row1_col0, #T_54dc3_row1_col1, #T_54dc3_row1_col2, #T_54dc3_row1_col3, #T_54dc3_row2_col0, #T_54dc3_row2_col1, #T_54dc3_row2_col2, #T_54dc3_row2_col3 {\n",
       "  text-align: center;\n",
       "}\n",
       "</style>\n",
       "<table id=\"T_54dc3\">\n",
       "  <thead>\n",
       "    <tr>\n",
       "      <th class=\"blank level0\" >&nbsp;</th>\n",
       "      <th id=\"T_54dc3_level0_col0\" class=\"col_heading level0 col0\" >Model</th>\n",
       "      <th id=\"T_54dc3_level0_col1\" class=\"col_heading level0 col1\" >MAE</th>\n",
       "      <th id=\"T_54dc3_level0_col2\" class=\"col_heading level0 col2\" >RMSE</th>\n",
       "      <th id=\"T_54dc3_level0_col3\" class=\"col_heading level0 col3\" >R²</th>\n",
       "    </tr>\n",
       "  </thead>\n",
       "  <tbody>\n",
       "    <tr>\n",
       "      <th id=\"T_54dc3_level0_row0\" class=\"row_heading level0 row0\" >0</th>\n",
       "      <td id=\"T_54dc3_row0_col0\" class=\"data row0 col0\" >Linear Regression</td>\n",
       "      <td id=\"T_54dc3_row0_col1\" class=\"data row0 col1\" >24,899.80</td>\n",
       "      <td id=\"T_54dc3_row0_col2\" class=\"data row0 col2\" >55,385.26</td>\n",
       "      <td id=\"T_54dc3_row0_col3\" class=\"data row0 col3\" >-0.0050</td>\n",
       "    </tr>\n",
       "    <tr>\n",
       "      <th id=\"T_54dc3_level0_row1\" class=\"row_heading level0 row1\" >1</th>\n",
       "      <td id=\"T_54dc3_row1_col0\" class=\"data row1 col0\" >Random Forest (Default)</td>\n",
       "      <td id=\"T_54dc3_row1_col1\" class=\"data row1 col1\" >14,650.60</td>\n",
       "      <td id=\"T_54dc3_row1_col2\" class=\"data row1 col2\" >62,215.65</td>\n",
       "      <td id=\"T_54dc3_row1_col3\" class=\"data row1 col3\" >0.5678</td>\n",
       "    </tr>\n",
       "    <tr>\n",
       "      <th id=\"T_54dc3_level0_row2\" class=\"row_heading level0 row2\" >2</th>\n",
       "      <td id=\"T_54dc3_row2_col0\" class=\"data row2 col0\" >Random Forest (Tuned)</td>\n",
       "      <td id=\"T_54dc3_row2_col1\" class=\"data row2 col1\" >13,970.43</td>\n",
       "      <td id=\"T_54dc3_row2_col2\" class=\"data row2 col2\" >54,657.39</td>\n",
       "      <td id=\"T_54dc3_row2_col3\" class=\"data row2 col3\" >-0.0463</td>\n",
       "    </tr>\n",
       "  </tbody>\n",
       "</table>\n"
      ],
      "text/plain": [
       "<pandas.io.formats.style.Styler at 0x7cb4e8f08c90>"
      ]
     },
     "execution_count": 32,
     "metadata": {},
     "output_type": "execute_result"
    }
   ],
   "source": [
    "# Define model performance values\n",
    "mae_lr = 24899.80\n",
    "rmse_lr = 55385.26\n",
    "r2_lr = -0.0050\n",
    "\n",
    "mae_rf = 14650.60\n",
    "rmse_rf = 62215.65\n",
    "r2_rf = 0.5678\n",
    "\n",
    "mae_rf_tuned = 13970.43\n",
    "rmse_rf_tuned = 54657.39\n",
    "r2_rf_tuned = -0.0463\n",
    "\n",
    "# Create summary table\n",
    "summary_df = pd.DataFrame({\n",
    "    \"Model\": [\"Linear Regression\", \"Random Forest (Default)\", \"Random Forest (Tuned)\"],\n",
    "    \"MAE\": [mae_lr, mae_rf, mae_rf_tuned],\n",
    "    \"RMSE\": [rmse_lr, rmse_rf, rmse_rf_tuned],\n",
    "    \"R²\": [r2_lr, r2_rf, r2_rf_tuned]\n",
    "})\n",
    "\n",
    "# Format numbers\n",
    "summary_df[\"MAE\"] = summary_df[\"MAE\"].map(\"{:,.2f}\".format)\n",
    "summary_df[\"RMSE\"] = summary_df[\"RMSE\"].map(\"{:,.2f}\".format)\n",
    "summary_df[\"R²\"] = summary_df[\"R²\"].map(\"{:.4f}\".format)\n",
    "\n",
    "# Display table\n",
    "summary_df.style.set_properties(**{'text-align': 'center'}).set_table_styles([\n",
    "    dict(selector='th', props=[('text-align', 'center')])\n",
    "])"
   ]
  },
  {
   "cell_type": "markdown",
   "id": "4ccf219b",
   "metadata": {
    "id": "E6dZTV53T0fX",
    "papermill": {
     "duration": 0.014814,
     "end_time": "2025-05-20T02:53:14.774018",
     "exception": false,
     "start_time": "2025-05-20T02:53:14.759204",
     "status": "completed"
    },
    "tags": []
   },
   "source": [
    "### Final Comparison and Conclusions\n",
    "\n",
    "To evaluate all models holistically, I examined three key metrics:  \n",
    "**MAE (Mean Absolute Error)**, **RMSE (Root Mean Squared Error)**, and **R² (Coefficient of Determination)**.\n",
    "\n",
    "#### Summary of findings:\n",
    "\n",
    "- **Random Forest Tuned (MAE)** achieves the lowest MAE, indicating the best average prediction accuracy.\n",
    "- **Random Forest Tuned (RMSE)** produces the lowest RMSE, suggesting robustness to outliers and extreme cases.\n",
    "- **Linear Regression** performs worst across all metrics, particularly with a negative R², confirming its poor fit for this non-linear dataset.\n",
    "- **Random Forest (Default)** significantly improves over linear regression, but does not outperform the tuned versions.\n",
    "\n",
    "#### Best Overall Model:\n",
    "**Random Forest Tuned (RMSE)** — It achieves a good balance between low errors and meaningful R², making it the most reliable for predicting rental prices.\n",
    "\n",
    "This comprehensive evaluation confirms the effectiveness of hyperparameter tuning and highlights the limitations of simpler models for complex real-world prediction tasks."
   ]
  }
 ],
 "metadata": {
  "colab": {
   "collapsed_sections": [
    "e8202af5",
    "79dd1cdb"
   ],
   "provenance": []
  },
  "kaggle": {
   "accelerator": "none",
   "dataSources": [
    {
     "datasetId": 2355600,
     "sourceId": 4097760,
     "sourceType": "datasetVersion"
    }
   ],
   "dockerImageVersionId": 31040,
   "isGpuEnabled": false,
   "isInternetEnabled": false,
   "language": "python",
   "sourceType": "notebook"
  },
  "kernelspec": {
   "display_name": "Python 3 (ipykernel)",
   "language": "python",
   "name": "python3"
  },
  "language_info": {
   "codemirror_mode": {
    "name": "ipython",
    "version": 3
   },
   "file_extension": ".py",
   "mimetype": "text/x-python",
   "name": "python",
   "nbconvert_exporter": "python",
   "pygments_lexer": "ipython3",
   "version": "3.11.11"
  },
  "papermill": {
   "default_parameters": {},
   "duration": 59.08403,
   "end_time": "2025-05-20T02:53:17.407894",
   "environment_variables": {},
   "exception": null,
   "input_path": "__notebook__.ipynb",
   "output_path": "__notebook__.ipynb",
   "parameters": {},
   "start_time": "2025-05-20T02:52:18.323864",
   "version": "2.6.0"
  }
 },
 "nbformat": 4,
 "nbformat_minor": 5
}
