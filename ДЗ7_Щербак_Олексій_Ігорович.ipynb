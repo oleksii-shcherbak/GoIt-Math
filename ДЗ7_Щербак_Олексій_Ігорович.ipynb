{
  "nbformat": 4,
  "nbformat_minor": 0,
  "metadata": {
    "colab": {
      "provenance": [],
      "collapsed_sections": [
        "CChksUmMAbHT"
      ],
      "include_colab_link": true
    },
    "kernelspec": {
      "name": "python3",
      "display_name": "Python 3"
    },
    "language_info": {
      "name": "python"
    }
  },
  "cells": [
    {
      "cell_type": "markdown",
      "metadata": {
        "id": "view-in-github",
        "colab_type": "text"
      },
      "source": [
        "<a href=\"https://colab.research.google.com/github/oleksii-shcherbak/GoIt-Math/blob/main/%D0%94%D0%977_%D0%A9%D0%B5%D1%80%D0%B1%D0%B0%D0%BA_%D0%9E%D0%BB%D0%B5%D0%BA%D1%81%D1%96%D0%B9_%D0%86%D0%B3%D0%BE%D1%80%D0%BE%D0%B2%D0%B8%D1%87.ipynb\" target=\"_parent\"><img src=\"https://colab.research.google.com/assets/colab-badge.svg\" alt=\"Open In Colab\"/></a>"
      ]
    },
    {
      "cell_type": "markdown",
      "source": [
        "## Нагадування по Markdown"
      ],
      "metadata": {
        "id": "CChksUmMAbHT"
      }
    },
    {
      "cell_type": "markdown",
      "source": [
        "Надаємо невелике нагадування записів в\n",
        "[Markdown](https://colab.research.google.com/notebooks/markdown_guide.ipynb) (LaTeX):\n",
        "\n",
        "Markdown | Preview\n",
        "--- | ---\n",
        "`**bold text**` | **bold text**\n",
        " \\\\$\\frac{x}{y}\\\\$ | $\\frac{x}{y}$\n",
        " \\\\$p^{x}_{y}\\\\$ | $p^{x}_{y}$\n",
        "\\\\$x \\cdot y\\\\$ | $x \\cdot y$\n",
        "\\\\$\\sqrt{x}\\\\$ | $\\sqrt{x}$\n",
        "\\\\$\\pi\\\\$ | $\\pi$\n",
        "\\\\$\\approx\\\\$ | $\\approx$\n",
        "\n",
        "І ще декілька прикладів:\n",
        "\n",
        "```markdown\n",
        "$y=x^2$\n",
        "\n",
        "$e^{i\\pi} + 1 = 0$\n",
        "\n",
        "$e^x=\\sum_{i=0}^\\infty \\frac{1}{i!}x^i$\n",
        "\n",
        "$\\frac{n!}{k!(n-k)!} = {n \\choose k}$\n",
        "\n",
        "$A_{m,n} =\n",
        " \\begin{pmatrix}\n",
        "  a_{1,1} & a_{1,2} & \\cdots & a_{1,n} \\\\\n",
        "  a_{2,1} & a_{2,2} & \\cdots & a_{2,n} \\\\\n",
        "  \\vdots  & \\vdots  & \\ddots & \\vdots  \\\\\n",
        "  a_{m,1} & a_{m,2} & \\cdots & a_{m,n}\n",
        " \\end{pmatrix}$\n",
        "```\n",
        "\n",
        "$y=x^2$\n",
        "\n",
        "$e^{i\\pi} + 1 = 0$\n",
        "\n",
        "$e^x=\\sum_{i=0}^\\infty \\frac{1}{i!}x^i$\n",
        "\n",
        "$\\frac{n!}{k!(n-k)!} = {n \\choose k}$\n",
        "\n",
        "$A_{m,n} =\n",
        " \\begin{pmatrix}\n",
        "  a_{1,1} & a_{1,2} & \\cdots & a_{1,n} \\\\\n",
        "  a_{2,1} & a_{2,2} & \\cdots & a_{2,n} \\\\\n",
        "  \\vdots  & \\vdots  & \\ddots & \\vdots  \\\\\n",
        "  a_{m,1} & a_{m,2} & \\cdots & a_{m,n}\n",
        " \\end{pmatrix}$\n",
        "\n",
        " ---"
      ],
      "metadata": {
        "id": "ufhW5oZEzsvI"
      }
    },
    {
      "cell_type": "markdown",
      "source": [
        "## Завдання 1\n",
        "\n",
        "В партії з 50 деталей 5 нестандартних. Визнач ймовірність того, що серед обраних навмання для перевірки шести деталей дві виявляться нестандартними. Розв'яжи аналітично.\n",
        "\n",
        "Примітка: в даній задачі не потрібно рахувати конкретне число.\n",
        "\n",
        "---\n",
        "Розв'язання:\n",
        "\n"
      ],
      "metadata": {
        "id": "xXSaXssaSwlH"
      }
    },
    {
      "cell_type": "markdown",
      "source": [
        "Total number of ways to choose $6$ parts from $50$:\n",
        "$$\n",
        "C_{50}^{6} = \\frac{50!}{6! \\cdot 44!}\n",
        "$$\n",
        "\n",
        "Number of ways to choose $2$ non-standard parts from $5$:\n",
        "$$\n",
        "C_{5}^{2} = \\frac{5!}{2! \\cdot 3!}\n",
        "$$\n",
        "\n",
        "Number of ways to choose the remaining $4$ standard parts from $45$:\n",
        "$$\n",
        "C_{45}^{4} = \\frac{45!}{4! \\cdot 41!}\n",
        "$$\n",
        "\n",
        "\n",
        "Total number of favorable combinations:\n",
        "$$\n",
        "N(\\text{2 non-standard}) = C_{5}^{2} \\cdot C_{45}^{4}\n",
        "$$\n",
        "\n",
        "\n",
        "Probability:\n",
        "$$\n",
        "P(\\text{2 non-standard out of 6}) = \\frac{C_{5}^{2} \\cdot C_{45}^{4}}{C_{50}^{6}} =\n",
        "\\frac{\\frac{5!}{2! \\cdot 3!} \\cdot \\frac{45!}{4! \\cdot 41!}}{\\frac{50!}{6! \\cdot 44!}}\n",
        "$$\n"
      ],
      "metadata": {
        "id": "wkYWOMPjJ8B0"
      }
    },
    {
      "cell_type": "markdown",
      "source": [
        "## Завдання 2\n",
        "\n",
        "В тирі стрілець проводить 7 пострілів по мішені з ймовірністю влучання кожного 0.8. Яка ймовірність того, що буде не менше за 5 влучань? Розв'яжи аналітично.\n",
        "\n",
        "---\n",
        "Розв'язання:"
      ],
      "metadata": {
        "id": "5Cw_lCtQwZwr"
      }
    },
    {
      "cell_type": "markdown",
      "source": [
        "The shooter makes 7 shots, with the probability of hitting the target in each shot:\n",
        "$$ p = 0.8, \\quad q = 1 - p = 0.2 $$\n",
        "\n",
        "We want the probability of at least 5 hits:\n",
        "$$ P(X \\geq 5) = P(X = 5) + P(X = 6) + P(X = 7) $$\n",
        "\n",
        "Total probability formula:\n",
        "$$ P(X = k) = C_n^k \\cdot p^k \\cdot q^{n - k}, \\quad C_n^k = \\frac{n!}{k!(n - k)!} $$\n",
        "\n",
        "\n",
        "---\n",
        "\n",
        "\n",
        "Number of ways to get exactly 5 hits:\n",
        "$$ P(X = 5) = C_7^5 \\cdot (0.8)^5 \\cdot (0.2)^2 = \\frac{7!}{5!2!} \\cdot (0.8)^5 \\cdot (0.2)^2 = 21 \\cdot 0.32768 \\cdot 0.04 = 21 \\cdot 0.0131072 \\approx 0.275 $$\n",
        "\n",
        "Number of ways to get exactly 6 hits:\n",
        "$$ P(X = 6) = C_7^6 \\cdot (0.8)^6 \\cdot (0.2)^1 = \\frac{7!}{6!1!} \\cdot (0.8)^6 \\cdot (0.2)^1 = 7 \\cdot 0.262144 \\cdot 0.2 = 7 \\cdot 0.0524288 \\approx 0.367 $$\n",
        "\n",
        "Number of ways to get exactly 7 hits:\n",
        "$$ P(X = 7) = C_7^7 \\cdot (0.8)^7 \\cdot (0.2)^0 = \\frac{7!}{7!0!} \\cdot (0.8)^7 \\cdot 1 = 1 \\cdot 0.2097152 \\cdot 1 = 0.2097 $$\n",
        "\n",
        "\n",
        "---\n",
        "\n",
        "\n",
        "Final combined probability:\n",
        "$$ P(X \\geq 5) = 0.275 + 0.367 + 0.2097 = 0.8517 $$\n",
        "\n",
        "Final Answer:\n",
        "$$ \\boxed{ P(X \\geq 5) \\approx 0.852 } $$"
      ],
      "metadata": {
        "id": "zKdZtiVGyNz_"
      }
    },
    {
      "cell_type": "markdown",
      "source": [
        "## Завдання 3\n",
        "\n",
        "Підкидають три гральні кубики. Що ймовірніше: отримати в сумі очок, що випали, 11 або 12?  \n",
        "Розв'яжи програмно, згенерувавши всі можливі комбінації.\n",
        "\n",
        "---\n",
        "Розв'язання:"
      ],
      "metadata": {
        "id": "SL119N5bwqxc"
      }
    },
    {
      "cell_type": "code",
      "source": [
        "import itertools\n",
        "\n",
        "# Generate all possible outcomes (each die can show 1 to 6)\n",
        "outcomes = list(itertools.product(range(1, 7), repeat=3))\n",
        "\n",
        "# Count sums\n",
        "count_11 = sum(1 for combo in outcomes if sum(combo) == 11)\n",
        "count_12 = sum(1 for combo in outcomes if sum(combo) == 12)\n",
        "\n",
        "# Total combinations\n",
        "total_combinations = len(outcomes)\n",
        "\n",
        "# Calculate probabilities\n",
        "prob_11 = count_11 / total_combinations\n",
        "prob_12 = count_12 / total_combinations\n",
        "\n",
        "# Print results\n",
        "print(f\"Number of combinations summing to 11: {count_11}\")\n",
        "print(f\"Number of combinations summing to 12: {count_12}\")\n",
        "print(f\"Probability of sum 11: {prob_11:.4f}\")\n",
        "print(f\"Probability of sum 12: {prob_12:.4f}\")\n",
        "\n",
        "if prob_11 > prob_12:\n",
        "    print(\"Sum 11 is more probable.\")\n",
        "elif prob_12 > prob_11:\n",
        "    print(\"Sum 12 is more probable.\")\n",
        "else:\n",
        "    print(\"Both sums are equally probable.\")"
      ],
      "metadata": {
        "id": "bhCx0E1i5o8S",
        "outputId": "f07e5f26-3114-4f3e-a45b-66783a3c2617",
        "colab": {
          "base_uri": "https://localhost:8080/"
        }
      },
      "execution_count": null,
      "outputs": [
        {
          "output_type": "stream",
          "name": "stdout",
          "text": [
            "Number of combinations summing to 11: 27\n",
            "Number of combinations summing to 12: 25\n",
            "Probability of sum 11: 0.1250\n",
            "Probability of sum 12: 0.1157\n",
            "Sum 11 is more probable.\n"
          ]
        }
      ]
    },
    {
      "cell_type": "markdown",
      "source": [
        "#### Analytical explanation (for understanding the result):\n",
        "\n",
        "The total number of possible combinations when rolling three dice is:\n",
        "$$\n",
        "6 \\times 6 \\times 6 = 216\n",
        "$$\n",
        "\n",
        "---\n",
        "\n",
        "#### Combinations for sum 11\n",
        "\n",
        "Unique combinations:\n",
        "- (6, 4, 1)\n",
        "- (6, 3, 2)\n",
        "- (5, 5, 1)\n",
        "- (5, 4, 2)\n",
        "- (5, 3, 3)\n",
        "- (4, 4, 3)\n",
        "\n",
        "Taking into account permutations:\n",
        "- (6, 4, 1): $ 3! = 6 $\n",
        "- (6, 3, 2): $ 3! = 6 $\n",
        "- (5, 5, 1): $ \\frac{3!}{2!} = 3 $\n",
        "- (5, 4, 2): $ 3! = 6 $\n",
        "- (5, 3, 3): $ \\frac{3!}{2!} = 3 $\n",
        "- (4, 4, 3): $ \\frac{3!}{2!} = 3 $\n",
        "\n",
        "Total combinations for sum 11:\n",
        "$$\n",
        "6 + 6 + 3 + 6 + 3 + 3 = 27\n",
        "$$\n",
        "\n",
        "---\n",
        "\n",
        "#### Combinations for sum 12\n",
        "\n",
        "Unique combinations:\n",
        "- (6, 5, 1)\n",
        "- (6, 4, 2)\n",
        "- (6, 3, 3)\n",
        "- (5, 5, 2)\n",
        "- (5, 4, 3)\n",
        "- (4, 4, 4)\n",
        "\n",
        "Taking into account permutations:\n",
        "- (6, 5, 1): $ 3! = 6 $\n",
        "- (6, 4, 2): $ 3! = 6 $\n",
        "- (6, 3, 3): $ \\frac{3!}{2!} = 3 $\n",
        "- (5, 5, 2): $ \\frac{3!}{2!} = 3 $\n",
        "- (5, 4, 3): $ 3! = 6 $\n",
        "- (4, 4, 4): $ 1 $\n",
        "\n",
        "Total combinations for sum 12:\n",
        "$$\n",
        "6 + 6 + 3 + 3 + 6 + 1 = 25\n",
        "$$\n",
        "\n",
        "---\n",
        "\n",
        "#### Final probabilities\n",
        "\n",
        "Therefore, the probability of getting sum 11:\n",
        "$$\n",
        "P(11) = \\frac{27}{216} \\approx 0.125\n",
        "$$\n",
        "\n",
        "And the probability of getting sum 12:\n",
        "$$\n",
        "P(12) = \\frac{25}{216} \\approx 0.1157\n",
        "$$\n",
        "\n",
        "✅ **Conclusion**: Getting sum **11** is slightly more probable than getting sum **12**."
      ],
      "metadata": {
        "id": "ize-dJfZ8wbR"
      }
    },
    {
      "cell_type": "markdown",
      "source": [
        "## Завдання 4\n",
        "\n",
        "Схема електричного ланцюга наведена на рисунку. Через\n",
        "ділянку схеми, що вийшла з ладу, струм не проходить. Нехай подія\n",
        "$A_i$ – вихід з ладу елемента $i$ , $i = \\overline{1,6}$\n",
        ". Вирази події $A$ й $\\overline{A}$\n",
        "через події $A_i$, якщо $A$ – вихід з ладу всієї схеми. Розв'яжи аналітично.\n",
        "\n",
        "Примітка: виразити необхідно через події, а не їх ймовірності.\n",
        "\n"
      ],
      "metadata": {
        "id": "lxBShyhaBZO_"
      }
    },
    {
      "cell_type": "markdown",
      "source": [
        "![image.png](data:image/png;base64,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)"
      ],
      "metadata": {
        "id": "vWJXVmWCBZG5"
      }
    },
    {
      "cell_type": "markdown",
      "source": [
        "---\n",
        "Розв'язання:"
      ],
      "metadata": {
        "id": "lPwmT837BY6V"
      }
    },
    {
      "cell_type": "markdown",
      "source": [
        "We define the following:\n",
        "- Let $A_i$ be the event that element $i$ has failed.\n",
        "- Let $\\overline{A_i}$ be the event that element $i$ is working.\n",
        "- Let $A$ be the event that the entire system has failed.\n",
        "- Let $\\overline{A}$ be the event that the entire system is working.\n",
        "---\n",
        "\n",
        "### Circuit Structure\n",
        "\n",
        "The system has **three parallel branches**:\n",
        "- **Branch 1**: element 1 → element 3 → element 4 (series)\n",
        "- **Branch 2**: element 2 → element 5 (series)\n",
        "- **Branch 3**: element 6 (alone)\n",
        "\n",
        "The system **works** $\\overline{A}$ if at least one of the branches works:\n",
        "$$\n",
        "\\overline{A} = (\\overline{A_1} \\cap \\overline{A_3} \\cap \\overline{A_4}) \\cup (\\overline{A_2} \\cap \\overline{A_5}) \\cup \\overline{A_6}\n",
        "$$\n",
        "\n",
        "Therefore, the system fails if event $A$ occurs:\n",
        "$$\n",
        "A = \\overline{\\overline{A}} = \\overline{ (\\overline{A_1} \\cap \\overline{A_3} \\cap \\overline{A_4}) \\cup (\\overline{A_2} \\cap \\overline{A_5}) \\cup \\overline{A_6} }\n",
        "$$\n",
        "\n",
        "---\n",
        "\n",
        "### Applying De Morgan's Laws\n",
        "\n",
        "First:\n",
        "$$\n",
        "\\overline{X \\cup Y \\cup Z} = \\overline{X} \\cap \\overline{Y} \\cap \\overline{Z}\n",
        "$$\n",
        "\n",
        "Thus:\n",
        "$$\n",
        "A = (A_1 \\cup A_3 \\cup A_4) \\cap (A_2 \\cup A_5) \\cap A_6\n",
        "$$\n",
        "\n",
        "---\n",
        "\n",
        "### Final Result\n",
        "\n",
        "**The system fails if**:\n",
        "- Element 6 fails  \n",
        "AND\n",
        "- (Element 1 **OR** element 3 **OR** element 4 fails)  \n",
        "AND\n",
        "- (Element 2 **OR** element 5 fails)\n",
        "\n",
        "---\n",
        "\n",
        "### Summary (in logical terms)\n",
        "\n",
        "$$\n",
        "\\boxed{A = (A_1 \\cup A_3 \\cup A_4) \\cap (A_2 \\cup A_5) \\cap A_6}\n",
        "$$\n"
      ],
      "metadata": {
        "id": "PMVuYJWaBkDA"
      }
    },
    {
      "cell_type": "markdown",
      "source": [
        "## Завдання 5\n",
        "\n",
        "На площині накреслені дві концентричні окружності (мають спільний центр),\n",
        "радіуси яких 5 і 10 см відповідно. Знайди ймовірність того, що точка, кинута навмання у велике коло, потрапить також у кільце, утворене побудованими окружностями.\n",
        "\n",
        "Розв'яжи аналітично.\n",
        "\n",
        "---\n",
        "Розв'язання:"
      ],
      "metadata": {
        "id": "qBhWCJHsOyFu"
      }
    },
    {
      "cell_type": "markdown",
      "source": [
        "The area of the large circle $S_{\\text{large}}$ is:\n",
        "$$\n",
        "S_{\\text{large}} = \\pi r_2^2 = \\pi (10)^2 = 100\\pi , \\mathrm{cm}^2\n",
        "$$\n",
        "\n",
        "The area of the small circle $S_{\\text{small}}$ is:\n",
        "$$\n",
        "S_{\\text{small}} = \\pi r_1^2 = \\pi (5)^2 = 25\\pi , \\mathrm{cm}^2\n",
        "$$\n",
        "\n",
        "The area of the ring $S_{\\text{ring}}$ is the difference between the large and small circle:\n",
        "$$\n",
        "S_{\\text{ring}} = S_{\\text{large}} - S_{\\text{small}} = 100\\pi - 25\\pi = 75\\pi , \\mathrm{cm}^2\n",
        "$$\n",
        "\n",
        "---\n",
        "\n",
        "Since the point is thrown uniformly into the large circle,\n",
        "the probability that it lands in the ring is proportional to the area ratio:\n",
        "$$\n",
        "P(\\text{landing in ring}) = \\frac{S_{\\text{ring}}}{S_{\\text{large}}} = \\frac{75\\pi}{100\\pi} = \\frac{75}{100} = 0.75\n",
        "$$\n",
        "\n",
        "---\n",
        "\n",
        "Final Answer:\n",
        "$$\n",
        "\\boxed{P = 0.75}\n",
        "$$"
      ],
      "metadata": {
        "id": "Q9f1O3ohMAtq"
      }
    },
    {
      "cell_type": "markdown",
      "source": [
        "## Завдання 6\n",
        "Урна містить одну кулю, про яку відомо, що вона або біла, або чорна з однаковими ймовірностями. В урну кладуть білу кулю і потім навмання виймають одну кулю. Вона виявилася білою. Яка ймовірність того, що куля, яка залишилася, є білою? Розв'яжи аналітично  \n",
        "\n",
        "---\n",
        "Розв'язання:"
      ],
      "metadata": {
        "id": "5fEt2pndPj66"
      }
    },
    {
      "cell_type": "markdown",
      "source": [
        "We define the following:  \n",
        "Let $B_0$ be the event \"the initial ball is white\".  \n",
        "Let $C_0$ be the event \"the initial ball is black\".\n",
        "\n",
        "By condition,  \n",
        "$P(B_0) = P(C_0) = 0.5$.\n",
        "\n",
        "---\n",
        "\n",
        "We place a white ball into the urn. We consider two cases:\n",
        "\n",
        "- **Case 1: The initial ball was white ($B_0$)**  \n",
        "After adding the white ball, the urn contains 2 white balls.  \n",
        "The probability of drawing a white ball $W$ is:  \n",
        "$P(W \\mid B_0) = \\frac{2}{2} = 1$  \n",
        "After removing one white ball, the urn has 1 white ball left.\n",
        "\n",
        "- **Case 2: The initial ball was black ($C_0$)**  \n",
        "After adding the white ball, the urn contains 1 white and 1 black ball.  \n",
        "The probability of drawing a white ball $W$ is:  \n",
        "$P(W \\mid C_0) = \\frac{1}{2}$  \n",
        "After removing the white ball, the urn has 1 black ball left.\n",
        "\n",
        "---\n",
        "\n",
        "We know that the drawn ball was white (event $W$).  \n",
        "We want the probability that the remaining ball is white,  \n",
        "which is only possible if the initial ball was white ($B_0$).\n",
        "\n",
        "We apply Bayes' formula:  \n",
        "$P(B_0 \\mid W) = \\frac{P(W \\mid B_0) \\cdot P(B_0)}{P(W)}$\n",
        "\n",
        "To compute $P(W)$, we use the total probability formula:  \n",
        "$P(W) = P(W \\mid B_0) \\cdot P(B_0) + P(W \\mid C_0) \\cdot P(C_0)$  \n",
        "$P(W) = (1)(0.5) + (0.5)(0.5) = 0.5 + 0.25 = 0.75$\n",
        "\n",
        "Now we compute:  \n",
        "$P(B_0 \\mid W) = \\frac{(1)(0.5)}{0.75} = \\frac{0.5}{0.75} = \\frac{50}{75} = \\frac{2}{3}$\n",
        "\n",
        "**Final Answer:**  \n",
        "The probability that the remaining ball is white is:  \n",
        "$\\boxed{\\frac{2}{3}}$"
      ],
      "metadata": {
        "id": "84oqIL0nQRlW"
      }
    },
    {
      "cell_type": "markdown",
      "source": [
        "## Завдання 7. Випадкове блукання\n",
        "Ціна акцій компанії в кожен момент часу може з рівною ймовірністю збільшитись на 2 або зменшитись на 1. В початковий момент часу $t=0$ ціна рівна 0. Визнач середню ціну акції через 3 одиниці часу ($t=3$).  \n",
        "а) Виріши аналітично.\n",
        "\n",
        "б) Напиши симуляцію данного процесу. Порахуй середнє значення та намалюй гістограму ціни для 10, 100, 1000 та 10000 симуляцій.\n",
        "\n",
        "---\n",
        "Розв'язання:"
      ],
      "metadata": {
        "id": "ACIVtHYWi9W1"
      }
    },
    {
      "cell_type": "markdown",
      "source": [
        "Let $S_t$ be the stock price at time $t$. We have $S_0 = 0$.\n",
        "At each step, the stock price changes by $\\Delta S = +2$ with probability $p = 0.5$ or $\\Delta S = -1$ with probability $q = 0.5$.\n",
        "We want to find the expected (average) value of the stock price at $t = 3$, that is $E[S_3]$.\n",
        "\n",
        "Since the changes at each step are independent, we can list all possible price change paths over 3 steps:\n",
        "\n",
        "Three increases (+2, +2, +2):\n",
        "Final price:\n",
        "$$ S_3 = 0 + 2 + 2 + 2 = 6 $$\n",
        "Probability:\n",
        "$$ (0.5)^3 = 0.125 $$\n",
        "\n",
        "---\n",
        "\n",
        "Two increases, one decrease (+2, +2, -1):\n",
        "Final price:\n",
        "$$ S_3 = 0 + 2 + 2 - 1 = 3 $$\n",
        "There are 3 possible orders: (+2, +2, -1), (+2, -1, +2), (-1, +2, +2).\n",
        "Probability for each:\n",
        "$$ (0.5)^3 = 0.125 $$\n",
        "Total probability:\n",
        "$$ 3 \\times 0.125 = 0.375 $$\n",
        "\n",
        "---\n",
        "\n",
        "One increase, two decreases (+2, -1, -1):\n",
        "Final price:\n",
        "$$ S_3 = 0 + 2 - 1 - 1 = 0 $$\n",
        "There are 3 possible orders: (+2, -1, -1), (-1, +2, -1), (-1, -1, +2).\n",
        "Total probability:\n",
        "$$ 3 \\times 0.125 = 0.375 $$\n",
        "\n",
        "---\n",
        "\n",
        "Three decreases (-1, -1, -1):\n",
        "Final price:\n",
        "$$ S_3 = 0 - 1 - 1 - 1 = -3 $$\n",
        "Probability:\n",
        "$$ (0.5)^3 = 0.125 $$\n",
        "\n",
        "---\n",
        "\n",
        "Now we calculate the expected value:\n",
        "\n",
        "$$\n",
        "E[S_3] = (6 \\times 0.125) + (3 \\times 0.375) + (0 \\times 0.375) + (-3 \\times 0.125) = 0.75 + 1.125 + 0 - 0.375 = 1.5\n",
        "$$\n",
        "\n",
        "Therefore, the expected stock price after 3 time units is $\\boxed{1.5}$"
      ],
      "metadata": {
        "id": "tpxAelq6GE83"
      }
    },
    {
      "cell_type": "code",
      "source": [
        "import numpy as np\n",
        "import matplotlib.pyplot as plt\n",
        "\n",
        "# Function to simulate the stock price after t steps\n",
        "def stock_price_at_time(t):\n",
        "    price = 0\n",
        "    for _ in range(t):\n",
        "        step = np.random.choice([2, -1], p=[0.5, 0.5])\n",
        "        price += step\n",
        "    return price\n",
        "\n",
        "# Function to run n simulations\n",
        "def simulate_n_times(n, t):\n",
        "    np.random.seed(42)\n",
        "    results = [stock_price_at_time(t) for _ in range(n)]\n",
        "    return results\n",
        "\n",
        "# Run simulations and plot histograms\n",
        "for n in [10, 100, 1000, 10000]:\n",
        "    prices = simulate_n_times(n, 3)\n",
        "    average_price = np.mean(prices)\n",
        "    print(f\"Average stock price after 3 steps for {n} simulations: {average_price}\")\n",
        "\n",
        "    plt.hist(prices, bins=10, edgecolor='black')\n",
        "    plt.title(f\"Histogram of Stock Prices after 3 Steps ({n} simulations)\")\n",
        "    plt.xlabel(\"Stock Price\")\n",
        "    plt.ylabel(\"Frequency\")\n",
        "    plt.show()"
      ],
      "metadata": {
        "id": "A7j1cFe9i8lf",
        "outputId": "735f325e-9f09-486e-9106-013a30543ec9",
        "colab": {
          "base_uri": "https://localhost:8080/",
          "height": 1000
        }
      },
      "execution_count": 20,
      "outputs": [
        {
          "output_type": "stream",
          "name": "stdout",
          "text": [
            "Average stock price after 3 steps for 10 simulations: 2.1\n"
          ]
        },
        {
          "output_type": "display_data",
          "data": {
            "text/plain": [
              "<Figure size 640x480 with 1 Axes>"
            ],
            "image/png": "[encoded data removed]"
          },
          "metadata": {}
        },
        {
          "output_type": "stream",
          "name": "stdout",
          "text": [
            "Average stock price after 3 steps for 100 simulations: 1.32\n"
          ]
        },
        {
          "output_type": "display_data",
          "data": {
            "text/plain": [
              "<Figure size 640x480 with 1 Axes>"
            ],
            "image/png": "[encoded data removed]"
          },
          "metadata": {}
        },
        {
          "output_type": "stream",
          "name": "stdout",
          "text": [
            "Average stock price after 3 steps for 1000 simulations: 1.455\n"
          ]
        },
        {
          "output_type": "display_data",
          "data": {
            "text/plain": [
              "<Figure size 640x480 with 1 Axes>"
            ],
            "image/png": "[encoded data removed]"
          },
          "metadata": {}
        },
        {
          "output_type": "stream",
          "name": "stdout",
          "text": [
            "Average stock price after 3 steps for 10000 simulations: 1.497\n"
          ]
        },
        {
          "output_type": "display_data",
          "data": {
            "text/plain": [
              "<Figure size 640x480 with 1 Axes>"
            ],
            "image/png": "[encoded data removed]"
          },
          "metadata": {}
        }
      ]
    }
  ]
}