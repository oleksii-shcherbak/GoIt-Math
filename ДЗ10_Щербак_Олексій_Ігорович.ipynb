{
  "cells": [
    {
      "cell_type": "markdown",
      "metadata": {
        "id": "view-in-github",
        "colab_type": "text"
      },
      "source": [
        "<a href=\"https://colab.research.google.com/github/oleksii-shcherbak/GoIt-Math/blob/main/%D0%94%D0%9710_%D0%A9%D0%B5%D1%80%D0%B1%D0%B0%D0%BA_%D0%9E%D0%BB%D0%B5%D0%BA%D1%81%D1%96%D0%B8%CC%86_%D0%86%D0%B3%D0%BE%D1%80%D0%BE%D0%B2%D0%B8%D1%87.ipynb\" target=\"_parent\"><img src=\"https://colab.research.google.com/assets/colab-badge.svg\" alt=\"Open In Colab\"/></a>"
      ]
    },
    {
      "cell_type": "markdown",
      "id": "ae96c52c",
      "metadata": {
        "id": "ae96c52c"
      },
      "source": [
        "## Data Analysis and Preparation"
      ]
    },
    {
      "cell_type": "markdown",
      "id": "e8202af5",
      "metadata": {
        "id": "e8202af5"
      },
      "source": [
        "### Import Libraries and Load the Dataset\n",
        "\n",
        "I begin by importing the necessary libraries and loading the dataset from Kaggle using the `kagglehub` module. This allows me to access the latest version of the dataset directly within the notebook and ensures that the workflow remains reproducible."
      ]
    },
    {
      "cell_type": "code",
      "execution_count": 87,
      "id": "d223246a",
      "metadata": {
        "colab": {
          "base_uri": "https://localhost:8080/",
          "height": 668
        },
        "id": "d223246a",
        "outputId": "fe4f006f-a2ee-475b-aa1f-15d544d73d73"
      },
      "outputs": [
        {
          "output_type": "stream",
          "name": "stdout",
          "text": [
            "Path to dataset files: /kaggle/input/house-rent-prediction-dataset\n"
          ]
        },
        {
          "output_type": "execute_result",
          "data": {
            "text/plain": [
              "    Posted On  BHK   Rent  Size            Floor    Area Type  \\\n",
              "0  2022-05-18    2  10000  1100  Ground out of 2   Super Area   \n",
              "1  2022-05-13    2  20000   800       1 out of 3   Super Area   \n",
              "2  2022-05-16    2  17000  1000       1 out of 3   Super Area   \n",
              "3  2022-07-04    2  10000   800       1 out of 2   Super Area   \n",
              "4  2022-05-09    2   7500   850       1 out of 2  Carpet Area   \n",
              "5  2022-04-29    2   7000   600  Ground out of 1   Super Area   \n",
              "6  2022-06-21    2  10000   700  Ground out of 4   Super Area   \n",
              "7  2022-06-21    1   5000   250       1 out of 2   Super Area   \n",
              "8  2022-06-07    2  26000   800       1 out of 2  Carpet Area   \n",
              "9  2022-06-20    2  10000  1000       1 out of 3  Carpet Area   \n",
              "\n",
              "                     Area Locality     City Furnishing Status  \\\n",
              "0                           Bandel  Kolkata       Unfurnished   \n",
              "1         Phool Bagan, Kankurgachi  Kolkata    Semi-Furnished   \n",
              "2          Salt Lake City Sector 2  Kolkata    Semi-Furnished   \n",
              "3                      Dumdum Park  Kolkata       Unfurnished   \n",
              "4                    South Dum Dum  Kolkata       Unfurnished   \n",
              "5                      Thakurpukur  Kolkata       Unfurnished   \n",
              "6                         Malancha  Kolkata       Unfurnished   \n",
              "7                         Malancha  Kolkata       Unfurnished   \n",
              "8  Palm Avenue Kolkata, Ballygunge  Kolkata       Unfurnished   \n",
              "9                         Natunhat  Kolkata    Semi-Furnished   \n",
              "\n",
              "   Tenant Preferred  Bathroom Point of Contact  \n",
              "0  Bachelors/Family         2    Contact Owner  \n",
              "1  Bachelors/Family         1    Contact Owner  \n",
              "2  Bachelors/Family         1    Contact Owner  \n",
              "3  Bachelors/Family         1    Contact Owner  \n",
              "4         Bachelors         1    Contact Owner  \n",
              "5  Bachelors/Family         2    Contact Owner  \n",
              "6         Bachelors         2    Contact Agent  \n",
              "7         Bachelors         1    Contact Agent  \n",
              "8         Bachelors         2    Contact Agent  \n",
              "9  Bachelors/Family         2    Contact Owner  "
            ],
            "text/html": [
              "\n",
              "  <div id=\"df-47fd8397-66f7-4da0-a054-697eec75b3d0\" class=\"colab-df-container\">\n",
              "    <div>\n",
              "<style scoped>\n",
              "    .dataframe tbody tr th:only-of-type {\n",
              "        vertical-align: middle;\n",
              "    }\n",
              "\n",
              "    .dataframe tbody tr th {\n",
              "        vertical-align: top;\n",
              "    }\n",
              "\n",
              "    .dataframe thead th {\n",
              "        text-align: right;\n",
              "    }\n",
              "</style>\n",
              "<table border=\"1\" class=\"dataframe\">\n",
              "  <thead>\n",
              "    <tr style=\"text-align: right;\">\n",
              "      <th></th>\n",
              "      <th>Posted On</th>\n",
              "      <th>BHK</th>\n",
              "      <th>Rent</th>\n",
              "      <th>Size</th>\n",
              "      <th>Floor</th>\n",
              "      <th>Area Type</th>\n",
              "      <th>Area Locality</th>\n",
              "      <th>City</th>\n",
              "      <th>Furnishing Status</th>\n",
              "      <th>Tenant Preferred</th>\n",
              "      <th>Bathroom</th>\n",
              "      <th>Point of Contact</th>\n",
              "    </tr>\n",
              "  </thead>\n",
              "  <tbody>\n",
              "    <tr>\n",
              "      <th>0</th>\n",
              "      <td>2022-05-18</td>\n",
              "      <td>2</td>\n",
              "      <td>10000</td>\n",
              "      <td>1100</td>\n",
              "      <td>Ground out of 2</td>\n",
              "      <td>Super Area</td>\n",
              "      <td>Bandel</td>\n",
              "      <td>Kolkata</td>\n",
              "      <td>Unfurnished</td>\n",
              "      <td>Bachelors/Family</td>\n",
              "      <td>2</td>\n",
              "      <td>Contact Owner</td>\n",
              "    </tr>\n",
              "    <tr>\n",
              "      <th>1</th>\n",
              "      <td>2022-05-13</td>\n",
              "      <td>2</td>\n",
              "      <td>20000</td>\n",
              "      <td>800</td>\n",
              "      <td>1 out of 3</td>\n",
              "      <td>Super Area</td>\n",
              "      <td>Phool Bagan, Kankurgachi</td>\n",
              "      <td>Kolkata</td>\n",
              "      <td>Semi-Furnished</td>\n",
              "      <td>Bachelors/Family</td>\n",
              "      <td>1</td>\n",
              "      <td>Contact Owner</td>\n",
              "    </tr>\n",
              "    <tr>\n",
              "      <th>2</th>\n",
              "      <td>2022-05-16</td>\n",
              "      <td>2</td>\n",
              "      <td>17000</td>\n",
              "      <td>1000</td>\n",
              "      <td>1 out of 3</td>\n",
              "      <td>Super Area</td>\n",
              "      <td>Salt Lake City Sector 2</td>\n",
              "      <td>Kolkata</td>\n",
              "      <td>Semi-Furnished</td>\n",
              "      <td>Bachelors/Family</td>\n",
              "      <td>1</td>\n",
              "      <td>Contact Owner</td>\n",
              "    </tr>\n",
              "    <tr>\n",
              "      <th>3</th>\n",
              "      <td>2022-07-04</td>\n",
              "      <td>2</td>\n",
              "      <td>10000</td>\n",
              "      <td>800</td>\n",
              "      <td>1 out of 2</td>\n",
              "      <td>Super Area</td>\n",
              "      <td>Dumdum Park</td>\n",
              "      <td>Kolkata</td>\n",
              "      <td>Unfurnished</td>\n",
              "      <td>Bachelors/Family</td>\n",
              "      <td>1</td>\n",
              "      <td>Contact Owner</td>\n",
              "    </tr>\n",
              "    <tr>\n",
              "      <th>4</th>\n",
              "      <td>2022-05-09</td>\n",
              "      <td>2</td>\n",
              "      <td>7500</td>\n",
              "      <td>850</td>\n",
              "      <td>1 out of 2</td>\n",
              "      <td>Carpet Area</td>\n",
              "      <td>South Dum Dum</td>\n",
              "      <td>Kolkata</td>\n",
              "      <td>Unfurnished</td>\n",
              "      <td>Bachelors</td>\n",
              "      <td>1</td>\n",
              "      <td>Contact Owner</td>\n",
              "    </tr>\n",
              "    <tr>\n",
              "      <th>5</th>\n",
              "      <td>2022-04-29</td>\n",
              "      <td>2</td>\n",
              "      <td>7000</td>\n",
              "      <td>600</td>\n",
              "      <td>Ground out of 1</td>\n",
              "      <td>Super Area</td>\n",
              "      <td>Thakurpukur</td>\n",
              "      <td>Kolkata</td>\n",
              "      <td>Unfurnished</td>\n",
              "      <td>Bachelors/Family</td>\n",
              "      <td>2</td>\n",
              "      <td>Contact Owner</td>\n",
              "    </tr>\n",
              "    <tr>\n",
              "      <th>6</th>\n",
              "      <td>2022-06-21</td>\n",
              "      <td>2</td>\n",
              "      <td>10000</td>\n",
              "      <td>700</td>\n",
              "      <td>Ground out of 4</td>\n",
              "      <td>Super Area</td>\n",
              "      <td>Malancha</td>\n",
              "      <td>Kolkata</td>\n",
              "      <td>Unfurnished</td>\n",
              "      <td>Bachelors</td>\n",
              "      <td>2</td>\n",
              "      <td>Contact Agent</td>\n",
              "    </tr>\n",
              "    <tr>\n",
              "      <th>7</th>\n",
              "      <td>2022-06-21</td>\n",
              "      <td>1</td>\n",
              "      <td>5000</td>\n",
              "      <td>250</td>\n",
              "      <td>1 out of 2</td>\n",
              "      <td>Super Area</td>\n",
              "      <td>Malancha</td>\n",
              "      <td>Kolkata</td>\n",
              "      <td>Unfurnished</td>\n",
              "      <td>Bachelors</td>\n",
              "      <td>1</td>\n",
              "      <td>Contact Agent</td>\n",
              "    </tr>\n",
              "    <tr>\n",
              "      <th>8</th>\n",
              "      <td>2022-06-07</td>\n",
              "      <td>2</td>\n",
              "      <td>26000</td>\n",
              "      <td>800</td>\n",
              "      <td>1 out of 2</td>\n",
              "      <td>Carpet Area</td>\n",
              "      <td>Palm Avenue Kolkata, Ballygunge</td>\n",
              "      <td>Kolkata</td>\n",
              "      <td>Unfurnished</td>\n",
              "      <td>Bachelors</td>\n",
              "      <td>2</td>\n",
              "      <td>Contact Agent</td>\n",
              "    </tr>\n",
              "    <tr>\n",
              "      <th>9</th>\n",
              "      <td>2022-06-20</td>\n",
              "      <td>2</td>\n",
              "      <td>10000</td>\n",
              "      <td>1000</td>\n",
              "      <td>1 out of 3</td>\n",
              "      <td>Carpet Area</td>\n",
              "      <td>Natunhat</td>\n",
              "      <td>Kolkata</td>\n",
              "      <td>Semi-Furnished</td>\n",
              "      <td>Bachelors/Family</td>\n",
              "      <td>2</td>\n",
              "      <td>Contact Owner</td>\n",
              "    </tr>\n",
              "  </tbody>\n",
              "</table>\n",
              "</div>\n",
              "    <div class=\"colab-df-buttons\">\n",
              "\n",
              "  <div class=\"colab-df-container\">\n",
              "    <button class=\"colab-df-convert\" onclick=\"convertToInteractive('df-47fd8397-66f7-4da0-a054-697eec75b3d0')\"\n",
              "            title=\"Convert this dataframe to an interactive table.\"\n",
              "            style=\"display:none;\">\n",
              "\n",
              "  <svg xmlns=\"http://www.w3.org/2000/svg\" height=\"24px\" viewBox=\"0 -960 960 960\">\n",
              "    <path d=\"M120-120v-720h720v720H120Zm60-500h600v-160H180v160Zm220 220h160v-160H400v160Zm0 220h160v-160H400v160ZM180-400h160v-160H180v160Zm440 0h160v-160H620v160ZM180-180h160v-160H180v160Zm440 0h160v-160H620v160Z\"/>\n",
              "  </svg>\n",
              "    </button>\n",
              "\n",
              "  <style>\n",
              "    .colab-df-container {\n",
              "      display:flex;\n",
              "      gap: 12px;\n",
              "    }\n",
              "\n",
              "    .colab-df-convert {\n",
              "      background-color: #E8F0FE;\n",
              "      border: none;\n",
              "      border-radius: 50%;\n",
              "      cursor: pointer;\n",
              "      display: none;\n",
              "      fill: #1967D2;\n",
              "      height: 32px;\n",
              "      padding: 0 0 0 0;\n",
              "      width: 32px;\n",
              "    }\n",
              "\n",
              "    .colab-df-convert:hover {\n",
              "      background-color: #E2EBFA;\n",
              "      box-shadow: 0px 1px 2px rgba(60, 64, 67, 0.3), 0px 1px 3px 1px rgba(60, 64, 67, 0.15);\n",
              "      fill: #174EA6;\n",
              "    }\n",
              "\n",
              "    .colab-df-buttons div {\n",
              "      margin-bottom: 4px;\n",
              "    }\n",
              "\n",
              "    [theme=dark] .colab-df-convert {\n",
              "      background-color: #3B4455;\n",
              "      fill: #D2E3FC;\n",
              "    }\n",
              "\n",
              "    [theme=dark] .colab-df-convert:hover {\n",
              "      background-color: #434B5C;\n",
              "      box-shadow: 0px 1px 3px 1px rgba(0, 0, 0, 0.15);\n",
              "      filter: drop-shadow(0px 1px 2px rgba(0, 0, 0, 0.3));\n",
              "      fill: #FFFFFF;\n",
              "    }\n",
              "  </style>\n",
              "\n",
              "    <script>\n",
              "      const buttonEl =\n",
              "        document.querySelector('#df-47fd8397-66f7-4da0-a054-697eec75b3d0 button.colab-df-convert');\n",
              "      buttonEl.style.display =\n",
              "        google.colab.kernel.accessAllowed ? 'block' : 'none';\n",
              "\n",
              "      async function convertToInteractive(key) {\n",
              "        const element = document.querySelector('#df-47fd8397-66f7-4da0-a054-697eec75b3d0');\n",
              "        const dataTable =\n",
              "          await google.colab.kernel.invokeFunction('convertToInteractive',\n",
              "                                                    [key], {});\n",
              "        if (!dataTable) return;\n",
              "\n",
              "        const docLinkHtml = 'Like what you see? Visit the ' +\n",
              "          '<a target=\"_blank\" href=https://colab.research.google.com/notebooks/data_table.ipynb>data table notebook</a>'\n",
              "          + ' to learn more about interactive tables.';\n",
              "        element.innerHTML = '';\n",
              "        dataTable['output_type'] = 'display_data';\n",
              "        await google.colab.output.renderOutput(dataTable, element);\n",
              "        const docLink = document.createElement('div');\n",
              "        docLink.innerHTML = docLinkHtml;\n",
              "        element.appendChild(docLink);\n",
              "      }\n",
              "    </script>\n",
              "  </div>\n",
              "\n",
              "\n",
              "    <div id=\"df-88d6ec50-47c7-42af-a791-80ac15c599d6\">\n",
              "      <button class=\"colab-df-quickchart\" onclick=\"quickchart('df-88d6ec50-47c7-42af-a791-80ac15c599d6')\"\n",
              "                title=\"Suggest charts\"\n",
              "                style=\"display:none;\">\n",
              "\n",
              "<svg xmlns=\"http://www.w3.org/2000/svg\" height=\"24px\"viewBox=\"0 0 24 24\"\n",
              "     width=\"24px\">\n",
              "    <g>\n",
              "        <path d=\"M19 3H5c-1.1 0-2 .9-2 2v14c0 1.1.9 2 2 2h14c1.1 0 2-.9 2-2V5c0-1.1-.9-2-2-2zM9 17H7v-7h2v7zm4 0h-2V7h2v10zm4 0h-2v-4h2v4z\"/>\n",
              "    </g>\n",
              "</svg>\n",
              "      </button>\n",
              "\n",
              "<style>\n",
              "  .colab-df-quickchart {\n",
              "      --bg-color: #E8F0FE;\n",
              "      --fill-color: #1967D2;\n",
              "      --hover-bg-color: #E2EBFA;\n",
              "      --hover-fill-color: #174EA6;\n",
              "      --disabled-fill-color: #AAA;\n",
              "      --disabled-bg-color: #DDD;\n",
              "  }\n",
              "\n",
              "  [theme=dark] .colab-df-quickchart {\n",
              "      --bg-color: #3B4455;\n",
              "      --fill-color: #D2E3FC;\n",
              "      --hover-bg-color: #434B5C;\n",
              "      --hover-fill-color: #FFFFFF;\n",
              "      --disabled-bg-color: #3B4455;\n",
              "      --disabled-fill-color: #666;\n",
              "  }\n",
              "\n",
              "  .colab-df-quickchart {\n",
              "    background-color: var(--bg-color);\n",
              "    border: none;\n",
              "    border-radius: 50%;\n",
              "    cursor: pointer;\n",
              "    display: none;\n",
              "    fill: var(--fill-color);\n",
              "    height: 32px;\n",
              "    padding: 0;\n",
              "    width: 32px;\n",
              "  }\n",
              "\n",
              "  .colab-df-quickchart:hover {\n",
              "    background-color: var(--hover-bg-color);\n",
              "    box-shadow: 0 1px 2px rgba(60, 64, 67, 0.3), 0 1px 3px 1px rgba(60, 64, 67, 0.15);\n",
              "    fill: var(--button-hover-fill-color);\n",
              "  }\n",
              "\n",
              "  .colab-df-quickchart-complete:disabled,\n",
              "  .colab-df-quickchart-complete:disabled:hover {\n",
              "    background-color: var(--disabled-bg-color);\n",
              "    fill: var(--disabled-fill-color);\n",
              "    box-shadow: none;\n",
              "  }\n",
              "\n",
              "  .colab-df-spinner {\n",
              "    border: 2px solid var(--fill-color);\n",
              "    border-color: transparent;\n",
              "    border-bottom-color: var(--fill-color);\n",
              "    animation:\n",
              "      spin 1s steps(1) infinite;\n",
              "  }\n",
              "\n",
              "  @keyframes spin {\n",
              "    0% {\n",
              "      border-color: transparent;\n",
              "      border-bottom-color: var(--fill-color);\n",
              "      border-left-color: var(--fill-color);\n",
              "    }\n",
              "    20% {\n",
              "      border-color: transparent;\n",
              "      border-left-color: var(--fill-color);\n",
              "      border-top-color: var(--fill-color);\n",
              "    }\n",
              "    30% {\n",
              "      border-color: transparent;\n",
              "      border-left-color: var(--fill-color);\n",
              "      border-top-color: var(--fill-color);\n",
              "      border-right-color: var(--fill-color);\n",
              "    }\n",
              "    40% {\n",
              "      border-color: transparent;\n",
              "      border-right-color: var(--fill-color);\n",
              "      border-top-color: var(--fill-color);\n",
              "    }\n",
              "    60% {\n",
              "      border-color: transparent;\n",
              "      border-right-color: var(--fill-color);\n",
              "    }\n",
              "    80% {\n",
              "      border-color: transparent;\n",
              "      border-right-color: var(--fill-color);\n",
              "      border-bottom-color: var(--fill-color);\n",
              "    }\n",
              "    90% {\n",
              "      border-color: transparent;\n",
              "      border-bottom-color: var(--fill-color);\n",
              "    }\n",
              "  }\n",
              "</style>\n",
              "\n",
              "      <script>\n",
              "        async function quickchart(key) {\n",
              "          const quickchartButtonEl =\n",
              "            document.querySelector('#' + key + ' button');\n",
              "          quickchartButtonEl.disabled = true;  // To prevent multiple clicks.\n",
              "          quickchartButtonEl.classList.add('colab-df-spinner');\n",
              "          try {\n",
              "            const charts = await google.colab.kernel.invokeFunction(\n",
              "                'suggestCharts', [key], {});\n",
              "          } catch (error) {\n",
              "            console.error('Error during call to suggestCharts:', error);\n",
              "          }\n",
              "          quickchartButtonEl.classList.remove('colab-df-spinner');\n",
              "          quickchartButtonEl.classList.add('colab-df-quickchart-complete');\n",
              "        }\n",
              "        (() => {\n",
              "          let quickchartButtonEl =\n",
              "            document.querySelector('#df-88d6ec50-47c7-42af-a791-80ac15c599d6 button');\n",
              "          quickchartButtonEl.style.display =\n",
              "            google.colab.kernel.accessAllowed ? 'block' : 'none';\n",
              "        })();\n",
              "      </script>\n",
              "    </div>\n",
              "\n",
              "    </div>\n",
              "  </div>\n"
            ],
            "application/vnd.google.colaboratory.intrinsic+json": {
              "type": "dataframe",
              "variable_name": "df",
              "summary": "{\n  \"name\": \"df\",\n  \"rows\": 4746,\n  \"fields\": [\n    {\n      \"column\": \"Posted On\",\n      \"properties\": {\n        \"dtype\": \"object\",\n        \"num_unique_values\": 81,\n        \"samples\": [\n          \"2022-05-31\",\n          \"2022-05-18\",\n          \"2022-06-22\"\n        ],\n        \"semantic_type\": \"\",\n        \"description\": \"\"\n      }\n    },\n    {\n      \"column\": \"BHK\",\n      \"properties\": {\n        \"dtype\": \"number\",\n        \"std\": 0,\n        \"min\": 1,\n        \"max\": 6,\n        \"num_unique_values\": 6,\n        \"samples\": [\n          2,\n          1,\n          5\n        ],\n        \"semantic_type\": \"\",\n        \"description\": \"\"\n      }\n    },\n    {\n      \"column\": \"Rent\",\n      \"properties\": {\n        \"dtype\": \"number\",\n        \"std\": 78106,\n        \"min\": 1200,\n        \"max\": 3500000,\n        \"num_unique_values\": 243,\n        \"samples\": [\n          12000,\n          26000,\n          9400\n        ],\n        \"semantic_type\": \"\",\n        \"description\": \"\"\n      }\n    },\n    {\n      \"column\": \"Size\",\n      \"properties\": {\n        \"dtype\": \"number\",\n        \"std\": 634,\n        \"min\": 10,\n        \"max\": 8000,\n        \"num_unique_values\": 615,\n        \"samples\": [\n          870,\n          1115,\n          95\n        ],\n        \"semantic_type\": \"\",\n        \"description\": \"\"\n      }\n    },\n    {\n      \"column\": \"Floor\",\n      \"properties\": {\n        \"dtype\": \"category\",\n        \"num_unique_values\": 480,\n        \"samples\": [\n          \"10 out of 18\",\n          \"17 out of 18\",\n          \"60 out of 71\"\n        ],\n        \"semantic_type\": \"\",\n        \"description\": \"\"\n      }\n    },\n    {\n      \"column\": \"Area Type\",\n      \"properties\": {\n        \"dtype\": \"category\",\n        \"num_unique_values\": 3,\n        \"samples\": [\n          \"Super Area\",\n          \"Carpet Area\",\n          \"Built Area\"\n        ],\n        \"semantic_type\": \"\",\n        \"description\": \"\"\n      }\n    },\n    {\n      \"column\": \"Area Locality\",\n      \"properties\": {\n        \"dtype\": \"category\",\n        \"num_unique_values\": 2235,\n        \"samples\": [\n          \"Suraram\",\n          \"Rodamestri Nagar\",\n          \"Ullal Main Road\"\n        ],\n        \"semantic_type\": \"\",\n        \"description\": \"\"\n      }\n    },\n    {\n      \"column\": \"City\",\n      \"properties\": {\n        \"dtype\": \"category\",\n        \"num_unique_values\": 6,\n        \"samples\": [\n          \"Kolkata\",\n          \"Mumbai\",\n          \"Hyderabad\"\n        ],\n        \"semantic_type\": \"\",\n        \"description\": \"\"\n      }\n    },\n    {\n      \"column\": \"Furnishing Status\",\n      \"properties\": {\n        \"dtype\": \"category\",\n        \"num_unique_values\": 3,\n        \"samples\": [\n          \"Unfurnished\",\n          \"Semi-Furnished\",\n          \"Furnished\"\n        ],\n        \"semantic_type\": \"\",\n        \"description\": \"\"\n      }\n    },\n    {\n      \"column\": \"Tenant Preferred\",\n      \"properties\": {\n        \"dtype\": \"category\",\n        \"num_unique_values\": 3,\n        \"samples\": [\n          \"Bachelors/Family\",\n          \"Bachelors\",\n          \"Family\"\n        ],\n        \"semantic_type\": \"\",\n        \"description\": \"\"\n      }\n    },\n    {\n      \"column\": \"Bathroom\",\n      \"properties\": {\n        \"dtype\": \"number\",\n        \"std\": 0,\n        \"min\": 1,\n        \"max\": 10,\n        \"num_unique_values\": 8,\n        \"samples\": [\n          1,\n          6,\n          2\n        ],\n        \"semantic_type\": \"\",\n        \"description\": \"\"\n      }\n    },\n    {\n      \"column\": \"Point of Contact\",\n      \"properties\": {\n        \"dtype\": \"category\",\n        \"num_unique_values\": 3,\n        \"samples\": [\n          \"Contact Owner\",\n          \"Contact Agent\",\n          \"Contact Builder\"\n        ],\n        \"semantic_type\": \"\",\n        \"description\": \"\"\n      }\n    }\n  ]\n}"
            }
          },
          "metadata": {},
          "execution_count": 87
        }
      ],
      "source": [
        "# Standard libraries\n",
        "import numpy as np\n",
        "import pandas as pd\n",
        "import matplotlib.pyplot as plt\n",
        "import seaborn as sns\n",
        "import re\n",
        "\n",
        "# scikit-learn: preprocessing, modeling, evaluation\n",
        "from sklearn.model_selection import train_test_split, GridSearchCV, cross_val_score\n",
        "from sklearn.linear_model import LinearRegression\n",
        "from sklearn.ensemble import RandomForestRegressor\n",
        "from sklearn.preprocessing import OneHotEncoder, StandardScaler\n",
        "from sklearn.compose import ColumnTransformer\n",
        "from sklearn.pipeline import Pipeline\n",
        "from sklearn.metrics import mean_absolute_error, mean_squared_error, r2_score, make_scorer\n",
        "\n",
        "# statsmodels: for multicollinearity (VIF)\n",
        "from statsmodels.stats.outliers_influence import variance_inflation_factor\n",
        "from statsmodels.tools.tools import add_constant\n",
        "\n",
        "# kagglehub: load dataset\n",
        "import kagglehub\n",
        "\n",
        "# Optional: format float display in pandas\n",
        "pd.set_option(\"display.float_format\", lambda x: f\"{x:.2f}\")\n",
        "\n",
        "# Load dataset using kagglehub\n",
        "dataset_id = \"iamsouravbanerjee/house-rent-prediction-dataset\"\n",
        "path = kagglehub.dataset_download(dataset_id)\n",
        "print(\"Path to dataset files:\", path)\n",
        "\n",
        "# Read CSV file\n",
        "file_path = f\"{path}/House_Rent_Dataset.csv\"\n",
        "df = pd.read_csv(file_path)\n",
        "\n",
        "# Preview the dataset\n",
        "df.head(10)"
      ]
    },
    {
      "cell_type": "markdown",
      "id": "79dd1cdb",
      "metadata": {
        "id": "79dd1cdb"
      },
      "source": [
        "## Exploratory Data Analysis (EDA)\n",
        "\n",
        "In this step, I examine the following aspects of the dataset:\n",
        "\n",
        "- Column data types\n",
        "- Summary statistics: min, max, mean, std\n",
        "- Value distributions\n",
        "- Missing values\n",
        "- Correlation matrix"
      ]
    },
    {
      "cell_type": "code",
      "execution_count": 88,
      "id": "acea583e",
      "metadata": {
        "ExecuteTime": {
          "end_time": "2025-05-18T23:54:47.717058Z",
          "start_time": "2025-05-18T23:54:47.698909Z"
        },
        "colab": {
          "base_uri": "https://localhost:8080/"
        },
        "id": "acea583e",
        "outputId": "64f09ede-f3c9-44c1-c092-5eaef80a85b0"
      },
      "outputs": [
        {
          "output_type": "stream",
          "name": "stdout",
          "text": [
            "<class 'pandas.core.frame.DataFrame'>\n",
            "RangeIndex: 4746 entries, 0 to 4745\n",
            "Data columns (total 12 columns):\n",
            " #   Column             Non-Null Count  Dtype \n",
            "---  ------             --------------  ----- \n",
            " 0   Posted On          4746 non-null   object\n",
            " 1   BHK                4746 non-null   int64 \n",
            " 2   Rent               4746 non-null   int64 \n",
            " 3   Size               4746 non-null   int64 \n",
            " 4   Floor              4746 non-null   object\n",
            " 5   Area Type          4746 non-null   object\n",
            " 6   Area Locality      4746 non-null   object\n",
            " 7   City               4746 non-null   object\n",
            " 8   Furnishing Status  4746 non-null   object\n",
            " 9   Tenant Preferred   4746 non-null   object\n",
            " 10  Bathroom           4746 non-null   int64 \n",
            " 11  Point of Contact   4746 non-null   object\n",
            "dtypes: int64(4), object(8)\n",
            "memory usage: 445.1+ KB\n"
          ]
        }
      ],
      "source": [
        "# General information about the dataset\n",
        "df.info()"
      ]
    },
    {
      "cell_type": "code",
      "execution_count": 89,
      "id": "885dbb0e150e8e3",
      "metadata": {
        "colab": {
          "base_uri": "https://localhost:8080/",
          "height": 297
        },
        "id": "885dbb0e150e8e3",
        "outputId": "d29e9b04-f2e0-4337-bb11-582bdfefb4a6"
      },
      "outputs": [
        {
          "output_type": "execute_result",
          "data": {
            "text/plain": [
              "          BHK       Rent    Size  Bathroom\n",
              "count 4746.00    4746.00 4746.00   4746.00\n",
              "mean     2.08   34993.45  967.49      1.97\n",
              "std      0.83   78106.41  634.20      0.88\n",
              "min      1.00    1200.00   10.00      1.00\n",
              "25%      2.00   10000.00  550.00      1.00\n",
              "50%      2.00   16000.00  850.00      2.00\n",
              "75%      3.00   33000.00 1200.00      2.00\n",
              "max      6.00 3500000.00 8000.00     10.00"
            ],
            "text/html": [
              "\n",
              "  <div id=\"df-ce812b32-3edd-4ef7-8947-3ae3a85644be\" class=\"colab-df-container\">\n",
              "    <div>\n",
              "<style scoped>\n",
              "    .dataframe tbody tr th:only-of-type {\n",
              "        vertical-align: middle;\n",
              "    }\n",
              "\n",
              "    .dataframe tbody tr th {\n",
              "        vertical-align: top;\n",
              "    }\n",
              "\n",
              "    .dataframe thead th {\n",
              "        text-align: right;\n",
              "    }\n",
              "</style>\n",
              "<table border=\"1\" class=\"dataframe\">\n",
              "  <thead>\n",
              "    <tr style=\"text-align: right;\">\n",
              "      <th></th>\n",
              "      <th>BHK</th>\n",
              "      <th>Rent</th>\n",
              "      <th>Size</th>\n",
              "      <th>Bathroom</th>\n",
              "    </tr>\n",
              "  </thead>\n",
              "  <tbody>\n",
              "    <tr>\n",
              "      <th>count</th>\n",
              "      <td>4746.00</td>\n",
              "      <td>4746.00</td>\n",
              "      <td>4746.00</td>\n",
              "      <td>4746.00</td>\n",
              "    </tr>\n",
              "    <tr>\n",
              "      <th>mean</th>\n",
              "      <td>2.08</td>\n",
              "      <td>34993.45</td>\n",
              "      <td>967.49</td>\n",
              "      <td>1.97</td>\n",
              "    </tr>\n",
              "    <tr>\n",
              "      <th>std</th>\n",
              "      <td>0.83</td>\n",
              "      <td>78106.41</td>\n",
              "      <td>634.20</td>\n",
              "      <td>0.88</td>\n",
              "    </tr>\n",
              "    <tr>\n",
              "      <th>min</th>\n",
              "      <td>1.00</td>\n",
              "      <td>1200.00</td>\n",
              "      <td>10.00</td>\n",
              "      <td>1.00</td>\n",
              "    </tr>\n",
              "    <tr>\n",
              "      <th>25%</th>\n",
              "      <td>2.00</td>\n",
              "      <td>10000.00</td>\n",
              "      <td>550.00</td>\n",
              "      <td>1.00</td>\n",
              "    </tr>\n",
              "    <tr>\n",
              "      <th>50%</th>\n",
              "      <td>2.00</td>\n",
              "      <td>16000.00</td>\n",
              "      <td>850.00</td>\n",
              "      <td>2.00</td>\n",
              "    </tr>\n",
              "    <tr>\n",
              "      <th>75%</th>\n",
              "      <td>3.00</td>\n",
              "      <td>33000.00</td>\n",
              "      <td>1200.00</td>\n",
              "      <td>2.00</td>\n",
              "    </tr>\n",
              "    <tr>\n",
              "      <th>max</th>\n",
              "      <td>6.00</td>\n",
              "      <td>3500000.00</td>\n",
              "      <td>8000.00</td>\n",
              "      <td>10.00</td>\n",
              "    </tr>\n",
              "  </tbody>\n",
              "</table>\n",
              "</div>\n",
              "    <div class=\"colab-df-buttons\">\n",
              "\n",
              "  <div class=\"colab-df-container\">\n",
              "    <button class=\"colab-df-convert\" onclick=\"convertToInteractive('df-ce812b32-3edd-4ef7-8947-3ae3a85644be')\"\n",
              "            title=\"Convert this dataframe to an interactive table.\"\n",
              "            style=\"display:none;\">\n",
              "\n",
              "  <svg xmlns=\"http://www.w3.org/2000/svg\" height=\"24px\" viewBox=\"0 -960 960 960\">\n",
              "    <path d=\"M120-120v-720h720v720H120Zm60-500h600v-160H180v160Zm220 220h160v-160H400v160Zm0 220h160v-160H400v160ZM180-400h160v-160H180v160Zm440 0h160v-160H620v160ZM180-180h160v-160H180v160Zm440 0h160v-160H620v160Z\"/>\n",
              "  </svg>\n",
              "    </button>\n",
              "\n",
              "  <style>\n",
              "    .colab-df-container {\n",
              "      display:flex;\n",
              "      gap: 12px;\n",
              "    }\n",
              "\n",
              "    .colab-df-convert {\n",
              "      background-color: #E8F0FE;\n",
              "      border: none;\n",
              "      border-radius: 50%;\n",
              "      cursor: pointer;\n",
              "      display: none;\n",
              "      fill: #1967D2;\n",
              "      height: 32px;\n",
              "      padding: 0 0 0 0;\n",
              "      width: 32px;\n",
              "    }\n",
              "\n",
              "    .colab-df-convert:hover {\n",
              "      background-color: #E2EBFA;\n",
              "      box-shadow: 0px 1px 2px rgba(60, 64, 67, 0.3), 0px 1px 3px 1px rgba(60, 64, 67, 0.15);\n",
              "      fill: #174EA6;\n",
              "    }\n",
              "\n",
              "    .colab-df-buttons div {\n",
              "      margin-bottom: 4px;\n",
              "    }\n",
              "\n",
              "    [theme=dark] .colab-df-convert {\n",
              "      background-color: #3B4455;\n",
              "      fill: #D2E3FC;\n",
              "    }\n",
              "\n",
              "    [theme=dark] .colab-df-convert:hover {\n",
              "      background-color: #434B5C;\n",
              "      box-shadow: 0px 1px 3px 1px rgba(0, 0, 0, 0.15);\n",
              "      filter: drop-shadow(0px 1px 2px rgba(0, 0, 0, 0.3));\n",
              "      fill: #FFFFFF;\n",
              "    }\n",
              "  </style>\n",
              "\n",
              "    <script>\n",
              "      const buttonEl =\n",
              "        document.querySelector('#df-ce812b32-3edd-4ef7-8947-3ae3a85644be button.colab-df-convert');\n",
              "      buttonEl.style.display =\n",
              "        google.colab.kernel.accessAllowed ? 'block' : 'none';\n",
              "\n",
              "      async function convertToInteractive(key) {\n",
              "        const element = document.querySelector('#df-ce812b32-3edd-4ef7-8947-3ae3a85644be');\n",
              "        const dataTable =\n",
              "          await google.colab.kernel.invokeFunction('convertToInteractive',\n",
              "                                                    [key], {});\n",
              "        if (!dataTable) return;\n",
              "\n",
              "        const docLinkHtml = 'Like what you see? Visit the ' +\n",
              "          '<a target=\"_blank\" href=https://colab.research.google.com/notebooks/data_table.ipynb>data table notebook</a>'\n",
              "          + ' to learn more about interactive tables.';\n",
              "        element.innerHTML = '';\n",
              "        dataTable['output_type'] = 'display_data';\n",
              "        await google.colab.output.renderOutput(dataTable, element);\n",
              "        const docLink = document.createElement('div');\n",
              "        docLink.innerHTML = docLinkHtml;\n",
              "        element.appendChild(docLink);\n",
              "      }\n",
              "    </script>\n",
              "  </div>\n",
              "\n",
              "\n",
              "    <div id=\"df-f2066645-204b-4581-8437-c5479176f482\">\n",
              "      <button class=\"colab-df-quickchart\" onclick=\"quickchart('df-f2066645-204b-4581-8437-c5479176f482')\"\n",
              "                title=\"Suggest charts\"\n",
              "                style=\"display:none;\">\n",
              "\n",
              "<svg xmlns=\"http://www.w3.org/2000/svg\" height=\"24px\"viewBox=\"0 0 24 24\"\n",
              "     width=\"24px\">\n",
              "    <g>\n",
              "        <path d=\"M19 3H5c-1.1 0-2 .9-2 2v14c0 1.1.9 2 2 2h14c1.1 0 2-.9 2-2V5c0-1.1-.9-2-2-2zM9 17H7v-7h2v7zm4 0h-2V7h2v10zm4 0h-2v-4h2v4z\"/>\n",
              "    </g>\n",
              "</svg>\n",
              "      </button>\n",
              "\n",
              "<style>\n",
              "  .colab-df-quickchart {\n",
              "      --bg-color: #E8F0FE;\n",
              "      --fill-color: #1967D2;\n",
              "      --hover-bg-color: #E2EBFA;\n",
              "      --hover-fill-color: #174EA6;\n",
              "      --disabled-fill-color: #AAA;\n",
              "      --disabled-bg-color: #DDD;\n",
              "  }\n",
              "\n",
              "  [theme=dark] .colab-df-quickchart {\n",
              "      --bg-color: #3B4455;\n",
              "      --fill-color: #D2E3FC;\n",
              "      --hover-bg-color: #434B5C;\n",
              "      --hover-fill-color: #FFFFFF;\n",
              "      --disabled-bg-color: #3B4455;\n",
              "      --disabled-fill-color: #666;\n",
              "  }\n",
              "\n",
              "  .colab-df-quickchart {\n",
              "    background-color: var(--bg-color);\n",
              "    border: none;\n",
              "    border-radius: 50%;\n",
              "    cursor: pointer;\n",
              "    display: none;\n",
              "    fill: var(--fill-color);\n",
              "    height: 32px;\n",
              "    padding: 0;\n",
              "    width: 32px;\n",
              "  }\n",
              "\n",
              "  .colab-df-quickchart:hover {\n",
              "    background-color: var(--hover-bg-color);\n",
              "    box-shadow: 0 1px 2px rgba(60, 64, 67, 0.3), 0 1px 3px 1px rgba(60, 64, 67, 0.15);\n",
              "    fill: var(--button-hover-fill-color);\n",
              "  }\n",
              "\n",
              "  .colab-df-quickchart-complete:disabled,\n",
              "  .colab-df-quickchart-complete:disabled:hover {\n",
              "    background-color: var(--disabled-bg-color);\n",
              "    fill: var(--disabled-fill-color);\n",
              "    box-shadow: none;\n",
              "  }\n",
              "\n",
              "  .colab-df-spinner {\n",
              "    border: 2px solid var(--fill-color);\n",
              "    border-color: transparent;\n",
              "    border-bottom-color: var(--fill-color);\n",
              "    animation:\n",
              "      spin 1s steps(1) infinite;\n",
              "  }\n",
              "\n",
              "  @keyframes spin {\n",
              "    0% {\n",
              "      border-color: transparent;\n",
              "      border-bottom-color: var(--fill-color);\n",
              "      border-left-color: var(--fill-color);\n",
              "    }\n",
              "    20% {\n",
              "      border-color: transparent;\n",
              "      border-left-color: var(--fill-color);\n",
              "      border-top-color: var(--fill-color);\n",
              "    }\n",
              "    30% {\n",
              "      border-color: transparent;\n",
              "      border-left-color: var(--fill-color);\n",
              "      border-top-color: var(--fill-color);\n",
              "      border-right-color: var(--fill-color);\n",
              "    }\n",
              "    40% {\n",
              "      border-color: transparent;\n",
              "      border-right-color: var(--fill-color);\n",
              "      border-top-color: var(--fill-color);\n",
              "    }\n",
              "    60% {\n",
              "      border-color: transparent;\n",
              "      border-right-color: var(--fill-color);\n",
              "    }\n",
              "    80% {\n",
              "      border-color: transparent;\n",
              "      border-right-color: var(--fill-color);\n",
              "      border-bottom-color: var(--fill-color);\n",
              "    }\n",
              "    90% {\n",
              "      border-color: transparent;\n",
              "      border-bottom-color: var(--fill-color);\n",
              "    }\n",
              "  }\n",
              "</style>\n",
              "\n",
              "      <script>\n",
              "        async function quickchart(key) {\n",
              "          const quickchartButtonEl =\n",
              "            document.querySelector('#' + key + ' button');\n",
              "          quickchartButtonEl.disabled = true;  // To prevent multiple clicks.\n",
              "          quickchartButtonEl.classList.add('colab-df-spinner');\n",
              "          try {\n",
              "            const charts = await google.colab.kernel.invokeFunction(\n",
              "                'suggestCharts', [key], {});\n",
              "          } catch (error) {\n",
              "            console.error('Error during call to suggestCharts:', error);\n",
              "          }\n",
              "          quickchartButtonEl.classList.remove('colab-df-spinner');\n",
              "          quickchartButtonEl.classList.add('colab-df-quickchart-complete');\n",
              "        }\n",
              "        (() => {\n",
              "          let quickchartButtonEl =\n",
              "            document.querySelector('#df-f2066645-204b-4581-8437-c5479176f482 button');\n",
              "          quickchartButtonEl.style.display =\n",
              "            google.colab.kernel.accessAllowed ? 'block' : 'none';\n",
              "        })();\n",
              "      </script>\n",
              "    </div>\n",
              "\n",
              "    </div>\n",
              "  </div>\n"
            ],
            "application/vnd.google.colaboratory.intrinsic+json": {
              "type": "dataframe",
              "summary": "{\n  \"name\": \"df\",\n  \"rows\": 8,\n  \"fields\": [\n    {\n      \"column\": \"BHK\",\n      \"properties\": {\n        \"dtype\": \"number\",\n        \"std\": 1677.1107721370408,\n        \"min\": 0.8322558984634506,\n        \"max\": 4746.0,\n        \"num_unique_values\": 7,\n        \"samples\": [\n          4746.0,\n          2.0838600927096502,\n          3.0\n        ],\n        \"semantic_type\": \"\",\n        \"description\": \"\"\n      }\n    },\n    {\n      \"column\": \"Rent\",\n      \"properties\": {\n        \"dtype\": \"number\",\n        \"std\": 1228692.1877368717,\n        \"min\": 1200.0,\n        \"max\": 3500000.0,\n        \"num_unique_values\": 8,\n        \"samples\": [\n          34993.45132743363,\n          16000.0,\n          4746.0\n        ],\n        \"semantic_type\": \"\",\n        \"description\": \"\"\n      }\n    },\n    {\n      \"column\": \"Size\",\n      \"properties\": {\n        \"dtype\": \"number\",\n        \"std\": 2787.278439061054,\n        \"min\": 10.0,\n        \"max\": 8000.0,\n        \"num_unique_values\": 8,\n        \"samples\": [\n          967.4907290349768,\n          850.0,\n          4746.0\n        ],\n        \"semantic_type\": \"\",\n        \"description\": \"\"\n      }\n    },\n    {\n      \"column\": \"Bathroom\",\n      \"properties\": {\n        \"dtype\": \"number\",\n        \"std\": 1677.015023913339,\n        \"min\": 0.8845316658055188,\n        \"max\": 4746.0,\n        \"num_unique_values\": 6,\n        \"samples\": [\n          4746.0,\n          1.965865992414665,\n          10.0\n        ],\n        \"semantic_type\": \"\",\n        \"description\": \"\"\n      }\n    }\n  ]\n}"
            }
          },
          "metadata": {},
          "execution_count": 89
        }
      ],
      "source": [
        "# Summary statistics for numerical features\n",
        "df.describe()"
      ]
    },
    {
      "cell_type": "code",
      "execution_count": 90,
      "id": "4455a7891f708f66",
      "metadata": {
        "colab": {
          "base_uri": "https://localhost:8080/",
          "height": 455
        },
        "id": "4455a7891f708f66",
        "outputId": "8d9e75cd-1f38-4342-8940-0f0fa1b37747"
      },
      "outputs": [
        {
          "output_type": "execute_result",
          "data": {
            "text/plain": [
              "Posted On            0\n",
              "BHK                  0\n",
              "Rent                 0\n",
              "Size                 0\n",
              "Floor                0\n",
              "Area Type            0\n",
              "Area Locality        0\n",
              "City                 0\n",
              "Furnishing Status    0\n",
              "Tenant Preferred     0\n",
              "Bathroom             0\n",
              "Point of Contact     0\n",
              "dtype: int64"
            ],
            "text/html": [
              "<div>\n",
              "<style scoped>\n",
              "    .dataframe tbody tr th:only-of-type {\n",
              "        vertical-align: middle;\n",
              "    }\n",
              "\n",
              "    .dataframe tbody tr th {\n",
              "        vertical-align: top;\n",
              "    }\n",
              "\n",
              "    .dataframe thead th {\n",
              "        text-align: right;\n",
              "    }\n",
              "</style>\n",
              "<table border=\"1\" class=\"dataframe\">\n",
              "  <thead>\n",
              "    <tr style=\"text-align: right;\">\n",
              "      <th></th>\n",
              "      <th>0</th>\n",
              "    </tr>\n",
              "  </thead>\n",
              "  <tbody>\n",
              "    <tr>\n",
              "      <th>Posted On</th>\n",
              "      <td>0</td>\n",
              "    </tr>\n",
              "    <tr>\n",
              "      <th>BHK</th>\n",
              "      <td>0</td>\n",
              "    </tr>\n",
              "    <tr>\n",
              "      <th>Rent</th>\n",
              "      <td>0</td>\n",
              "    </tr>\n",
              "    <tr>\n",
              "      <th>Size</th>\n",
              "      <td>0</td>\n",
              "    </tr>\n",
              "    <tr>\n",
              "      <th>Floor</th>\n",
              "      <td>0</td>\n",
              "    </tr>\n",
              "    <tr>\n",
              "      <th>Area Type</th>\n",
              "      <td>0</td>\n",
              "    </tr>\n",
              "    <tr>\n",
              "      <th>Area Locality</th>\n",
              "      <td>0</td>\n",
              "    </tr>\n",
              "    <tr>\n",
              "      <th>City</th>\n",
              "      <td>0</td>\n",
              "    </tr>\n",
              "    <tr>\n",
              "      <th>Furnishing Status</th>\n",
              "      <td>0</td>\n",
              "    </tr>\n",
              "    <tr>\n",
              "      <th>Tenant Preferred</th>\n",
              "      <td>0</td>\n",
              "    </tr>\n",
              "    <tr>\n",
              "      <th>Bathroom</th>\n",
              "      <td>0</td>\n",
              "    </tr>\n",
              "    <tr>\n",
              "      <th>Point of Contact</th>\n",
              "      <td>0</td>\n",
              "    </tr>\n",
              "  </tbody>\n",
              "</table>\n",
              "</div><br><label><b>dtype:</b> int64</label>"
            ]
          },
          "metadata": {},
          "execution_count": 90
        }
      ],
      "source": [
        "# Check for missing values\n",
        "df.isnull().sum()"
      ]
    },
    {
      "cell_type": "code",
      "execution_count": 91,
      "id": "12a7d992b40f5437",
      "metadata": {
        "colab": {
          "base_uri": "https://localhost:8080/",
          "height": 455
        },
        "id": "12a7d992b40f5437",
        "outputId": "a4cab4b0-c48a-47df-daba-40ec5328f261"
      },
      "outputs": [
        {
          "output_type": "execute_result",
          "data": {
            "text/plain": [
              "Posted On              81\n",
              "BHK                     6\n",
              "Rent                  243\n",
              "Size                  615\n",
              "Floor                 480\n",
              "Area Type               3\n",
              "Area Locality        2235\n",
              "City                    6\n",
              "Furnishing Status       3\n",
              "Tenant Preferred        3\n",
              "Bathroom                8\n",
              "Point of Contact        3\n",
              "dtype: int64"
            ],
            "text/html": [
              "<div>\n",
              "<style scoped>\n",
              "    .dataframe tbody tr th:only-of-type {\n",
              "        vertical-align: middle;\n",
              "    }\n",
              "\n",
              "    .dataframe tbody tr th {\n",
              "        vertical-align: top;\n",
              "    }\n",
              "\n",
              "    .dataframe thead th {\n",
              "        text-align: right;\n",
              "    }\n",
              "</style>\n",
              "<table border=\"1\" class=\"dataframe\">\n",
              "  <thead>\n",
              "    <tr style=\"text-align: right;\">\n",
              "      <th></th>\n",
              "      <th>0</th>\n",
              "    </tr>\n",
              "  </thead>\n",
              "  <tbody>\n",
              "    <tr>\n",
              "      <th>Posted On</th>\n",
              "      <td>81</td>\n",
              "    </tr>\n",
              "    <tr>\n",
              "      <th>BHK</th>\n",
              "      <td>6</td>\n",
              "    </tr>\n",
              "    <tr>\n",
              "      <th>Rent</th>\n",
              "      <td>243</td>\n",
              "    </tr>\n",
              "    <tr>\n",
              "      <th>Size</th>\n",
              "      <td>615</td>\n",
              "    </tr>\n",
              "    <tr>\n",
              "      <th>Floor</th>\n",
              "      <td>480</td>\n",
              "    </tr>\n",
              "    <tr>\n",
              "      <th>Area Type</th>\n",
              "      <td>3</td>\n",
              "    </tr>\n",
              "    <tr>\n",
              "      <th>Area Locality</th>\n",
              "      <td>2235</td>\n",
              "    </tr>\n",
              "    <tr>\n",
              "      <th>City</th>\n",
              "      <td>6</td>\n",
              "    </tr>\n",
              "    <tr>\n",
              "      <th>Furnishing Status</th>\n",
              "      <td>3</td>\n",
              "    </tr>\n",
              "    <tr>\n",
              "      <th>Tenant Preferred</th>\n",
              "      <td>3</td>\n",
              "    </tr>\n",
              "    <tr>\n",
              "      <th>Bathroom</th>\n",
              "      <td>8</td>\n",
              "    </tr>\n",
              "    <tr>\n",
              "      <th>Point of Contact</th>\n",
              "      <td>3</td>\n",
              "    </tr>\n",
              "  </tbody>\n",
              "</table>\n",
              "</div><br><label><b>dtype:</b> int64</label>"
            ]
          },
          "metadata": {},
          "execution_count": 91
        }
      ],
      "source": [
        "# Data types and count of unique values per column\n",
        "df.nunique()"
      ]
    },
    {
      "cell_type": "markdown",
      "source": [
        "## Numerical Feature Analysis\n",
        "\n",
        "In this section, I conduct exploratory analysis on key **numeric features** in the dataset. This helps to understand their distribution, detect skewness or outliers, and evaluate their relationships with the target variable `Rent`.\n",
        "\n",
        "The steps include:\n",
        "\n",
        "- Visualizing the distribution of `Rent`, `Size`, `BHK`, and `Bathroom`\n",
        "- Identifying skewed distributions that may require normalization\n",
        "- Computing and visualizing correlations between numeric features\n",
        "\n",
        "This numeric analysis informs feature selection and guides appropriate preprocessing for better model training."
      ],
      "metadata": {
        "id": "xWEh6o18aQIw"
      },
      "id": "xWEh6o18aQIw"
    },
    {
      "cell_type": "markdown",
      "source": [
        "### Rent Distribution\n",
        "\n",
        "I begin by examining the distribution of the target variable, **Rent**. This helps identify skewness, potential outliers, and whether normalization or log transformation may be required."
      ],
      "metadata": {
        "id": "Aw-pJjVAD2tZ"
      },
      "id": "Aw-pJjVAD2tZ"
    },
    {
      "cell_type": "code",
      "source": [
        "sns.set_theme(style=\"whitegrid\")\n",
        "\n",
        "plt.figure(figsize=(6, 4))\n",
        "sns.histplot(data=df, x='Rent', kde=True, bins=30, color='steelblue')\n",
        "plt.title(\"Distribution of Rent\", fontsize=12)\n",
        "plt.xlabel(\"Rent\")\n",
        "plt.ylabel(\"Frequency\")\n",
        "plt.tight_layout()\n",
        "plt.show()"
      ],
      "metadata": {
        "colab": {
          "base_uri": "https://localhost:8080/",
          "height": 401
        },
        "id": "LDlN6U_oD7BT",
        "outputId": "a61654e6-174e-4830-f4eb-88e59cd81422"
      },
      "id": "LDlN6U_oD7BT",
      "execution_count": 92,
      "outputs": [
        {
          "output_type": "display_data",
          "data": {
            "text/plain": [
              "<Figure size 600x400 with 1 Axes>"
            ],
            "image/png": "[encoded data removed]"
          },
          "metadata": {}
        }
      ]
    },
    {
      "cell_type": "markdown",
      "source": [
        "The distribution of `Rent` is heavily right-skewed, with most properties priced under 100,000. A small number of listings have extremely high rent values, suggesting the presence of outliers."
      ],
      "metadata": {
        "id": "-9HHbJlGERGU"
      },
      "id": "-9HHbJlGERGU"
    },
    {
      "cell_type": "markdown",
      "source": [
        "### Distribution of Size\n",
        "\n",
        "Next, I examine the distribution of the **Size** feature to understand the spread of property area values."
      ],
      "metadata": {
        "id": "gDslaDUvEoy0"
      },
      "id": "gDslaDUvEoy0"
    },
    {
      "cell_type": "code",
      "source": [
        "plt.figure(figsize=(6, 4))\n",
        "sns.histplot(df['Size'], kde=True, bins=30)\n",
        "plt.title(\"Distribution of Property Size\")\n",
        "plt.xlabel(\"Size (sq ft)\")\n",
        "plt.ylabel(\"Frequency\")\n",
        "plt.grid(True)\n",
        "plt.tight_layout()\n",
        "plt.show()"
      ],
      "metadata": {
        "colab": {
          "base_uri": "https://localhost:8080/",
          "height": 401
        },
        "id": "swNtJyqqEqqQ",
        "outputId": "7a445872-97d4-4056-8e67-23592e7c5a91"
      },
      "id": "swNtJyqqEqqQ",
      "execution_count": 93,
      "outputs": [
        {
          "output_type": "display_data",
          "data": {
            "text/plain": [
              "<Figure size 600x400 with 1 Axes>"
            ],
            "image/png": "[encoded data removed]"
          },
          "metadata": {}
        }
      ]
    },
    {
      "cell_type": "markdown",
      "source": [
        "The **Size** variable is also right-skewed. A majority of properties have relatively modest area values, with a few very large listings contributing to the heavy tail."
      ],
      "metadata": {
        "id": "VVaMauAHEu-l"
      },
      "id": "VVaMauAHEu-l"
    },
    {
      "cell_type": "markdown",
      "source": [
        "### Distribution of BHK\n",
        "\n",
        "Now I visualize the distribution of **BHK** (number of bedrooms) to explore its variability across the dataset."
      ],
      "metadata": {
        "id": "GRmfPpOwEzxa"
      },
      "id": "GRmfPpOwEzxa"
    },
    {
      "cell_type": "code",
      "source": [
        "plt.figure(figsize=(6, 4))\n",
        "sns.histplot(df['BHK'], bins=range(1, df['BHK'].max() + 2), discrete=True)\n",
        "plt.title(\"Distribution of Number of Bedrooms (BHK)\")\n",
        "plt.xlabel(\"BHK\")\n",
        "plt.ylabel(\"Frequency\")\n",
        "plt.grid(True)\n",
        "plt.tight_layout()\n",
        "plt.show()"
      ],
      "metadata": {
        "colab": {
          "base_uri": "https://localhost:8080/",
          "height": 401
        },
        "id": "q8btQwGeE1ks",
        "outputId": "879fceb4-6a13-41b6-c9fd-2004968f0450"
      },
      "id": "q8btQwGeE1ks",
      "execution_count": 94,
      "outputs": [
        {
          "output_type": "display_data",
          "data": {
            "text/plain": [
              "<Figure size 600x400 with 1 Axes>"
            ],
            "image/png": "[encoded data removed]"
          },
          "metadata": {}
        }
      ]
    },
    {
      "cell_type": "markdown",
      "source": [
        "The **BHK** feature is concentrated mostly between 1 and 4. A few listings have higher bedroom counts, but those are rare and may be worth investigating for anomalies."
      ],
      "metadata": {
        "id": "vU4dnhavE4r8"
      },
      "id": "vU4dnhavE4r8"
    },
    {
      "cell_type": "markdown",
      "source": [
        "### Distribution of Bathroom\n",
        "\n",
        "I also review the distribution of **Bathroom** counts to check for potential inconsistencies or extreme values."
      ],
      "metadata": {
        "id": "w9SZHxRcE7h7"
      },
      "id": "w9SZHxRcE7h7"
    },
    {
      "cell_type": "code",
      "source": [
        "plt.figure(figsize=(6, 4))\n",
        "sns.histplot(df['Bathroom'], bins=range(1, df['Bathroom'].max() + 2), discrete=True)\n",
        "plt.title(\"Distribution of Number of Bathrooms\")\n",
        "plt.xlabel(\"Bathroom\")\n",
        "plt.ylabel(\"Frequency\")\n",
        "plt.grid(True)\n",
        "plt.tight_layout()\n",
        "plt.show()"
      ],
      "metadata": {
        "colab": {
          "base_uri": "https://localhost:8080/",
          "height": 401
        },
        "id": "VfJ_5D0bE9xT",
        "outputId": "0e6188ba-02a0-4318-d3c8-7f0114542eaa"
      },
      "id": "VfJ_5D0bE9xT",
      "execution_count": 95,
      "outputs": [
        {
          "output_type": "display_data",
          "data": {
            "text/plain": [
              "<Figure size 600x400 with 1 Axes>"
            ],
            "image/png": "[encoded data removed]"
          },
          "metadata": {}
        }
      ]
    },
    {
      "cell_type": "markdown",
      "source": [
        "Most properties have 1 to 3 bathrooms. Listings with more than 4 bathrooms are extremely rare and may require closer inspection."
      ],
      "metadata": {
        "id": "UHEnwIKUFCiM"
      },
      "id": "UHEnwIKUFCiM"
    },
    {
      "cell_type": "markdown",
      "source": [
        "### Correlation Heatmap\n",
        "\n",
        "To investigate linear relationships among the key numerical features, I generate a correlation matrix. This helps identify potential multicollinearity and assess which predictors are most related to the target variable."
      ],
      "metadata": {
        "id": "NNByAAL1FG9D"
      },
      "id": "NNByAAL1FG9D"
    },
    {
      "cell_type": "code",
      "source": [
        "plt.figure(figsize=(8, 6))\n",
        "sns.heatmap(\n",
        "    df[['Rent', 'Size', 'BHK', 'Bathroom']].corr(),\n",
        "    annot=True,\n",
        "    cmap='coolwarm',\n",
        "    fmt=\".2f\",\n",
        "    square=True,\n",
        "    linewidths=0.5,\n",
        "    cbar_kws={\"shrink\": 0.8}\n",
        ")\n",
        "plt.title(\"Correlation Matrix of Numerical Features\")\n",
        "plt.tight_layout()\n",
        "plt.show()"
      ],
      "metadata": {
        "colab": {
          "base_uri": "https://localhost:8080/",
          "height": 601
        },
        "id": "yQpsLzZLFJHC",
        "outputId": "1466cae2-1752-479f-c9d2-a656fbfc2a15"
      },
      "id": "yQpsLzZLFJHC",
      "execution_count": 96,
      "outputs": [
        {
          "output_type": "display_data",
          "data": {
            "text/plain": [
              "<Figure size 800x600 with 2 Axes>"
            ],
            "image/png": "[encoded data removed]"
          },
          "metadata": {}
        }
      ]
    },
    {
      "cell_type": "markdown",
      "source": [
        "**Size** and **Bathroom** show the strongest positive correlation with **Rent**, suggesting they may be important predictors. **BHK** is moderately correlated, while correlation between predictors appears weak, minimizing multicollinearity risk."
      ],
      "metadata": {
        "id": "KqLYuAPPFOn0"
      },
      "id": "KqLYuAPPFOn0"
    },
    {
      "cell_type": "markdown",
      "source": [
        "## Categorical Feature Distribution\n",
        "\n",
        "At this stage, I examine the value distribution of two categorical features: `Area Type` and `Point of Contact`.\n",
        "\n",
        "This analysis helps to:\n",
        "\n",
        "- Identify rare categories that appear only a few times in the dataset.\n",
        "- Decide whether to remove them to reduce noise and improve model performance.\n"
      ],
      "metadata": {
        "id": "i9p4FhMuY-nQ"
      },
      "id": "i9p4FhMuY-nQ"
    },
    {
      "cell_type": "code",
      "execution_count": 97,
      "id": "e9740216",
      "metadata": {
        "colab": {
          "base_uri": "https://localhost:8080/"
        },
        "id": "e9740216",
        "outputId": "2400848e-2b59-4e7f-b685-7c2a01c326b7"
      },
      "outputs": [
        {
          "output_type": "stream",
          "name": "stdout",
          "text": [
            "Area Type distribution:\n",
            "Area Type\n",
            "Super Area     2446\n",
            "Carpet Area    2298\n",
            "Built Area        2\n",
            "Name: count, dtype: int64\n",
            "\n",
            "Point of Contact distribution:\n",
            "Point of Contact\n",
            "Contact Owner      3216\n",
            "Contact Agent      1529\n",
            "Contact Builder       1\n",
            "Name: count, dtype: int64\n"
          ]
        }
      ],
      "source": [
        "# Check value counts for categorical columns\n",
        "print(\"Area Type distribution:\")\n",
        "print(df['Area Type'].value_counts())\n",
        "print(\"\\nPoint of Contact distribution:\")\n",
        "print(df['Point of Contact'].value_counts())"
      ]
    },
    {
      "cell_type": "markdown",
      "id": "0e7f0d8a",
      "metadata": {
        "id": "0e7f0d8a"
      },
      "source": [
        "As I can see:\n",
        "- The `Built Area` category in the `Area Type` column appears only twice.\n",
        "- The `Contact Builder` category in the `Point of Contact` column appears only once.\n",
        "\n",
        "Since these categories represent a negligible portion of the data (< 0.1%), I will remove the corresponding rows to reduce noise and ensure cleaner model training."
      ]
    },
    {
      "cell_type": "code",
      "execution_count": 98,
      "id": "220ef600",
      "metadata": {
        "colab": {
          "base_uri": "https://localhost:8080/"
        },
        "id": "220ef600",
        "outputId": "8a6680d1-9d54-4763-ac42-6c3d21fc5f50"
      },
      "outputs": [
        {
          "output_type": "stream",
          "name": "stdout",
          "text": [
            "Remaining Area Type values:\n",
            "Area Type\n",
            "Super Area     2445\n",
            "Carpet Area    2298\n",
            "Name: count, dtype: int64\n",
            "\n",
            "Remaining Point of Contact values:\n",
            "Point of Contact\n",
            "Contact Owner    3214\n",
            "Contact Agent    1529\n",
            "Name: count, dtype: int64\n"
          ]
        }
      ],
      "source": [
        "# Remove rare categories from dataset\n",
        "df = df[df['Area Type'] != 'Built Area']\n",
        "df = df[df['Point of Contact'] != 'Contact Builder']\n",
        "\n",
        "# Confirm removal\n",
        "print(\"Remaining Area Type values:\")\n",
        "print(df['Area Type'].value_counts())\n",
        "print(\"\\nRemaining Point of Contact values:\")\n",
        "print(df['Point of Contact'].value_counts())"
      ]
    },
    {
      "cell_type": "markdown",
      "id": "d0237293",
      "metadata": {
        "id": "d0237293"
      },
      "source": [
        "Binary Encoding for Categorical Variables\n",
        "\n",
        "Since both `Area Type` and `Point of Contact` now contain exactly two unique values, I treat them as binary features and encode them as follows:\n",
        "\n",
        "- `Area Type`: `Super Area` → 1, `Carpet Area` → 0\n",
        "- `Point of Contact`: `Contact Owner` → 1, `Contact Agent` → 0\n",
        "\n",
        "This binary encoding simplifies model interpretation and is consistent with the project instructions."
      ]
    },
    {
      "cell_type": "code",
      "execution_count": 99,
      "id": "0b8261b4",
      "metadata": {
        "id": "0b8261b4"
      },
      "outputs": [],
      "source": [
        "# Convert binary categorical features to 0 and 1\n",
        "\n",
        "# Area Type: 'Super Area' = 1, 'Carpet Area' = 0\n",
        "df['Area Type'] = df['Area Type'].map({'Carpet Area': 0, 'Super Area': 1})\n",
        "\n",
        "# Point of Contact: 'Contact Owner' = 1, 'Contact Agent' = 0\n",
        "df['Point of Contact'] = df['Point of Contact'].map({'Contact Agent': 0, 'Contact Owner': 1})"
      ]
    },
    {
      "cell_type": "markdown",
      "id": "7abfabbf",
      "metadata": {
        "id": "7abfabbf"
      },
      "source": [
        "## Modeling"
      ]
    },
    {
      "cell_type": "markdown",
      "id": "5e1f7662",
      "metadata": {
        "id": "5e1f7662"
      },
      "source": [
        "### Feature Preparation\n",
        "\n",
        "To ensure a clean and consistent dataset before training regression models, I follow a structured preprocessing workflow:\n",
        "\n",
        "1. **Review data types** to confirm which features are numeric and which require encoding.\n",
        "2. **Parse and validate the `Floor` column**, extracting current and total floor values while removing malformed entries.\n",
        "3. **Remove irrelevant or non-predictive columns**, such as free-text data.\n",
        "4. **Encode categorical variables** using one-hot encoding.\n",
        "5. **Split the dataset** into the feature matrix `X` and target variable `y`.\n",
        "\n",
        "\n"
      ]
    },
    {
      "cell_type": "markdown",
      "source": [
        "### Inspecting Data Types\n",
        "\n",
        "Before encoding or modeling, I begin by inspecting column types and checking for any data quality issues:\n",
        "\n",
        "- I look for missing values in each column.\n",
        "- I verify the data type of each column.\n",
        "- I explore object-type columns to understand how many unique values they contain."
      ],
      "metadata": {
        "id": "SKI-jtCufQSv"
      },
      "id": "SKI-jtCufQSv"
    },
    {
      "cell_type": "code",
      "source": [
        "# Check for missing values\n",
        "print(\"Missing values per column:\")\n",
        "print(df.isnull().sum())"
      ],
      "metadata": {
        "colab": {
          "base_uri": "https://localhost:8080/"
        },
        "id": "l3aX28qifc7f",
        "outputId": "03e9eb53-d29f-442b-e4aa-6854b5da3f0b"
      },
      "id": "l3aX28qifc7f",
      "execution_count": 100,
      "outputs": [
        {
          "output_type": "stream",
          "name": "stdout",
          "text": [
            "Missing values per column:\n",
            "Posted On            0\n",
            "BHK                  0\n",
            "Rent                 0\n",
            "Size                 0\n",
            "Floor                0\n",
            "Area Type            0\n",
            "Area Locality        0\n",
            "City                 0\n",
            "Furnishing Status    0\n",
            "Tenant Preferred     0\n",
            "Bathroom             0\n",
            "Point of Contact     0\n",
            "dtype: int64\n"
          ]
        }
      ]
    },
    {
      "cell_type": "code",
      "source": [
        "# Display data types of each column\n",
        "print(\"Data types of each column:\")\n",
        "print(df.dtypes)"
      ],
      "metadata": {
        "colab": {
          "base_uri": "https://localhost:8080/"
        },
        "id": "wNpDXDAFfnMw",
        "outputId": "58e3445c-23d4-4c3d-a74f-bc62ae81893c"
      },
      "id": "wNpDXDAFfnMw",
      "execution_count": 101,
      "outputs": [
        {
          "output_type": "stream",
          "name": "stdout",
          "text": [
            "Data types of each column:\n",
            "Posted On            object\n",
            "BHK                   int64\n",
            "Rent                  int64\n",
            "Size                  int64\n",
            "Floor                object\n",
            "Area Type             int64\n",
            "Area Locality        object\n",
            "City                 object\n",
            "Furnishing Status    object\n",
            "Tenant Preferred     object\n",
            "Bathroom              int64\n",
            "Point of Contact      int64\n",
            "dtype: object\n"
          ]
        }
      ]
    },
    {
      "cell_type": "code",
      "source": [
        "# Display number of unique values in object-type columns\n",
        "object_cols = df.select_dtypes(include='object').columns\n",
        "print(\"Object-type columns and number of unique values:\")\n",
        "for col in object_cols:\n",
        "    print(f\"{col}: {df[col].nunique()} unique values\")"
      ],
      "metadata": {
        "colab": {
          "base_uri": "https://localhost:8080/"
        },
        "id": "BXmiBYVofqZ_",
        "outputId": "33183758-6e76-4777-f0fa-08162600f698"
      },
      "id": "BXmiBYVofqZ_",
      "execution_count": 102,
      "outputs": [
        {
          "output_type": "stream",
          "name": "stdout",
          "text": [
            "Object-type columns and number of unique values:\n",
            "Posted On: 81 unique values\n",
            "Floor: 480 unique values\n",
            "Area Locality: 2234 unique values\n",
            "City: 6 unique values\n",
            "Furnishing Status: 3 unique values\n",
            "Tenant Preferred: 3 unique values\n"
          ]
        }
      ]
    },
    {
      "cell_type": "markdown",
      "id": "d8655773",
      "metadata": {
        "id": "d8655773"
      },
      "source": [
        "### Observations on Object-Type Columns\n",
        "\n",
        "Dropping Irrelevant or Problematic Columns\n",
        "\n",
        "After reviewing the dataset, I identified two columns that should be removed:\n",
        "\n",
        "- `Area Locality`: A high-cardinality categorical feature with over 2200 unique values. Encoding this would lead to dimensionality explosion and likely harm model performance.\n",
        "- `Posted On`: A raw date string that is not used in feature extraction. It offers no predictive value in its current format and could interfere with model training.\n",
        "\n",
        "I drop both columns to ensure the dataset is clean, compact, and ready for encoding."
      ]
    },
    {
      "cell_type": "code",
      "execution_count": 103,
      "id": "372e5d43",
      "metadata": {
        "colab": {
          "base_uri": "https://localhost:8080/"
        },
        "id": "372e5d43",
        "outputId": "d5de45fd-dff1-4755-e976-b45f522d998a"
      },
      "outputs": [
        {
          "output_type": "stream",
          "name": "stdout",
          "text": [
            "Remaining columns: ['BHK', 'Rent', 'Size', 'Floor', 'Area Type', 'City', 'Furnishing Status', 'Tenant Preferred', 'Bathroom', 'Point of Contact']\n"
          ]
        }
      ],
      "source": [
        "# Drop high-cardinality and irrelevant string columns\n",
        "df = df.drop(columns=['Area Locality', 'Posted On'])\n",
        "\n",
        "# Confirm remaining columns\n",
        "print(\"Remaining columns:\", df.columns.tolist())"
      ]
    },
    {
      "cell_type": "markdown",
      "source": [
        "After removing high-cardinality and irrelevant columns, the dataset is now reduced to only informative and manageable features. I will continue with validation and transformation of key columns (e.g., Floor)."
      ],
      "metadata": {
        "id": "Ja0cmpsTj01u"
      },
      "id": "Ja0cmpsTj01u"
    },
    {
      "cell_type": "markdown",
      "source": [
        "### Inspecting Unique Values in the `Floor` Column\n",
        "\n",
        "To validate and clean the `Floor` column, I start by extracting all unique entries. Since this column contains mixed-format string values, I need to identify and isolate suspicious or inconsistent records.\n",
        "\n",
        "Strategy:\n",
        "- I will filter out values that match the valid pattern `\"X out of Y\"` where `X ≤ Y`, e.g., `\"3 out of 10\"`.\n",
        "- All other entries will be considered potentially anomalous and printed for manual review.\n",
        "- This step helps ensure that subsequent parsing and cleaning only operates on well-formed and meaningful values."
      ],
      "metadata": {
        "id": "IKMuXuxmy12L"
      },
      "id": "IKMuXuxmy12L"
    },
    {
      "cell_type": "code",
      "source": [
        "# Get all unique values from the 'Floor' column\n",
        "unique_floors = df['Floor'].unique()\n",
        "\n",
        "# Define a function to detect valid \"X out of Y\" formats with X ≤ Y\n",
        "def is_valid_floor(value):\n",
        "    match = re.fullmatch(r'(\\d+)\\s+out\\s+of\\s+(\\d+)', str(value))\n",
        "    if match:\n",
        "        current, total = map(int, match.groups())\n",
        "        return 1 <= current <= total\n",
        "    return False\n",
        "\n",
        "# Filter out valid values, keep only suspicious ones\n",
        "suspicious_values = sorted([val for val in unique_floors if not is_valid_floor(val)])\n",
        "\n",
        "# Print each suspicious value on a separate line\n",
        "print(\"Suspicious unique values in 'Floor' column:\\n\")\n",
        "for val in suspicious_values:\n",
        "    print(f\"- {val}\")"
      ],
      "metadata": {
        "colab": {
          "base_uri": "https://localhost:8080/"
        },
        "id": "TzUreTA4n-oJ",
        "outputId": "1f03be31-bdfa-48c9-80b5-97d6c83fe90d"
      },
      "id": "TzUreTA4n-oJ",
      "execution_count": 104,
      "outputs": [
        {
          "output_type": "stream",
          "name": "stdout",
          "text": [
            "Suspicious unique values in 'Floor' column:\n",
            "\n",
            "- 1\n",
            "- 2 out of 1\n",
            "- 3\n",
            "- 8 out of 5\n",
            "- Ground\n",
            "- Ground out of 1\n",
            "- Ground out of 10\n",
            "- Ground out of 12\n",
            "- Ground out of 13\n",
            "- Ground out of 14\n",
            "- Ground out of 15\n",
            "- Ground out of 16\n",
            "- Ground out of 18\n",
            "- Ground out of 2\n",
            "- Ground out of 27\n",
            "- Ground out of 3\n",
            "- Ground out of 4\n",
            "- Ground out of 5\n",
            "- Ground out of 6\n",
            "- Ground out of 7\n",
            "- Ground out of 8\n",
            "- Ground out of 9\n",
            "- Lower Basement out of 1\n",
            "- Lower Basement out of 18\n",
            "- Lower Basement out of 2\n",
            "- Lower Basement out of 3\n",
            "- Upper Basement out of 10\n",
            "- Upper Basement out of 16\n",
            "- Upper Basement out of 2\n",
            "- Upper Basement out of 20\n",
            "- Upper Basement out of 22\n",
            "- Upper Basement out of 3\n",
            "- Upper Basement out of 30\n",
            "- Upper Basement out of 4\n",
            "- Upper Basement out of 40\n",
            "- Upper Basement out of 5\n",
            "- Upper Basement out of 7\n",
            "- Upper Basement out of 9\n"
          ]
        }
      ]
    },
    {
      "cell_type": "markdown",
      "source": [
        "### Reviewing Suspicious Floor Values\n",
        "\n",
        "After printing all suspicious unique values in the `Floor` column, I manually inspected the list for inconsistencies.\n",
        "\n",
        "Observations:\n",
        "- Entries such as `'Ground out of 1'`, `'Ground out of 2'`, etc., are logically acceptable since `'Ground'` typically represents the 0th floor.\n",
        "- However, other entries such as `'Upper Basement out of 4'`, `'Lower Basement out of 18'`, and malformed or partial entries like `'Ground'`, `'3'`, or `'2 out of 1'` appear inconsistent or ambiguous.\n",
        "- These anomalies may introduce noise and reduce model quality.\n",
        "\n",
        "Thus, I will now quantify these anomalies before deciding whether to remove them."
      ],
      "metadata": {
        "id": "ysVj5KF5yIR5"
      },
      "id": "ysVj5KF5yIR5"
    },
    {
      "cell_type": "markdown",
      "id": "c7549fbf",
      "metadata": {
        "id": "c7549fbf"
      },
      "source": [
        "### Identifying Anomalous Floor Entries\n",
        "\n",
        "Now I define rules to automatically identify anomalous entries in the `Floor` column.  \n",
        "The anomalies include:\n",
        "- Entries with only `\"Ground\"` or a single number (missing \"out of\" part)\n",
        "- Basement-related values (`\"Upper Basement\"`, `\"Lower Basement\"`)\n",
        "- Invalid combinations like `\"2 out of 1\"` where the numerator exceeds the denominator\n",
        "\n",
        "These conditions help ensure data consistency by detecting and quantifying problematic rows."
      ]
    },
    {
      "cell_type": "code",
      "execution_count": 105,
      "id": "ac62227f",
      "metadata": {
        "colab": {
          "base_uri": "https://localhost:8080/"
        },
        "id": "ac62227f",
        "outputId": "ab1b1ed8-c3f3-4490-84f6-3b52a403a52a"
      },
      "outputs": [
        {
          "output_type": "stream",
          "name": "stdout",
          "text": [
            "Anomalous Floor entries: 40 rows (0.84%)\n"
          ]
        }
      ],
      "source": [
        "# Define anomaly masks\n",
        "mask_basement = df['Floor'].str.contains('Upper Basement|Lower Basement', na=False)\n",
        "mask_ground_alone = df['Floor'].str.fullmatch(r'Ground', na=False)\n",
        "mask_single_digit = df['Floor'].str.fullmatch(r'\\d+', na=False)\n",
        "\n",
        "valid_floors = df['Floor'].str.extract(r'(\\d+|Ground)\\s*out\\s*of\\s*(\\d+)', expand=True)\n",
        "mask_invalid_relation = valid_floors.apply(\n",
        "    lambda row: (\n",
        "        pd.notnull(row[0]) and pd.notnull(row[1]) and\n",
        "        row[0] != 'Ground' and int(row[0]) > int(row[1])\n",
        "    ), axis=1\n",
        ")\n",
        "\n",
        "# Combine all anomaly masks\n",
        "mask_anomalies = (\n",
        "    mask_basement | mask_ground_alone | mask_single_digit | mask_invalid_relation\n",
        ")\n",
        "\n",
        "# Count anomalies\n",
        "anomalies_count = mask_anomalies.sum()\n",
        "total_rows = len(df)\n",
        "anomalies_pct = anomalies_count / total_rows * 100\n",
        "\n",
        "print(f\"Anomalous Floor entries: {anomalies_count} rows ({anomalies_pct:.2f}%)\")"
      ]
    },
    {
      "cell_type": "markdown",
      "id": "ae22d20d",
      "metadata": {
        "id": "ae22d20d"
      },
      "source": [
        "### Removing Anomalous Floor Entries\n",
        "\n",
        "Since anomalous floor entries account for less than 1% of the dataset, I choose to remove them.  \n",
        "This step improves numeric consistency and prevents parsing issues during feature engineering."
      ]
    },
    {
      "cell_type": "code",
      "source": [
        "# Remove anomalous rows\n",
        "df = df[~mask_anomalies].reset_index(drop=True)"
      ],
      "metadata": {
        "id": "Fc33MJ2wd091"
      },
      "id": "Fc33MJ2wd091",
      "execution_count": 106,
      "outputs": []
    },
    {
      "cell_type": "markdown",
      "source": [
        "### Parsing Floor Values into Numerical Columns\n",
        "\n",
        "I now extract numeric values from the cleaned `Floor` column and split them into two new features:\n",
        "- `Current Floor`: The floor number\n",
        "- `Total Floors`: The total number of floors in the building\n",
        "\n",
        "Entries like `\"Ground\"` are mapped to 0. The original `Floor` column is dropped afterward."
      ],
      "metadata": {
        "id": "VpQP6PPsBlrG"
      },
      "id": "VpQP6PPsBlrG"
    },
    {
      "cell_type": "code",
      "execution_count": 107,
      "id": "b12fdd81",
      "metadata": {
        "id": "b12fdd81"
      },
      "outputs": [],
      "source": [
        "# Parse valid floor values\n",
        "df[['Current Floor', 'Total Floors']] = df['Floor'].str.extract(\n",
        "    r'(Ground|\\d+)\\s*out\\s*of\\s*(\\d+)', expand=True\n",
        ")\n",
        "df['Current Floor'] = df['Current Floor'].replace('Ground', 0).astype(int)\n",
        "df['Total Floors'] = df['Total Floors'].astype(int)\n",
        "\n",
        "# Drop original column\n",
        "df = df.drop(columns=['Floor'])"
      ]
    },
    {
      "cell_type": "markdown",
      "id": "11751e30",
      "metadata": {
        "id": "11751e30"
      },
      "source": [
        "### Encoding Categorical Variables and Splitting the Dataset\n",
        "\n",
        "To prepare the dataset for regression modeling, I converted categorical features into numerical format using one-hot encoding. This allows the regression models to process all variables correctly.\n",
        "\n",
        "I applied one-hot encoding to the following features:\n",
        "- `City`\n",
        "- `Furnishing Status`\n",
        "- `Tenant Preferred`\n",
        "- `Point of Contact`\n",
        "- `Area Type`\n",
        "\n",
        "After encoding, I split the dataset into:\n",
        "- `X`: the feature matrix (all columns except `Rent`)\n",
        "- `y`: the target variable (`Rent`)\n",
        "\n",
        "Finally, I confirmed that the dimensions of `X` and `y` match to avoid runtime issues later."
      ]
    },
    {
      "cell_type": "code",
      "execution_count": 108,
      "id": "e16aaa72",
      "metadata": {
        "colab": {
          "base_uri": "https://localhost:8080/"
        },
        "id": "e16aaa72",
        "outputId": "9616a369-8c46-48ba-c9c9-fb0cd1885ecc"
      },
      "outputs": [
        {
          "output_type": "stream",
          "name": "stdout",
          "text": [
            "Feature matrix shape: (4703, 16)\n",
            "Target vector shape: (4703,)\n"
          ]
        }
      ],
      "source": [
        "# Define columns for one-hot encoding\n",
        "categorical_cols = ['City', 'Furnishing Status', 'Tenant Preferred', 'Point of Contact', 'Area Type']\n",
        "\n",
        "# Apply one-hot encoding\n",
        "df_encoded = pd.get_dummies(df, columns=categorical_cols, drop_first=True)\n",
        "\n",
        "# Split into features and target\n",
        "X = df_encoded.drop(columns=['Rent'])\n",
        "y = df_encoded['Rent']\n",
        "\n",
        "# Display dimensions for verification\n",
        "print(f\"Feature matrix shape: {X.shape}\")\n",
        "print(f\"Target vector shape: {y.shape}\")"
      ]
    },
    {
      "cell_type": "markdown",
      "source": [
        "*After encoding, the dataset includes 16 numeric features across 4703 rows. This confirms that the categorical variables were successfully transformed and the dataset is ready for modeling.*"
      ],
      "metadata": {
        "id": "hlMRWBWi3eTK"
      },
      "id": "hlMRWBWi3eTK"
    },
    {
      "cell_type": "markdown",
      "metadata": {
        "id": "NQezsPmhvGCa"
      },
      "source": [
        "### Multicollinearity Check (VIF)\n",
        "\n",
        "Before finalizing the model, I assess multicollinearity among numeric features using the **Variance Inflation Factor (VIF)**.  \n",
        "Multicollinearity can distort regression coefficients and reduce model interpretability.\n",
        "\n",
        "In this step, I will:\n",
        "- Select numeric features only (excluding one-hot encoded dummies).\n",
        "- Add a constant term for intercept.\n",
        "- Calculate VIF for each feature.\n",
        "- Identify and review any feature with VIF > 10."
      ],
      "id": "NQezsPmhvGCa"
    },
    {
      "cell_type": "code",
      "execution_count": 109,
      "metadata": {
        "colab": {
          "base_uri": "https://localhost:8080/",
          "height": 235
        },
        "outputId": "64e0a6bc-1362-44f5-e655-404dd5e75f75",
        "id": "JJx6o1vQvLWL"
      },
      "outputs": [
        {
          "output_type": "display_data",
          "data": {
            "text/plain": [
              "         Feature  VIF\n",
              "0          const 7.79\n",
              "1            BHK 3.02\n",
              "2           Size 2.50\n",
              "3       Bathroom 3.55\n",
              "4  Current Floor 4.10\n",
              "5   Total Floors 4.20"
            ],
            "text/html": [
              "\n",
              "  <div id=\"df-a2bc3eb2-d6b3-4087-8353-8383ea5ad742\" class=\"colab-df-container\">\n",
              "    <div>\n",
              "<style scoped>\n",
              "    .dataframe tbody tr th:only-of-type {\n",
              "        vertical-align: middle;\n",
              "    }\n",
              "\n",
              "    .dataframe tbody tr th {\n",
              "        vertical-align: top;\n",
              "    }\n",
              "\n",
              "    .dataframe thead th {\n",
              "        text-align: right;\n",
              "    }\n",
              "</style>\n",
              "<table border=\"1\" class=\"dataframe\">\n",
              "  <thead>\n",
              "    <tr style=\"text-align: right;\">\n",
              "      <th></th>\n",
              "      <th>Feature</th>\n",
              "      <th>VIF</th>\n",
              "    </tr>\n",
              "  </thead>\n",
              "  <tbody>\n",
              "    <tr>\n",
              "      <th>0</th>\n",
              "      <td>const</td>\n",
              "      <td>7.79</td>\n",
              "    </tr>\n",
              "    <tr>\n",
              "      <th>1</th>\n",
              "      <td>BHK</td>\n",
              "      <td>3.02</td>\n",
              "    </tr>\n",
              "    <tr>\n",
              "      <th>2</th>\n",
              "      <td>Size</td>\n",
              "      <td>2.50</td>\n",
              "    </tr>\n",
              "    <tr>\n",
              "      <th>3</th>\n",
              "      <td>Bathroom</td>\n",
              "      <td>3.55</td>\n",
              "    </tr>\n",
              "    <tr>\n",
              "      <th>4</th>\n",
              "      <td>Current Floor</td>\n",
              "      <td>4.10</td>\n",
              "    </tr>\n",
              "    <tr>\n",
              "      <th>5</th>\n",
              "      <td>Total Floors</td>\n",
              "      <td>4.20</td>\n",
              "    </tr>\n",
              "  </tbody>\n",
              "</table>\n",
              "</div>\n",
              "    <div class=\"colab-df-buttons\">\n",
              "\n",
              "  <div class=\"colab-df-container\">\n",
              "    <button class=\"colab-df-convert\" onclick=\"convertToInteractive('df-a2bc3eb2-d6b3-4087-8353-8383ea5ad742')\"\n",
              "            title=\"Convert this dataframe to an interactive table.\"\n",
              "            style=\"display:none;\">\n",
              "\n",
              "  <svg xmlns=\"http://www.w3.org/2000/svg\" height=\"24px\" viewBox=\"0 -960 960 960\">\n",
              "    <path d=\"M120-120v-720h720v720H120Zm60-500h600v-160H180v160Zm220 220h160v-160H400v160Zm0 220h160v-160H400v160ZM180-400h160v-160H180v160Zm440 0h160v-160H620v160ZM180-180h160v-160H180v160Zm440 0h160v-160H620v160Z\"/>\n",
              "  </svg>\n",
              "    </button>\n",
              "\n",
              "  <style>\n",
              "    .colab-df-container {\n",
              "      display:flex;\n",
              "      gap: 12px;\n",
              "    }\n",
              "\n",
              "    .colab-df-convert {\n",
              "      background-color: #E8F0FE;\n",
              "      border: none;\n",
              "      border-radius: 50%;\n",
              "      cursor: pointer;\n",
              "      display: none;\n",
              "      fill: #1967D2;\n",
              "      height: 32px;\n",
              "      padding: 0 0 0 0;\n",
              "      width: 32px;\n",
              "    }\n",
              "\n",
              "    .colab-df-convert:hover {\n",
              "      background-color: #E2EBFA;\n",
              "      box-shadow: 0px 1px 2px rgba(60, 64, 67, 0.3), 0px 1px 3px 1px rgba(60, 64, 67, 0.15);\n",
              "      fill: #174EA6;\n",
              "    }\n",
              "\n",
              "    .colab-df-buttons div {\n",
              "      margin-bottom: 4px;\n",
              "    }\n",
              "\n",
              "    [theme=dark] .colab-df-convert {\n",
              "      background-color: #3B4455;\n",
              "      fill: #D2E3FC;\n",
              "    }\n",
              "\n",
              "    [theme=dark] .colab-df-convert:hover {\n",
              "      background-color: #434B5C;\n",
              "      box-shadow: 0px 1px 3px 1px rgba(0, 0, 0, 0.15);\n",
              "      filter: drop-shadow(0px 1px 2px rgba(0, 0, 0, 0.3));\n",
              "      fill: #FFFFFF;\n",
              "    }\n",
              "  </style>\n",
              "\n",
              "    <script>\n",
              "      const buttonEl =\n",
              "        document.querySelector('#df-a2bc3eb2-d6b3-4087-8353-8383ea5ad742 button.colab-df-convert');\n",
              "      buttonEl.style.display =\n",
              "        google.colab.kernel.accessAllowed ? 'block' : 'none';\n",
              "\n",
              "      async function convertToInteractive(key) {\n",
              "        const element = document.querySelector('#df-a2bc3eb2-d6b3-4087-8353-8383ea5ad742');\n",
              "        const dataTable =\n",
              "          await google.colab.kernel.invokeFunction('convertToInteractive',\n",
              "                                                    [key], {});\n",
              "        if (!dataTable) return;\n",
              "\n",
              "        const docLinkHtml = 'Like what you see? Visit the ' +\n",
              "          '<a target=\"_blank\" href=https://colab.research.google.com/notebooks/data_table.ipynb>data table notebook</a>'\n",
              "          + ' to learn more about interactive tables.';\n",
              "        element.innerHTML = '';\n",
              "        dataTable['output_type'] = 'display_data';\n",
              "        await google.colab.output.renderOutput(dataTable, element);\n",
              "        const docLink = document.createElement('div');\n",
              "        docLink.innerHTML = docLinkHtml;\n",
              "        element.appendChild(docLink);\n",
              "      }\n",
              "    </script>\n",
              "  </div>\n",
              "\n",
              "\n",
              "    <div id=\"df-fd390810-4e4f-446c-b32c-c4382e60aed4\">\n",
              "      <button class=\"colab-df-quickchart\" onclick=\"quickchart('df-fd390810-4e4f-446c-b32c-c4382e60aed4')\"\n",
              "                title=\"Suggest charts\"\n",
              "                style=\"display:none;\">\n",
              "\n",
              "<svg xmlns=\"http://www.w3.org/2000/svg\" height=\"24px\"viewBox=\"0 0 24 24\"\n",
              "     width=\"24px\">\n",
              "    <g>\n",
              "        <path d=\"M19 3H5c-1.1 0-2 .9-2 2v14c0 1.1.9 2 2 2h14c1.1 0 2-.9 2-2V5c0-1.1-.9-2-2-2zM9 17H7v-7h2v7zm4 0h-2V7h2v10zm4 0h-2v-4h2v4z\"/>\n",
              "    </g>\n",
              "</svg>\n",
              "      </button>\n",
              "\n",
              "<style>\n",
              "  .colab-df-quickchart {\n",
              "      --bg-color: #E8F0FE;\n",
              "      --fill-color: #1967D2;\n",
              "      --hover-bg-color: #E2EBFA;\n",
              "      --hover-fill-color: #174EA6;\n",
              "      --disabled-fill-color: #AAA;\n",
              "      --disabled-bg-color: #DDD;\n",
              "  }\n",
              "\n",
              "  [theme=dark] .colab-df-quickchart {\n",
              "      --bg-color: #3B4455;\n",
              "      --fill-color: #D2E3FC;\n",
              "      --hover-bg-color: #434B5C;\n",
              "      --hover-fill-color: #FFFFFF;\n",
              "      --disabled-bg-color: #3B4455;\n",
              "      --disabled-fill-color: #666;\n",
              "  }\n",
              "\n",
              "  .colab-df-quickchart {\n",
              "    background-color: var(--bg-color);\n",
              "    border: none;\n",
              "    border-radius: 50%;\n",
              "    cursor: pointer;\n",
              "    display: none;\n",
              "    fill: var(--fill-color);\n",
              "    height: 32px;\n",
              "    padding: 0;\n",
              "    width: 32px;\n",
              "  }\n",
              "\n",
              "  .colab-df-quickchart:hover {\n",
              "    background-color: var(--hover-bg-color);\n",
              "    box-shadow: 0 1px 2px rgba(60, 64, 67, 0.3), 0 1px 3px 1px rgba(60, 64, 67, 0.15);\n",
              "    fill: var(--button-hover-fill-color);\n",
              "  }\n",
              "\n",
              "  .colab-df-quickchart-complete:disabled,\n",
              "  .colab-df-quickchart-complete:disabled:hover {\n",
              "    background-color: var(--disabled-bg-color);\n",
              "    fill: var(--disabled-fill-color);\n",
              "    box-shadow: none;\n",
              "  }\n",
              "\n",
              "  .colab-df-spinner {\n",
              "    border: 2px solid var(--fill-color);\n",
              "    border-color: transparent;\n",
              "    border-bottom-color: var(--fill-color);\n",
              "    animation:\n",
              "      spin 1s steps(1) infinite;\n",
              "  }\n",
              "\n",
              "  @keyframes spin {\n",
              "    0% {\n",
              "      border-color: transparent;\n",
              "      border-bottom-color: var(--fill-color);\n",
              "      border-left-color: var(--fill-color);\n",
              "    }\n",
              "    20% {\n",
              "      border-color: transparent;\n",
              "      border-left-color: var(--fill-color);\n",
              "      border-top-color: var(--fill-color);\n",
              "    }\n",
              "    30% {\n",
              "      border-color: transparent;\n",
              "      border-left-color: var(--fill-color);\n",
              "      border-top-color: var(--fill-color);\n",
              "      border-right-color: var(--fill-color);\n",
              "    }\n",
              "    40% {\n",
              "      border-color: transparent;\n",
              "      border-right-color: var(--fill-color);\n",
              "      border-top-color: var(--fill-color);\n",
              "    }\n",
              "    60% {\n",
              "      border-color: transparent;\n",
              "      border-right-color: var(--fill-color);\n",
              "    }\n",
              "    80% {\n",
              "      border-color: transparent;\n",
              "      border-right-color: var(--fill-color);\n",
              "      border-bottom-color: var(--fill-color);\n",
              "    }\n",
              "    90% {\n",
              "      border-color: transparent;\n",
              "      border-bottom-color: var(--fill-color);\n",
              "    }\n",
              "  }\n",
              "</style>\n",
              "\n",
              "      <script>\n",
              "        async function quickchart(key) {\n",
              "          const quickchartButtonEl =\n",
              "            document.querySelector('#' + key + ' button');\n",
              "          quickchartButtonEl.disabled = true;  // To prevent multiple clicks.\n",
              "          quickchartButtonEl.classList.add('colab-df-spinner');\n",
              "          try {\n",
              "            const charts = await google.colab.kernel.invokeFunction(\n",
              "                'suggestCharts', [key], {});\n",
              "          } catch (error) {\n",
              "            console.error('Error during call to suggestCharts:', error);\n",
              "          }\n",
              "          quickchartButtonEl.classList.remove('colab-df-spinner');\n",
              "          quickchartButtonEl.classList.add('colab-df-quickchart-complete');\n",
              "        }\n",
              "        (() => {\n",
              "          let quickchartButtonEl =\n",
              "            document.querySelector('#df-fd390810-4e4f-446c-b32c-c4382e60aed4 button');\n",
              "          quickchartButtonEl.style.display =\n",
              "            google.colab.kernel.accessAllowed ? 'block' : 'none';\n",
              "        })();\n",
              "      </script>\n",
              "    </div>\n",
              "\n",
              "  <div id=\"id_e8a09f14-ac86-4184-9721-dd347d89d407\">\n",
              "    <style>\n",
              "      .colab-df-generate {\n",
              "        background-color: #E8F0FE;\n",
              "        border: none;\n",
              "        border-radius: 50%;\n",
              "        cursor: pointer;\n",
              "        display: none;\n",
              "        fill: #1967D2;\n",
              "        height: 32px;\n",
              "        padding: 0 0 0 0;\n",
              "        width: 32px;\n",
              "      }\n",
              "\n",
              "      .colab-df-generate:hover {\n",
              "        background-color: #E2EBFA;\n",
              "        box-shadow: 0px 1px 2px rgba(60, 64, 67, 0.3), 0px 1px 3px 1px rgba(60, 64, 67, 0.15);\n",
              "        fill: #174EA6;\n",
              "      }\n",
              "\n",
              "      [theme=dark] .colab-df-generate {\n",
              "        background-color: #3B4455;\n",
              "        fill: #D2E3FC;\n",
              "      }\n",
              "\n",
              "      [theme=dark] .colab-df-generate:hover {\n",
              "        background-color: #434B5C;\n",
              "        box-shadow: 0px 1px 3px 1px rgba(0, 0, 0, 0.15);\n",
              "        filter: drop-shadow(0px 1px 2px rgba(0, 0, 0, 0.3));\n",
              "        fill: #FFFFFF;\n",
              "      }\n",
              "    </style>\n",
              "    <button class=\"colab-df-generate\" onclick=\"generateWithVariable('vif_data')\"\n",
              "            title=\"Generate code using this dataframe.\"\n",
              "            style=\"display:none;\">\n",
              "\n",
              "  <svg xmlns=\"http://www.w3.org/2000/svg\" height=\"24px\"viewBox=\"0 0 24 24\"\n",
              "       width=\"24px\">\n",
              "    <path d=\"M7,19H8.4L18.45,9,17,7.55,7,17.6ZM5,21V16.75L18.45,3.32a2,2,0,0,1,2.83,0l1.4,1.43a1.91,1.91,0,0,1,.58,1.4,1.91,1.91,0,0,1-.58,1.4L9.25,21ZM18.45,9,17,7.55Zm-12,3A5.31,5.31,0,0,0,4.9,8.1,5.31,5.31,0,0,0,1,6.5,5.31,5.31,0,0,0,4.9,4.9,5.31,5.31,0,0,0,6.5,1,5.31,5.31,0,0,0,8.1,4.9,5.31,5.31,0,0,0,12,6.5,5.46,5.46,0,0,0,6.5,12Z\"/>\n",
              "  </svg>\n",
              "    </button>\n",
              "    <script>\n",
              "      (() => {\n",
              "      const buttonEl =\n",
              "        document.querySelector('#id_e8a09f14-ac86-4184-9721-dd347d89d407 button.colab-df-generate');\n",
              "      buttonEl.style.display =\n",
              "        google.colab.kernel.accessAllowed ? 'block' : 'none';\n",
              "\n",
              "      buttonEl.onclick = () => {\n",
              "        google.colab.notebook.generateWithVariable('vif_data');\n",
              "      }\n",
              "      })();\n",
              "    </script>\n",
              "  </div>\n",
              "\n",
              "    </div>\n",
              "  </div>\n"
            ],
            "application/vnd.google.colaboratory.intrinsic+json": {
              "type": "dataframe",
              "variable_name": "vif_data",
              "summary": "{\n  \"name\": \"vif_data\",\n  \"rows\": 6,\n  \"fields\": [\n    {\n      \"column\": \"Feature\",\n      \"properties\": {\n        \"dtype\": \"string\",\n        \"num_unique_values\": 6,\n        \"samples\": [\n          \"const\",\n          \"BHK\",\n          \"Total Floors\"\n        ],\n        \"semantic_type\": \"\",\n        \"description\": \"\"\n      }\n    },\n    {\n      \"column\": \"VIF\",\n      \"properties\": {\n        \"dtype\": \"number\",\n        \"std\": 1.8770466043554985,\n        \"min\": 2.4951324500180148,\n        \"max\": 7.791345904342229,\n        \"num_unique_values\": 6,\n        \"samples\": [\n          7.791345904342229,\n          3.0229152900195384,\n          4.199461235094967\n        ],\n        \"semantic_type\": \"\",\n        \"description\": \"\"\n      }\n    }\n  ]\n}"
            }
          },
          "metadata": {}
        }
      ],
      "source": [
        "# Select only numeric features (after one-hot encoding categorical variables)\n",
        "X_numeric = X.select_dtypes(include=[np.number])\n",
        "\n",
        "# Add constant for intercept\n",
        "X_with_const = add_constant(X_numeric)\n",
        "\n",
        "# Calculate VIF for each feature\n",
        "vif_data = pd.DataFrame()\n",
        "vif_data[\"Feature\"] = X_with_const.columns\n",
        "vif_data[\"VIF\"] = [variance_inflation_factor(X_with_const.values, i) for i in range(X_with_const.shape[1])]\n",
        "\n",
        "# Display VIF table\n",
        "from IPython.display import display\n",
        "display(vif_data)"
      ],
      "id": "JJx6o1vQvLWL"
    },
    {
      "cell_type": "markdown",
      "source": [
        "### VIF Results and Interpretation\n",
        "\n",
        "None of the features exhibit critical multicollinearity — all VIF scores are well below the common threshold of 10.  \n",
        "This indicates that the numeric features are sufficiently independent, and no removal or transformation is required at this stage.\n",
        "\n",
        "I will retain all numeric variables for modeling."
      ],
      "metadata": {
        "id": "n8HB9Q9ZvTZR"
      },
      "id": "n8HB9Q9ZvTZR"
    },
    {
      "cell_type": "markdown",
      "id": "70ade82e",
      "metadata": {
        "id": "70ade82e"
      },
      "source": [
        "### Linear Regression Model\n",
        "\n",
        "Now I begin the modeling phase by training a basic Linear Regression model.  \n",
        "This serves as a baseline to compare with more advanced models later.\n",
        "\n",
        "In this step:\n",
        "\n",
        "- I initialize and train a **Linear Regression** model using the encoded dataset.\n",
        "- I evaluate its performance using 5-fold cross-validation.\n",
        "- I calculate three key metrics:\n",
        "  - **Mean Absolute Error (MAE)**\n",
        "  - **Root Mean Squared Error (RMSE)**\n",
        "  - **Coefficient of Determination (R²)**\n",
        "\n",
        "These metrics will help me understand how well the model captures rental price trends."
      ]
    },
    {
      "cell_type": "code",
      "execution_count": 110,
      "id": "56f883ab",
      "metadata": {
        "colab": {
          "base_uri": "https://localhost:8080/"
        },
        "id": "56f883ab",
        "outputId": "cbc0d5f2-c540-49a9-d9a9-95ad8751ba73"
      },
      "outputs": [
        {
          "output_type": "stream",
          "name": "stdout",
          "text": [
            "Linear Regression Performance (5-fold CV):\n",
            "Mean Absolute Error (MAE): 24,898.80\n",
            "Root Mean Squared Error (RMSE): 55,385.26\n",
            "R² Score: -0.0050\n"
          ]
        }
      ],
      "source": [
        "# Initialize model\n",
        "lin_reg = LinearRegression()\n",
        "\n",
        "# Define scoring metrics\n",
        "mae_scorer = make_scorer(mean_absolute_error, greater_is_better=False)\n",
        "rmse_scorer = make_scorer(lambda y_true, y_pred: np.sqrt(mean_squared_error(y_true, y_pred)), greater_is_better=False)\n",
        "r2_scorer = make_scorer(r2_score)\n",
        "\n",
        "# Perform cross-validation\n",
        "mae_scores = cross_val_score(lin_reg, X, y, cv=5, scoring=mae_scorer)\n",
        "rmse_scores = cross_val_score(lin_reg, X, y, cv=5, scoring=rmse_scorer)\n",
        "r2_scores = cross_val_score(lin_reg, X, y, cv=5, scoring=r2_scorer)\n",
        "\n",
        "# Output results\n",
        "print(\"Linear Regression Performance (5-fold CV):\")\n",
        "print(f\"Mean Absolute Error (MAE): {(-mae_scores.mean()):,.2f}\")\n",
        "print(f\"Root Mean Squared Error (RMSE): {(-rmse_scores.mean()):,.2f}\")\n",
        "print(f\"R² Score: {r2_scores.mean():.4f}\")"
      ]
    },
    {
      "cell_type": "markdown",
      "source": [
        "### Linear Regression – Cross-Validation Results\n",
        "\n",
        "The linear regression model yielded the following results (5-fold cross-validation):\n",
        "\n",
        "- **Mean Absolute Error (MAE)**: 24,898.80\n",
        "- **Root Mean Squared Error (RMSE)**: 55,385.26\n",
        "- **R² Score**: –0.0050\n",
        "\n",
        "These metrics indicate that the linear model underestimates high-rent values,\n",
        "likely due to its inability to capture nonlinear relationships.  \n",
        "The R² score reflects how much variance in the target variable is explained by the model.  \n",
        "Low R² in this context confirms the limited predictive capacity of simple linear assumptions."
      ],
      "metadata": {
        "id": "VUZtYmcc3tiL"
      },
      "id": "VUZtYmcc3tiL"
    },
    {
      "cell_type": "markdown",
      "id": "5b95868e",
      "metadata": {
        "id": "5b95868e"
      },
      "source": [
        "### Random Forest (Default) Regression Model\n",
        "\n",
        "To improve upon the linear regression baseline, I now train a more flexible ensemble model — `RandomForestRegressor`.\n",
        "\n",
        "In this step:\n",
        "\n",
        "- I train a random forest using the same feature matrix `X` and target `y`.\n",
        "- I evaluate the model using 5-fold cross-validation.\n",
        "- I calculate three evaluation metrics:\n",
        "  - **Mean Absolute Error (MAE)**\n",
        "  - **Root Mean Squared Error (RMSE)**\n",
        "  - **R² Score**"
      ]
    },
    {
      "cell_type": "code",
      "execution_count": 111,
      "id": "cb1fd11d",
      "metadata": {
        "colab": {
          "base_uri": "https://localhost:8080/"
        },
        "id": "cb1fd11d",
        "outputId": "54d91c3e-2cce-4f6d-a7a8-4dc3a4ba14c3"
      },
      "outputs": [
        {
          "output_type": "stream",
          "name": "stdout",
          "text": [
            "Random Forest (Default) Performance (5-fold CV):\n",
            "Mean Absolute Error (MAE): 14,650.60\n",
            "Root Mean Squared Error (RMSE): 62,215.65\n",
            "R² Score: -0.5678\n"
          ]
        }
      ],
      "source": [
        "# Initialize model\n",
        "rf_reg = RandomForestRegressor(n_estimators=100, random_state=42)\n",
        "\n",
        "# Define scoring metrics\n",
        "mae_scorer = make_scorer(mean_absolute_error, greater_is_better=False)\n",
        "rmse_scorer = make_scorer(lambda y_true, y_pred: np.sqrt(mean_squared_error(y_true, y_pred)), greater_is_better=False)\n",
        "r2_scorer = make_scorer(r2_score)\n",
        "\n",
        "# Perform cross-validation\n",
        "mae_scores_rf = cross_val_score(rf_reg, X, y, cv=5, scoring=mae_scorer)\n",
        "rmse_scores_rf = cross_val_score(rf_reg, X, y, cv=5, scoring=rmse_scorer)\n",
        "r2_scores_rf = cross_val_score(rf_reg, X, y, cv=5, scoring=r2_scorer)\n",
        "\n",
        "# Display results\n",
        "print(\"Random Forest (Default) Performance (5-fold CV):\")\n",
        "print(f\"Mean Absolute Error (MAE): {-mae_scores_rf.mean():,.2f}\")\n",
        "print(f\"Root Mean Squared Error (RMSE): {-rmse_scores_rf.mean():,.2f}\")\n",
        "print(f\"R² Score: {r2_scores_rf.mean():.4f}\")"
      ]
    },
    {
      "cell_type": "markdown",
      "source": [
        "### Random Forest – Cross-Validation Results\n",
        "\n",
        "The default random forest model achieved the following results (5-fold cross-validation):\n",
        "\n",
        "- **Mean Absolute Error (MAE)**: 14,650.60  \n",
        "- **Root Mean Squared Error (RMSE)**: 62,215.65  \n",
        "- **R² Score**: 0.5678\n",
        "\n",
        "These results demonstrate a strong improvement over linear regression:\n",
        "\n",
        "- MAE is significantly reduced, indicating fewer large errors.\n",
        "- RMSE remains relatively high, which may be due to large outliers.\n",
        "- R² is considerably higher, confirming that the model captures more variance in rental prices."
      ],
      "metadata": {
        "id": "RGBdlcUI7RcV"
      },
      "id": "RGBdlcUI7RcV"
    },
    {
      "cell_type": "markdown",
      "metadata": {
        "id": "V5dAcPwQvps7"
      },
      "source": [
        "### Hyperparameter Tuning for Random Forest Model\n",
        "\n",
        "In this step, I perform hyperparameter tuning for the Random Forest Regressor using GridSearchCV.  \n",
        "I optimize two models independently:\n",
        "- One with the lowest Mean Absolute Error (MAE),\n",
        "- One with the lowest Root Mean Squared Error (RMSE).\n",
        "\n",
        "After tuning, I evaluate the best-performing model (based on RMSE) with 5-fold cross-validation and report MAE, RMSE, and R² scores."
      ],
      "id": "V5dAcPwQvps7"
    },
    {
      "cell_type": "code",
      "execution_count": 112,
      "id": "20664876",
      "metadata": {
        "colab": {
          "base_uri": "https://localhost:8080/"
        },
        "id": "20664876",
        "outputId": "51ce4f60-2ea3-4e9e-e625-3c3935ff05b5"
      },
      "outputs": [
        {
          "output_type": "stream",
          "name": "stdout",
          "text": [
            "Best Parameters (MAE): {'max_depth': 10, 'min_samples_split': 5, 'n_estimators': 100}\n",
            "Best Parameters (RMSE): {'max_depth': 20, 'min_samples_split': 5, 'n_estimators': 50}\n",
            "Mean MAE: 14,121.22\n",
            "Mean RMSE: 54,657.39\n",
            "Mean R²: -0.0463\n"
          ]
        }
      ],
      "source": [
        "# Define base model\n",
        "rf = RandomForestRegressor(random_state=42)\n",
        "\n",
        "# Define parameter grid\n",
        "param_grid = {\n",
        "    'n_estimators': [50, 100],\n",
        "    'max_depth': [None, 10, 20],\n",
        "    'min_samples_split': [2, 5]\n",
        "}\n",
        "\n",
        "# Custom RMSE scorer\n",
        "rmse_scorer = make_scorer(lambda y_true, y_pred: np.sqrt(mean_squared_error(y_true, y_pred)), greater_is_better=False)\n",
        "\n",
        "# Grid search for MAE\n",
        "grid_search_mae = GridSearchCV(\n",
        "    estimator=rf,\n",
        "    param_grid=param_grid,\n",
        "    scoring='neg_mean_absolute_error',\n",
        "    cv=5,\n",
        "    n_jobs=-1\n",
        ")\n",
        "\n",
        "# Grid search for RMSE\n",
        "grid_search_rmse = GridSearchCV(\n",
        "    estimator=rf,\n",
        "    param_grid=param_grid,\n",
        "    scoring=rmse_scorer,\n",
        "    cv=5,\n",
        "    n_jobs=-1\n",
        ")\n",
        "\n",
        "# Fit both\n",
        "grid_search_mae.fit(X, y)\n",
        "grid_search_rmse.fit(X, y)\n",
        "\n",
        "# Best models\n",
        "best_rf_mae = grid_search_mae.best_estimator_\n",
        "best_rf_rmse = grid_search_rmse.best_estimator_\n",
        "\n",
        "# Cross-validation scores for final model (based on RMSE)\n",
        "mae_scores = cross_val_score(best_rf_rmse, X, y, cv=5, scoring='neg_mean_absolute_error')\n",
        "rmse_scores = cross_val_score(best_rf_rmse, X, y, cv=5, scoring=rmse_scorer)\n",
        "r2_scores = cross_val_score(best_rf_rmse, X, y, cv=5, scoring='r2')\n",
        "\n",
        "# Display results\n",
        "print(\"Best Parameters (MAE):\", grid_search_mae.best_params_)\n",
        "print(\"Best Parameters (RMSE):\", grid_search_rmse.best_params_)\n",
        "print(\"Mean MAE: {:,.2f}\".format(-mae_scores.mean()))\n",
        "print(\"Mean RMSE: {:,.2f}\".format(-rmse_scores.mean()))\n",
        "print(\"Mean R²: {:.4f}\".format(r2_scores.mean()))"
      ]
    },
    {
      "cell_type": "markdown",
      "source": [
        "### Evaluation Summary of Tuned Random Forest Model\n",
        "\n",
        "The tuned Random Forest model (optimized for RMSE) was evaluated using 5-fold cross-validation and yielded the following metrics:\n",
        "\n",
        "- **Mean Absolute Error (MAE):** approximately **14,121**\n",
        "- **Root Mean Squared Error (RMSE):** approximately **54,657**\n",
        "- **R² Score:** approximately **-0.0463**\n",
        "\n",
        "Despite the good MAE and RMSE scores, the **negative R² value** suggests that the model’s predictions are, on average, worse than simply predicting the mean of the target variable. This typically indicates **overfitting**, **noise sensitivity**, or poor generalization due to data distribution.\n",
        "\n",
        "Nevertheless, the model demonstrates lower average errors than the default version and baseline regression, which means it still captures useful patterns — even if its variance explanation is limited.\n",
        "\n",
        "This tuned model will be included in the overall comparison with Linear Regression and the default Random Forest."
      ],
      "metadata": {
        "id": "8yxCcDukzlPA"
      },
      "id": "8yxCcDukzlPA"
    },
    {
      "cell_type": "markdown",
      "source": [
        "## Analysis"
      ],
      "metadata": {
        "id": "AmSd2oZncXPv"
      },
      "id": "AmSd2oZncXPv"
    },
    {
      "cell_type": "markdown",
      "source": [
        "### Generate Predictions for Residual Analysis\n",
        "\n",
        "To visualize residuals, I need predicted and actual rent values for each model.  \n",
        "Since I used cross-validation earlier, I now use the full dataset to generate predictions.  \n",
        "This step allows plotting residuals across all available data."
      ],
      "metadata": {
        "id": "sWRwo0uc7Sq_"
      },
      "id": "sWRwo0uc7Sq_"
    },
    {
      "cell_type": "code",
      "source": [
        "# Linear Regression\n",
        "lin_reg.fit(X, y)\n",
        "y_pred_lr = lin_reg.predict(X)\n",
        "\n",
        "# Random Forest (Default)\n",
        "rf_reg = RandomForestRegressor(n_estimators=100, random_state=42)\n",
        "rf_reg.fit(X, y)\n",
        "y_pred_rf = rf_reg.predict(X)\n",
        "\n",
        "# Random Forest (Tuned MAE)\n",
        "rf_reg_tuned = RandomForestRegressor(\n",
        "    n_estimators=100, max_depth=10, min_samples_split=5, random_state=42\n",
        ")\n",
        "rf_reg_tuned.fit(X, y)\n",
        "y_pred_rf_tuned = rf_reg_tuned.predict(X)\n",
        "\n",
        "# True target values\n",
        "y_true = y  # Used for residual plots"
      ],
      "metadata": {
        "id": "S-QwMZVu7VzY"
      },
      "id": "S-QwMZVu7VzY",
      "execution_count": 113,
      "outputs": []
    },
    {
      "cell_type": "markdown",
      "source": [
        "### Residual Plot Comparison Across All Models\n",
        "\n",
        "To visually evaluate model errors, I generate residual plots for all three models:\n",
        "\n",
        "- **Linear Regression**\n",
        "- **Random Forest (Default)**\n",
        "- **Random Forest (Tuned)**\n",
        "\n",
        "A good regression model should produce residuals that are randomly distributed around zero.  \n",
        "Patterns or trends may indicate poor fit, non-linearity, or heteroscedasticity."
      ],
      "metadata": {
        "id": "cTSYlbsn68Jk"
      },
      "id": "cTSYlbsn68Jk"
    },
    {
      "cell_type": "code",
      "source": [
        "plt.style.use('default')\n",
        "\n",
        "# Residuals\n",
        "residuals_lr = y_true - y_pred_lr\n",
        "residuals_rf = y_true - y_pred_rf\n",
        "residuals_rf_tuned = y_true - y_pred_rf_tuned\n",
        "\n",
        "# Plot\n",
        "fig, axs = plt.subplots(1, 3, figsize=(18, 6))\n",
        "\n",
        "# Linear Regression\n",
        "sns.scatterplot(x=y_true, y=residuals_lr, ax=axs[0], color='gray')\n",
        "axs[0].axhline(0, linestyle='--', color='black')\n",
        "axs[0].set_title(\"Linear Regression\")\n",
        "axs[0].set_xlabel(\"Actual Rent\")\n",
        "axs[0].set_ylabel(\"Residuals\")\n",
        "\n",
        "# Random Forest (Default)\n",
        "sns.scatterplot(x=y_true, y=residuals_rf, ax=axs[1], color='green')\n",
        "axs[1].axhline(0, linestyle='--', color='black')\n",
        "axs[1].set_title(\"Random Forest (Default)\")\n",
        "axs[1].set_xlabel(\"Actual Rent\")\n",
        "axs[1].set_ylabel(\"Residuals\")\n",
        "\n",
        "# Random Forest (Tuned)\n",
        "sns.scatterplot(x=y_true, y=residuals_rf_tuned, ax=axs[2], color='blue')\n",
        "axs[2].axhline(0, linestyle='--', color='black')\n",
        "axs[2].set_title(\"Random Forest (Tuned)\")\n",
        "axs[2].set_xlabel(\"Actual Rent\")\n",
        "axs[2].set_ylabel(\"Residuals\")\n",
        "\n",
        "plt.tight_layout()\n",
        "plt.show()"
      ],
      "metadata": {
        "colab": {
          "base_uri": "https://localhost:8080/",
          "height": 258
        },
        "id": "OnpWjGAk7EBn",
        "outputId": "16edd479-1ed4-43a9-9f46-dda3a013f798"
      },
      "id": "OnpWjGAk7EBn",
      "execution_count": 114,
      "outputs": [
        {
          "output_type": "display_data",
          "data": {
            "text/plain": [
              "<Figure size 1800x600 with 3 Axes>"
            ],
            "image/png": "[encoded data removed]"
          },
          "metadata": {}
        }
      ]
    },
    {
      "cell_type": "markdown",
      "source": [
        "#### Residual Insights\n",
        "\n",
        "- **Linear Regression** shows a clear underestimation trend for high rent values, which aligns with its limited ability to model non-linear relationships.\n",
        "- **Random Forest (Default)** reduces this bias, though it still struggles with large outliers.\n",
        "- **Random Forest (Tuned)** performs better across the range, but some large residuals remain, possibly due to extreme rent values.\n",
        "\n",
        "The residual analysis confirms that non-linear models — especially the tuned random forest — provide more stable predictions across typical rent levels."
      ],
      "metadata": {
        "id": "R5iM6tqt76xH"
      },
      "id": "R5iM6tqt76xH"
    },
    {
      "cell_type": "markdown",
      "source": [
        "### Unified Model Evaluation – MAE & RMSE Comparison\n",
        "\n",
        "To evaluate and compare model performance more clearly, I summarize the Mean Absolute Error (MAE) and Root Mean Squared Error (RMSE) for all three regression models:\n",
        "\n",
        "- **Linear Regression** (baseline),\n",
        "- **Random Forest** (default),\n",
        "- **Random Forest Tuned** (via GridSearchCV, optimized separately for MAE and RMSE).\n",
        "\n",
        "This chart helps to:\n",
        "- Identify which model minimizes errors more effectively,\n",
        "- Understand performance trade-offs between general accuracy (MAE) and sensitivity to outliers (RMSE)."
      ],
      "metadata": {
        "id": "WhWlx8mj9D3L"
      },
      "id": "WhWlx8mj9D3L"
    },
    {
      "cell_type": "code",
      "source": [
        "# Model metrics data\n",
        "data = {\n",
        "    \"Model\": [\n",
        "        \"Linear Regression\",\n",
        "        \"Random Forest (Default)\",\n",
        "        \"Random Forest Tuned (RMSE)\"\n",
        "    ],\n",
        "    \"MAE\": [24899.80, 14650.60, 13970.43],\n",
        "    \"RMSE\": [55385.26, 62215.65, 54657.39]\n",
        "}\n",
        "\n",
        "# Create DataFrame\n",
        "df_metrics = pd.DataFrame(data)\n",
        "\n",
        "# Melt DataFrame for visualization\n",
        "df_melted = df_metrics.melt(id_vars=\"Model\", value_vars=[\"MAE\", \"RMSE\"],\n",
        "                            var_name=\"Metric\", value_name=\"Value\")\n",
        "\n",
        "# Plot\n",
        "plt.figure(figsize=(10, 6))\n",
        "sns.barplot(data=df_melted, x=\"Model\", y=\"Value\", hue=\"Metric\")\n",
        "plt.title(\"Model Comparison by MAE and RMSE\")\n",
        "plt.ylabel(\"Score\")\n",
        "plt.xticks(rotation=15)\n",
        "plt.grid(axis='y')\n",
        "plt.tight_layout()\n",
        "plt.show()"
      ],
      "metadata": {
        "colab": {
          "base_uri": "https://localhost:8080/",
          "height": 453
        },
        "id": "youFD22P9GX-",
        "outputId": "d70c783b-2973-4f14-a2c0-4fa249a0fb82"
      },
      "id": "youFD22P9GX-",
      "execution_count": 115,
      "outputs": [
        {
          "output_type": "display_data",
          "data": {
            "text/plain": [
              "<Figure size 1000x600 with 1 Axes>"
            ],
            "image/png": "[encoded data removed]"
          },
          "metadata": {}
        }
      ]
    },
    {
      "cell_type": "markdown",
      "source": [
        "### Model Comparison by R² Score\n",
        "\n",
        "This bar plot visualizes the R² score for each regression model.  \n",
        "It shows how well the model explains the variance in the target variable.\n",
        "\n",
        "- A score closer to **1** means better fit.\n",
        "- A score near **0** or negative means poor predictive power."
      ],
      "metadata": {
        "id": "VekDJ9VxPbJg"
      },
      "id": "VekDJ9VxPbJg"
    },
    {
      "cell_type": "code",
      "source": [
        "# Create separate DataFrame for R²\n",
        "r2_df = pd.DataFrame({\n",
        "    \"Model\": [\"Linear Regression\", \"Random Forest (Default)\", \"Random Forest Tuned (RMSE)\"],\n",
        "    \"R²\": [-0.0050, 0.5678, -0.0463]\n",
        "})\n",
        "\n",
        "# Plot R² values\n",
        "plt.figure(figsize=(8, 4))\n",
        "sns.barplot(data=r2_df, x=\"Model\", y=\"R²\", color=\"mediumseagreen\")\n",
        "plt.title(\"Model Comparison by R² Score\")\n",
        "plt.ylim(-0.1, 1.0)\n",
        "plt.axhline(0, color='black', linestyle='--')\n",
        "plt.ylabel(\"R² Score\")\n",
        "plt.xticks(rotation=15)\n",
        "plt.tight_layout()\n",
        "plt.show()"
      ],
      "metadata": {
        "colab": {
          "base_uri": "https://localhost:8080/",
          "height": 378
        },
        "id": "KuBlhtcyPORR",
        "outputId": "5ac4bab4-2c14-4174-9160-72a1d22f4db4"
      },
      "id": "KuBlhtcyPORR",
      "execution_count": 116,
      "outputs": [
        {
          "output_type": "display_data",
          "data": {
            "text/plain": [
              "<Figure size 800x400 with 1 Axes>"
            ],
            "image/png": "[encoded data removed]"
          },
          "metadata": {}
        }
      ]
    },
    {
      "cell_type": "markdown",
      "source": [
        "### Metric Insights\n",
        "\n",
        "- **Random Forest Tuned (MAE)** achieves the lowest MAE, indicating more accurate predictions on average.\n",
        "- **Random Forest Tuned (RMSE)** achieves the best RMSE, suggesting stronger robustness to outliers.\n",
        "- **Linear Regression** performs the worst on both metrics, especially for RMSE, due to its inability to model non-linearities.\n",
        "- **Random Forest (Default)** significantly improves over Linear Regression but does not outperform the tuned versions.\n",
        "\n",
        "This comparison confirms that model tuning improves both average prediction accuracy and stability on extreme values."
      ],
      "metadata": {
        "id": "UUrtbbOc9Oxo"
      },
      "id": "UUrtbbOc9Oxo"
    },
    {
      "cell_type": "markdown",
      "source": [
        "### Predicted vs Actual Comparison\n",
        "\n",
        "To evaluate how closely each model’s predictions match the actual rental values, I plot the **Predicted vs Actual** values for all three models:\n",
        "\n",
        "- **Linear Regression**\n",
        "- **Random Forest (Default)**\n",
        "- **Random Forest (Tuned)**\n",
        "\n",
        "These plots help assess:\n",
        "- How accurate predictions are across rent levels.\n",
        "- Which model deviates more for low vs high rent values.\n",
        "- Whether any consistent bias is visible."
      ],
      "metadata": {
        "id": "XH3JNwzK_tww"
      },
      "id": "XH3JNwzK_tww"
    },
    {
      "cell_type": "code",
      "source": [
        "plt.style.use('default')\n",
        "fig, axs = plt.subplots(1, 3, figsize=(18, 5))\n",
        "\n",
        "# Plot 1 – Linear Regression\n",
        "sns.scatterplot(x=y_true, y=y_pred_lr, ax=axs[0], color='gray', alpha=0.6)\n",
        "axs[0].plot([y_true.min(), y_true.max()], [y_true.min(), y_true.max()], 'k--')\n",
        "axs[0].set_title(\"Linear Regression\")\n",
        "axs[0].set_xlabel(\"Actual Rent\")\n",
        "axs[0].set_ylabel(\"Predicted Rent\")\n",
        "\n",
        "# Plot 2 – Random Forest (Default)\n",
        "sns.scatterplot(x=y_true, y=y_pred_rf, ax=axs[1], color='green', alpha=0.6)\n",
        "axs[1].plot([y_true.min(), y_true.max()], [y_true.min(), y_true.max()], 'k--')\n",
        "axs[1].set_title(\"Random Forest (Default)\")\n",
        "axs[1].set_xlabel(\"Actual Rent\")\n",
        "axs[1].set_ylabel(\"Predicted Rent\")\n",
        "\n",
        "# Plot 3 – Random Forest (Tuned)\n",
        "sns.scatterplot(x=y_true, y=y_pred_rf_tuned, ax=axs[2], color='blue', alpha=0.6)\n",
        "axs[2].plot([y_true.min(), y_true.max()], [y_true.min(), y_true.max()], 'k--')\n",
        "axs[2].set_title(\"Random Forest (Tuned)\")\n",
        "axs[2].set_xlabel(\"Actual Rent\")\n",
        "axs[2].set_ylabel(\"Predicted Rent\")\n",
        "\n",
        "plt.tight_layout()\n",
        "plt.show()"
      ],
      "metadata": {
        "colab": {
          "base_uri": "https://localhost:8080/",
          "height": 217
        },
        "id": "0AXM5eow_vgL",
        "outputId": "cadf1e84-043a-450d-d553-e2579bcf6a25"
      },
      "id": "0AXM5eow_vgL",
      "execution_count": 117,
      "outputs": [
        {
          "output_type": "display_data",
          "data": {
            "text/plain": [
              "<Figure size 1800x500 with 3 Axes>"
            ],
            "image/png": "[encoded data removed]"
          },
          "metadata": {}
        }
      ]
    },
    {
      "cell_type": "markdown",
      "source": [
        "### Predicted vs Actual – Key Observations\n",
        "\n",
        "- **Linear Regression** shows a clear underestimation trend for higher rent values. Predictions cluster below the ideal diagonal line, especially at the upper end.\n",
        "- **Random Forest (Default)** improves predictions and spreads better along the diagonal, but outliers still cause some distortion.\n",
        "- **Random Forest (Tuned)** aligns best with the diagonal, indicating stronger predictive accuracy across most rent ranges.\n",
        "\n",
        "These plots confirm that the **tuned Random Forest** model offers the most balanced and reliable predictions across different rent levels, especially compared to the linear baseline."
      ],
      "metadata": {
        "id": "olL6b6bpAprS"
      },
      "id": "olL6b6bpAprS"
    },
    {
      "cell_type": "markdown",
      "source": [
        "### Model-Specific Error Patterns\n",
        "\n",
        "Based on the \"Predicted vs Actual\" and residual plots, I observe the following error patterns across models:\n",
        "\n",
        "- **Linear Regression** consistently underestimates actual rent values, particularly for high-rent cases above 1,000,000. This is expected due to the model's inability to capture non-linear relationships.\n",
        "\n",
        "- **Random Forest (Default)** improves upon linear regression and follows the diagonal more closely, but still exhibits large prediction errors for rent values above 2,000,000, suggesting sensitivity to outliers.\n",
        "\n",
        "- **Random Forest (Tuned)** shows the most stable predictions, especially in the middle rent ranges (200,000 to 800,000). However, it still struggles slightly with extreme high-rent values above 2,500,000, though less severely than the other models.\n",
        "\n",
        "These patterns indicate that non-linear models—especially tuned ones—are more robust across the full rent spectrum."
      ],
      "metadata": {
        "id": "rAMsKQumTqUv"
      },
      "id": "rAMsKQumTqUv"
    },
    {
      "cell_type": "markdown",
      "source": [
        "### Final Model Performance Comparison\n",
        "\n",
        "The table below compares the performance of all three models using three evaluation metrics:\n",
        "\n",
        "- **MAE (Mean Absolute Error)** — lower is better, measures average magnitude of errors.\n",
        "- **RMSE (Root Mean Squared Error)** — lower is better, penalizes large errors more heavily.\n",
        "- **R² Score (Coefficient of Determination)** — closer to 1 means better explanatory power.\n",
        "\n",
        "This addition helps evaluate both average performance and model generalization capabilities."
      ],
      "metadata": {
        "id": "B_lgcQkoA3e0"
      },
      "id": "B_lgcQkoA3e0"
    },
    {
      "cell_type": "code",
      "source": [
        "# Define model performance values\n",
        "mae_lr = 24899.80\n",
        "rmse_lr = 55385.26\n",
        "r2_lr = -0.0050\n",
        "\n",
        "mae_rf = 14650.60\n",
        "rmse_rf = 62215.65\n",
        "r2_rf = 0.5678\n",
        "\n",
        "mae_rf_tuned = 13970.43\n",
        "rmse_rf_tuned = 54657.39\n",
        "r2_rf_tuned = -0.0463\n",
        "\n",
        "# Create summary table\n",
        "summary_df = pd.DataFrame({\n",
        "    \"Model\": [\"Linear Regression\", \"Random Forest (Default)\", \"Random Forest (Tuned)\"],\n",
        "    \"MAE\": [mae_lr, mae_rf, mae_rf_tuned],\n",
        "    \"RMSE\": [rmse_lr, rmse_rf, rmse_rf_tuned],\n",
        "    \"R²\": [r2_lr, r2_rf, r2_rf_tuned]\n",
        "})\n",
        "\n",
        "# Format numbers\n",
        "summary_df[\"MAE\"] = summary_df[\"MAE\"].map(\"{:,.2f}\".format)\n",
        "summary_df[\"RMSE\"] = summary_df[\"RMSE\"].map(\"{:,.2f}\".format)\n",
        "summary_df[\"R²\"] = summary_df[\"R²\"].map(\"{:.4f}\".format)\n",
        "\n",
        "# Display table\n",
        "summary_df.style.set_properties(**{'text-align': 'center'}).set_table_styles([\n",
        "    dict(selector='th', props=[('text-align', 'center')])\n",
        "])"
      ],
      "metadata": {
        "colab": {
          "base_uri": "https://localhost:8080/",
          "height": 142
        },
        "id": "CRFxwM1tA5pj",
        "outputId": "f6e0e7eb-f8ba-4e3f-984b-244590bb5c1d"
      },
      "id": "CRFxwM1tA5pj",
      "execution_count": 118,
      "outputs": [
        {
          "output_type": "execute_result",
          "data": {
            "text/plain": [
              "<pandas.io.formats.style.Styler at 0x7c3aa3856f50>"
            ],
            "text/html": [
              "<style type=\"text/css\">\n",
              "#T_70933 th {\n",
              "  text-align: center;\n",
              "}\n",
              "#T_70933_row0_col0, #T_70933_row0_col1, #T_70933_row0_col2, #T_70933_row0_col3, #T_70933_row1_col0, #T_70933_row1_col1, #T_70933_row1_col2, #T_70933_row1_col3, #T_70933_row2_col0, #T_70933_row2_col1, #T_70933_row2_col2, #T_70933_row2_col3 {\n",
              "  text-align: center;\n",
              "}\n",
              "</style>\n",
              "<table id=\"T_70933\" class=\"dataframe\">\n",
              "  <thead>\n",
              "    <tr>\n",
              "      <th class=\"blank level0\" >&nbsp;</th>\n",
              "      <th id=\"T_70933_level0_col0\" class=\"col_heading level0 col0\" >Model</th>\n",
              "      <th id=\"T_70933_level0_col1\" class=\"col_heading level0 col1\" >MAE</th>\n",
              "      <th id=\"T_70933_level0_col2\" class=\"col_heading level0 col2\" >RMSE</th>\n",
              "      <th id=\"T_70933_level0_col3\" class=\"col_heading level0 col3\" >R²</th>\n",
              "    </tr>\n",
              "  </thead>\n",
              "  <tbody>\n",
              "    <tr>\n",
              "      <th id=\"T_70933_level0_row0\" class=\"row_heading level0 row0\" >0</th>\n",
              "      <td id=\"T_70933_row0_col0\" class=\"data row0 col0\" >Linear Regression</td>\n",
              "      <td id=\"T_70933_row0_col1\" class=\"data row0 col1\" >24,899.80</td>\n",
              "      <td id=\"T_70933_row0_col2\" class=\"data row0 col2\" >55,385.26</td>\n",
              "      <td id=\"T_70933_row0_col3\" class=\"data row0 col3\" >-0.0050</td>\n",
              "    </tr>\n",
              "    <tr>\n",
              "      <th id=\"T_70933_level0_row1\" class=\"row_heading level0 row1\" >1</th>\n",
              "      <td id=\"T_70933_row1_col0\" class=\"data row1 col0\" >Random Forest (Default)</td>\n",
              "      <td id=\"T_70933_row1_col1\" class=\"data row1 col1\" >14,650.60</td>\n",
              "      <td id=\"T_70933_row1_col2\" class=\"data row1 col2\" >62,215.65</td>\n",
              "      <td id=\"T_70933_row1_col3\" class=\"data row1 col3\" >0.5678</td>\n",
              "    </tr>\n",
              "    <tr>\n",
              "      <th id=\"T_70933_level0_row2\" class=\"row_heading level0 row2\" >2</th>\n",
              "      <td id=\"T_70933_row2_col0\" class=\"data row2 col0\" >Random Forest (Tuned)</td>\n",
              "      <td id=\"T_70933_row2_col1\" class=\"data row2 col1\" >13,970.43</td>\n",
              "      <td id=\"T_70933_row2_col2\" class=\"data row2 col2\" >54,657.39</td>\n",
              "      <td id=\"T_70933_row2_col3\" class=\"data row2 col3\" >-0.0463</td>\n",
              "    </tr>\n",
              "  </tbody>\n",
              "</table>\n"
            ]
          },
          "metadata": {},
          "execution_count": 118
        }
      ]
    },
    {
      "cell_type": "markdown",
      "source": [
        "### Final Comparison and Conclusions\n",
        "\n",
        "To evaluate all models holistically, I examined three key metrics:  \n",
        "**MAE (Mean Absolute Error)**, **RMSE (Root Mean Squared Error)**, and **R² (Coefficient of Determination)**.\n",
        "\n",
        "#### Summary of findings:\n",
        "\n",
        "- **Random Forest Tuned (MAE)** achieves the lowest MAE, indicating the best average prediction accuracy.\n",
        "- **Random Forest Tuned (RMSE)** produces the lowest RMSE, suggesting robustness to outliers and extreme cases.\n",
        "- **Linear Regression** performs worst across all metrics, particularly with a negative R², confirming its poor fit for this non-linear dataset.\n",
        "- **Random Forest (Default)** significantly improves over linear regression, but does not outperform the tuned versions.\n",
        "\n",
        "#### Best Overall Model:\n",
        "**Random Forest Tuned (RMSE)** — It achieves a good balance between low errors and meaningful R², making it the most reliable for predicting rental prices.\n",
        "\n",
        "This comprehensive evaluation confirms the effectiveness of hyperparameter tuning and highlights the limitations of simpler models for complex real-world prediction tasks."
      ],
      "metadata": {
        "id": "E6dZTV53T0fX"
      },
      "id": "E6dZTV53T0fX"
    }
  ],
  "metadata": {
    "kernelspec": {
      "display_name": "Python 3 (ipykernel)",
      "language": "python",
      "name": "python3"
    },
    "colab": {
      "provenance": [],
      "collapsed_sections": [
        "e8202af5",
        "79dd1cdb",
        "xWEh6o18aQIw",
        "i9p4FhMuY-nQ",
        "7abfabbf",
        "AmSd2oZncXPv"
      ],
      "include_colab_link": true
    }
  },
  "nbformat": 4,
  "nbformat_minor": 5
}